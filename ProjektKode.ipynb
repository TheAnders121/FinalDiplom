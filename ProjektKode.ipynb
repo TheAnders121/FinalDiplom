{
  "nbformat": 4,
  "nbformat_minor": 0,
  "metadata": {
    "colab": {
      "provenance": [],
      "collapsed_sections": [],
      "authorship_tag": "ABX9TyM4lgqYLKXCiCrTCELzvTKd",
      "include_colab_link": true
    },
    "kernelspec": {
      "name": "python3",
      "display_name": "Python 3"
    },
    "language_info": {
      "name": "python"
    }
  },
  "cells": [
    {
      "cell_type": "markdown",
      "metadata": {
        "id": "view-in-github",
        "colab_type": "text"
      },
      "source": [
        "<a href=\"https://colab.research.google.com/github/TheAnders121/TestRepo/blob/main/ProjektKode.ipynb\" target=\"_parent\"><img src=\"https://colab.research.google.com/assets/colab-badge.svg\" alt=\"Open In Colab\"/></a>"
      ]
    },
    {
      "cell_type": "markdown",
      "source": [
        "**Import libraries**"
      ],
      "metadata": {
        "id": "XntZcSbJkHBu"
      }
    },
    {
      "cell_type": "code",
      "source": [
        "import os\n",
        "import datetime\n",
        "import time\n",
        "\n",
        "from datetime import datetime, timedelta\n",
        "\n",
        "import IPython\n",
        "import IPython.display\n",
        "import matplotlib as mpl\n",
        "import matplotlib.pyplot as plt\n",
        "import numpy as np\n",
        "import pandas as pd\n",
        "import seaborn as sns\n",
        "import tensorflow as tf\n",
        "from tensorflow import keras\n",
        "from sklearn.preprocessing import RobustScaler\n",
        "import json\n",
        "import requests"
      ],
      "metadata": {
        "id": "8Fwh5TCxkFVy"
      },
      "execution_count": 3,
      "outputs": []
    },
    {
      "cell_type": "markdown",
      "source": [
        "**Configurations**"
      ],
      "metadata": {
        "id": "GLuMBI8ZkQHA"
      }
    },
    {
      "cell_type": "code",
      "source": [
        "MAX_EPOCHS = 20\n",
        "\n",
        "multi_val_performance = {}\n",
        "multi_performance = {}\n",
        "\n",
        "inputTransformer = RobustScaler()\n",
        "outputTransformer = RobustScaler()\n",
        "\n",
        "#Paths\n",
        "model_path = '/content/saved_model/my_model'\n",
        "rData_path = 'data.csv'\n",
        "wData_path = ''\n",
        "plot_path = ''\n",
        "\n",
        "#Model columns\n",
        "direct = 'DirectSunPower kW/m²'\n",
        "diffused = 'DiffuseSunPower kW/m²'\n",
        "sunAltitude = 'SunAltitude °'\n",
        "inputColumn = diffused\n",
        "outputColumn = sunAltitude\n",
        "\n",
        "#Model construction\n",
        "steps = 24\n",
        "inputColumns = 2\n",
        "inputShape = [steps, inputColumns]\n",
        "\n",
        "#Model compilation, fitting and optimization\n",
        "optimizationAlgorithm = tf.keras.optimizers.Adam()\n",
        "\n",
        "#API paths \n",
        "POST = 'somePath'\n",
        "GET = 'somePath'\n",
        "\n",
        "#Scheduler\n",
        "hours = 1\n"
      ],
      "metadata": {
        "id": "2nMSyYpUkSfd"
      },
      "execution_count": 2,
      "outputs": []
    },
    {
      "cell_type": "markdown",
      "source": [
        "**Data windowing**"
      ],
      "metadata": {
        "id": "3xL6n9PIodw0"
      }
    },
    {
      "cell_type": "code",
      "source": [],
      "metadata": {
        "id": "xSTA6pwTog-j"
      },
      "execution_count": null,
      "outputs": []
    },
    {
      "cell_type": "markdown",
      "source": [
        "**Split data**"
      ],
      "metadata": {
        "id": "u3CGH3DrM1PR"
      }
    },
    {
      "cell_type": "code",
      "source": [
        "def splitData(data):\n",
        "  n = len(data)\n",
        "  train = data[0:int(n*0.9)] #first 90%\n",
        "  test = data[int(n*0.9):] #left over 10%\n",
        "  return [train, test]"
      ],
      "metadata": {
        "id": "EXlhrN6fM5dB"
      },
      "execution_count": null,
      "outputs": []
    },
    {
      "cell_type": "markdown",
      "source": [
        "**Create dataset**"
      ],
      "metadata": {
        "id": "-8OPgj64NmKM"
      }
    },
    {
      "cell_type": "code",
      "source": [
        "def createDatasets(input, output, timeSteps):\n",
        "  inputList, outputList = [], []\n",
        "  for i in range(len(input) - timeSteps):\n",
        "    val = input.iloc[i: (i + timeSteps)].to_numpy()\n",
        "    inputList.append(val)\n",
        "    outputList.append(output.iloc[i + timeSteps])\n",
        "  return np.array(inputList), np.array(outputList)"
      ],
      "metadata": {
        "id": "1mnGTAs1NpLr"
      },
      "execution_count": null,
      "outputs": []
    },
    {
      "cell_type": "markdown",
      "source": [
        "**Reshape data**"
      ],
      "metadata": {
        "id": "zbfu3IEKNPtq"
      }
    },
    {
      "cell_type": "code",
      "source": [
        "def reshapeData(data, steps):\n",
        "  input, output = createDatasets(data, data[outputColumn], steps)\n",
        "  return [input, output]"
      ],
      "metadata": {
        "id": "XsnyV8ojNSrK"
      },
      "execution_count": null,
      "outputs": []
    },
    {
      "cell_type": "markdown",
      "source": [
        "**Transform data**"
      ],
      "metadata": {
        "id": "o7J9nkG9MTwp"
      }
    },
    {
      "cell_type": "code",
      "source": [
        "def transformData(data):\n",
        "  \n",
        "  return"
      ],
      "metadata": {
        "id": "QxdFjXi8MXmT"
      },
      "execution_count": null,
      "outputs": []
    },
    {
      "cell_type": "markdown",
      "source": [
        "**Inverse transform data**"
      ],
      "metadata": {
        "id": "jvOmqS-vMr9n"
      }
    },
    {
      "cell_type": "code",
      "source": [],
      "metadata": {
        "id": "jYUOoZzyMv5I"
      },
      "execution_count": null,
      "outputs": []
    },
    {
      "cell_type": "markdown",
      "source": [
        "**To json string**"
      ],
      "metadata": {
        "id": "Ix3j7uJGHK5f"
      }
    },
    {
      "cell_type": "code",
      "source": [
        "def toJson(string):\n",
        "  return json.dumps(string)"
      ],
      "metadata": {
        "id": "bmfwqHgVHUvp"
      },
      "execution_count": null,
      "outputs": []
    },
    {
      "cell_type": "markdown",
      "source": [
        "**Convert Json string**"
      ],
      "metadata": {
        "id": "zCZ4fsGyHer0"
      }
    },
    {
      "cell_type": "code",
      "source": [
        "def toNormal(string):\n",
        "  return json.loads(string)"
      ],
      "metadata": {
        "id": "vsTSeS7cHxMQ"
      },
      "execution_count": null,
      "outputs": []
    },
    {
      "cell_type": "markdown",
      "source": [
        "**Write predictions to file**"
      ],
      "metadata": {
        "id": "DlsEW5HHIaed"
      }
    },
    {
      "cell_type": "code",
      "source": [
        "def writePredictions(string):\n",
        "  # Append-adds at last\n",
        "  file1 = open(wData_path, \"w\")  #write mode (overwrite previous predictions)\n",
        "  file1.write(string)\n",
        "  file1.close()"
      ],
      "metadata": {
        "id": "b7APolzjIzzl"
      },
      "execution_count": null,
      "outputs": []
    },
    {
      "cell_type": "markdown",
      "source": [
        "**Upload predictions**"
      ],
      "metadata": {
        "id": "sK6zf7Q1J2lB"
      }
    },
    {
      "cell_type": "code",
      "source": [
        "def uploadPredictions(): \n",
        "  api_url = \"https://jsonplaceholder.typicode.com/todos\"\n",
        "  todo = {\"userId\": 1, \"title\": \"Buy milk\", \"completed\": False}\n",
        "  response = requests.post(api_url, json=todo)\n",
        "  return response.status_code"
      ],
      "metadata": {
        "id": "uiFyJIa4J6Q1"
      },
      "execution_count": null,
      "outputs": []
    },
    {
      "cell_type": "markdown",
      "source": [
        "**Build model**"
      ],
      "metadata": {
        "id": "IrkncSLOzpwo"
      }
    },
    {
      "cell_type": "code",
      "source": [
        "def buildModel():\n",
        "  model = keras.Sequential()\n",
        "  model.add(\n",
        "    keras.layers.Bidirectional(\n",
        "      keras.layers.LSTM(\n",
        "        units=128, \n",
        "        input_shape=inputShape\n",
        "      )\n",
        "    )\n",
        "  )\n",
        "  model.add(keras.layers.Dropout(rate=0.2))\n",
        "  model.add(keras.layers.Dense(units=1))\n",
        "  return model"
      ],
      "metadata": {
        "id": "b7GiBGc5zsah"
      },
      "execution_count": null,
      "outputs": []
    },
    {
      "cell_type": "markdown",
      "source": [
        "**Compile and fit model**"
      ],
      "metadata": {
        "id": "tmV4EfV6dgkt"
      }
    },
    {
      "cell_type": "code",
      "execution_count": null,
      "metadata": {
        "id": "E91oDo9EdTO9"
      },
      "outputs": [],
      "source": [
        "def compile(model, patience=2):\n",
        "  early_stopping = tf.keras.callbacks.EarlyStopping(monitor='val_loss',\n",
        "                                                    patience=patience,\n",
        "                                                    mode='min')\n",
        "\n",
        "  model.compile(loss=tf.keras.losses.MeanSquaredError(),\n",
        "                optimizer=optimizationAlgorithm,\n",
        "                metrics=[tf.keras.metrics.MeanAbsoluteError()])\n",
        "  return model"
      ]
    },
    {
      "cell_type": "markdown",
      "source": [
        "**Fit model**"
      ],
      "metadata": {
        "id": "18EFaCJum0en"
      }
    },
    {
      "cell_type": "code",
      "source": [
        "def fit(model, input, output):\n",
        "  history = model.fit(\n",
        "    input, output,\n",
        "    epochs=20,\n",
        "    batch_size=32,\n",
        "    validation_split=0.1,\n",
        "    shuffle=False\n",
        "  )\n",
        "  return history"
      ],
      "metadata": {
        "id": "1Ok_hjZGm3Vs"
      },
      "execution_count": null,
      "outputs": []
    },
    {
      "cell_type": "markdown",
      "source": [
        "**Save weights**"
      ],
      "metadata": {
        "id": "3QvTSKQJXf_5"
      }
    },
    {
      "cell_type": "code",
      "source": [],
      "metadata": {
        "id": "DzqspMYtXh61"
      },
      "execution_count": null,
      "outputs": []
    },
    {
      "cell_type": "markdown",
      "source": [
        "**Load weights**"
      ],
      "metadata": {
        "id": "mgd2el5bXiTY"
      }
    },
    {
      "cell_type": "code",
      "source": [],
      "metadata": {
        "id": "2DysKihoXk4G"
      },
      "execution_count": null,
      "outputs": []
    },
    {
      "cell_type": "markdown",
      "source": [
        "**Save model**"
      ],
      "metadata": {
        "id": "_eMGeZpmdbHk"
      }
    },
    {
      "cell_type": "code",
      "source": [
        "#model - model that is to be saved (needs to be a tf.keras.model object)\n",
        "#path - under which path the model will be saved (and can be accessed)\n",
        "def save_model(model, path):\n",
        "  model.save(path)"
      ],
      "metadata": {
        "id": "nDaEv_kqqeBJ"
      },
      "execution_count": null,
      "outputs": []
    },
    {
      "cell_type": "markdown",
      "source": [
        "**Load model**"
      ],
      "metadata": {
        "id": "FQu2OnqGdeVr"
      }
    },
    {
      "cell_type": "code",
      "source": [
        "#path - under which path the model will be accessible\n",
        "def load_model(path):\n",
        "  new_model = tf.keras.models.load_model(path)\n",
        "\n",
        "  return new_model"
      ],
      "metadata": {
        "id": "vDiBAVprrioI"
      },
      "execution_count": null,
      "outputs": []
    },
    {
      "cell_type": "markdown",
      "source": [
        "**Load data**"
      ],
      "metadata": {
        "id": "8ERK6FF6d_X_"
      }
    },
    {
      "cell_type": "code",
      "source": [
        "#path - path to where the data is to be loaded from \n",
        "def load_data(path):\n",
        "  dt = pd.read_csv(rData_path, sep=\";\",thousands='.', decimal=',') #read csv file with ';' as seperator and ',' as decimal marker (will be converted to '.')\n",
        "  return dt"
      ],
      "metadata": {
        "id": "r_4vs6kwx515"
      },
      "execution_count": null,
      "outputs": []
    },
    {
      "cell_type": "markdown",
      "source": [
        "**Process data**"
      ],
      "metadata": {
        "id": "cpCyy89p8XKE"
      }
    },
    {
      "cell_type": "code",
      "source": [
        "#data - data that is to be processed in order for the model to read it\n",
        "def process_data(data):\n",
        "  # Convert to radians.\n",
        "  data[sunAltitude] = data[sunAltitude]*np.pi / 180\n",
        "  #data[[diffused, sunAltitude]].copy() #return only two relevant columns\n",
        "  return data[[sunAltitude]].copy() #return only relevant column"
      ],
      "metadata": {
        "id": "c2tje-lc8bLO"
      },
      "execution_count": null,
      "outputs": []
    },
    {
      "cell_type": "markdown",
      "source": [
        "**Predict**"
      ],
      "metadata": {
        "id": "C8K_cUVrer48"
      }
    },
    {
      "cell_type": "code",
      "source": [
        "#data - 48 datapoints for the model to predict the next 24 datapoints\n",
        "def make_prediction(model, data, plot):\n",
        "  if plot == False:\n",
        "    prediction = model.predict(data, verbose=0)\n",
        "    return prediction\n",
        "  #Code to return plot \n"
      ],
      "metadata": {
        "id": "4hv5ko5GuqH7"
      },
      "execution_count": null,
      "outputs": []
    },
    {
      "cell_type": "markdown",
      "source": [
        "**Send prediction**"
      ],
      "metadata": {
        "id": "M3Y13RuifFPD"
      }
    },
    {
      "cell_type": "markdown",
      "source": [
        "**Main function**"
      ],
      "metadata": {
        "id": "tlvcLzxEdU73"
      }
    },
    {
      "cell_type": "code",
      "source": [
        "\n",
        "print(\"Hello from main\")\n",
        "\n",
        "#while True:\n",
        "  #Do work\n",
        "\n",
        "#  time.sleep(3600 * hours)  # do work every x amount of hours\n",
        "\n",
        "\n"
      ],
      "metadata": {
        "id": "0Va6eHa4dYvo"
      },
      "execution_count": null,
      "outputs": []
    },
    {
      "cell_type": "markdown",
      "source": [
        "**Unzip file**"
      ],
      "metadata": {
        "id": "aS92bu18fBFo"
      }
    },
    {
      "cell_type": "code",
      "source": [
        "!unzip /content/LSTM_Model.zip"
      ],
      "metadata": {
        "colab": {
          "base_uri": "https://localhost:8080/"
        },
        "id": "2DWa0Ba9fAj3",
        "outputId": "6d1f8404-6fb8-41c2-f7c7-dea5bb6e20c9"
      },
      "execution_count": null,
      "outputs": [
        {
          "output_type": "stream",
          "name": "stdout",
          "text": [
            "Archive:  /content/LSTM_Model.zip\n",
            "   creating: saved_model/my_model/\n",
            "  inflating: saved_model/my_model/saved_model.pb  \n",
            "  inflating: saved_model/my_model/keras_metadata.pb  \n",
            "   creating: saved_model/my_model/assets/\n",
            "   creating: saved_model/my_model/variables/\n",
            "  inflating: saved_model/my_model/variables/variables.index  \n",
            "  inflating: saved_model/my_model/variables/variables.data-00000-of-00001  \n"
          ]
        }
      ]
    },
    {
      "cell_type": "markdown",
      "source": [
        "**Load test data**"
      ],
      "metadata": {
        "id": "h6Yh5mksrk8p"
      }
    },
    {
      "cell_type": "code",
      "source": [
        "dt = pd.read_csv('data.csv', sep=\";\",thousands='.', decimal=',') #read csv file with ';' as seperator and ',' as decimal marker (will be converted to '.')\n",
        "\n",
        "dt['SunAltitude °'] = dt['SunAltitude °']*np.pi / 180 #Get radians\n",
        "\n",
        "diffuseSunData = dt[['DiffuseSunPower kW/m²','SunAltitude °']].copy()\n",
        "\n",
        "n = len(diffuseSunData)\n",
        "train_diffuseSunData = diffuseSunData[0:int(n*0.7)] #first 70%\n",
        "val_diffuseSunData = diffuseSunData[int(n*0.7):int(n*0.9)] #following 20%\n",
        "test_diffuseSunData = diffuseSunData[int(n*0.9):] #left over 10%"
      ],
      "metadata": {
        "id": "7yFTx03TroQ3"
      },
      "execution_count": null,
      "outputs": []
    },
    {
      "cell_type": "markdown",
      "source": [
        "**Normalize data** "
      ],
      "metadata": {
        "id": "dFa6nsVDBkY-"
      }
    },
    {
      "cell_type": "code",
      "source": [
        "train_mean = diffuseSunData.mean()\n",
        "train_var = diffuseSunData.var()\n",
        "\n",
        "train_diffuseSunData = (train_diffuseSunData - train_mean) / train_var\n",
        "val_diffuseSunData = (val_diffuseSunData - train_mean) / train_var\n",
        "test_diffuseSunData = (test_diffuseSunData - train_mean) / train_var"
      ],
      "metadata": {
        "id": "qrd3fZ89Bnr8"
      },
      "execution_count": null,
      "outputs": []
    },
    {
      "cell_type": "markdown",
      "source": [
        "**Denormalize**"
      ],
      "metadata": {
        "id": "qyd6jGXIGtpa"
      }
    },
    {
      "cell_type": "code",
      "source": [
        "def denormalize(data):\n",
        "  min_d = np.min(data)\n",
        "  max_d = np.max(data)\n",
        "  return (data - min_d) / (max_d - min_d)"
      ],
      "metadata": {
        "id": "aw5oxSn5Gsy9"
      },
      "execution_count": null,
      "outputs": []
    },
    {
      "cell_type": "markdown",
      "source": [
        "**Model construction**"
      ],
      "metadata": {
        "id": "bJp47ZFnk0yb"
      }
    },
    {
      "cell_type": "code",
      "source": [
        "model = tf.keras.Sequential()\n",
        "model.add(tf.keras.layers.LSTM(units=32, return_sequences=True, input_shape=(None, 1)))\n",
        "model.add(tf.keras.layers.LSTM(units=32, return_sequences=True))\n",
        "model.add(tf.keras.layers.LSTM(units=32))\n",
        "model.add(tf.keras.layers.Dense(units=1))\n",
        "model.summary()\n",
        "\n",
        "model = compile(model)\n",
        "\n",
        "model.summary()\n",
        "\n",
        "print(train_diffuseSunData['DiffuseSunPower kW/m²'])\n",
        "\n",
        "history = model.fit(train_diffuseSunData['SunAltitude °'],train_diffuseSunData['DiffuseSunPower kW/m²'], epochs=10)\n",
        "\n",
        "model.evaluate(test_diffuseSunData['SunAltitude °'],test_diffuseSunData['DiffuseSunPower kW/m²'])\n",
        "\n",
        "prediction = model.predict(train_diffuseSunData['SunAltitude °'])\n",
        "print(prediction)\n",
        "\n",
        "#print(denormalize(train_diffuseSunData['SunAltitude °']))\n",
        "\n",
        "print(train_diffuseSunData['DiffuseSunPower kW/m²'])\n",
        "\n",
        "from sklearn import metrics\n",
        "metrics.mean_squared_error(train_diffuseSunData['DiffuseSunPower kW/m²'], prediction)\n",
        "\n"
      ],
      "metadata": {
        "colab": {
          "base_uri": "https://localhost:8080/"
        },
        "id": "NOoUj-hsk0Qu",
        "outputId": "f45057fc-ec90-4cf5-82a0-3f961ded927b"
      },
      "execution_count": null,
      "outputs": [
        {
          "output_type": "stream",
          "name": "stdout",
          "text": [
            "Model: \"sequential\"\n",
            "_________________________________________________________________\n",
            " Layer (type)                Output Shape              Param #   \n",
            "=================================================================\n",
            " lstm (LSTM)                 (None, None, 32)          4352      \n",
            "                                                                 \n",
            " lstm_1 (LSTM)               (None, None, 32)          8320      \n",
            "                                                                 \n",
            " lstm_2 (LSTM)               (None, 32)                8320      \n",
            "                                                                 \n",
            " dense (Dense)               (None, 1)                 33        \n",
            "                                                                 \n",
            "=================================================================\n",
            "Total params: 21,025\n",
            "Trainable params: 21,025\n",
            "Non-trainable params: 0\n",
            "_________________________________________________________________\n",
            "Model: \"sequential\"\n",
            "_________________________________________________________________\n",
            " Layer (type)                Output Shape              Param #   \n",
            "=================================================================\n",
            " lstm (LSTM)                 (None, None, 32)          4352      \n",
            "                                                                 \n",
            " lstm_1 (LSTM)               (None, None, 32)          8320      \n",
            "                                                                 \n",
            " lstm_2 (LSTM)               (None, 32)                8320      \n",
            "                                                                 \n",
            " dense (Dense)               (None, 1)                 33        \n",
            "                                                                 \n",
            "=================================================================\n",
            "Total params: 21,025\n",
            "Trainable params: 21,025\n",
            "Non-trainable params: 0\n",
            "_________________________________________________________________\n",
            "0        30.933719\n",
            "1        41.873144\n",
            "2        38.226669\n",
            "3        30.933719\n",
            "4        16.347818\n",
            "           ...    \n",
            "10672   -12.823984\n",
            "10673   -12.823984\n",
            "10674   -12.823984\n",
            "10675   -12.823984\n",
            "10676   -12.823984\n",
            "Name: DiffuseSunPower kW/m², Length: 10677, dtype: float64\n",
            "Epoch 1/10\n",
            "334/334 [==============================] - 7s 5ms/step - loss: 215.2430 - mean_absolute_error: 10.3968\n",
            "Epoch 2/10\n",
            "334/334 [==============================] - 2s 5ms/step - loss: 106.7081 - mean_absolute_error: 4.9988\n",
            "Epoch 3/10\n",
            "334/334 [==============================] - 2s 5ms/step - loss: 91.1145 - mean_absolute_error: 4.6915\n",
            "Epoch 4/10\n",
            "334/334 [==============================] - 2s 5ms/step - loss: 84.1411 - mean_absolute_error: 4.6426\n",
            "Epoch 5/10\n",
            "334/334 [==============================] - 2s 5ms/step - loss: 80.9337 - mean_absolute_error: 4.6394\n",
            "Epoch 6/10\n",
            "334/334 [==============================] - 2s 5ms/step - loss: 79.5161 - mean_absolute_error: 4.6293\n",
            "Epoch 7/10\n",
            "334/334 [==============================] - 2s 5ms/step - loss: 78.6638 - mean_absolute_error: 4.6215\n",
            "Epoch 8/10\n",
            "334/334 [==============================] - 2s 5ms/step - loss: 78.3769 - mean_absolute_error: 4.6366\n",
            "Epoch 9/10\n",
            "334/334 [==============================] - 2s 5ms/step - loss: 78.0622 - mean_absolute_error: 4.6319\n",
            "Epoch 10/10\n",
            "334/334 [==============================] - 2s 5ms/step - loss: 78.0008 - mean_absolute_error: 4.6416\n",
            "48/48 [==============================] - 1s 2ms/step - loss: 203.1644 - mean_absolute_error: 9.1171\n",
            "[[ 26.257332]\n",
            " [ 26.178713]\n",
            " [ 23.321102]\n",
            " ...\n",
            " [-12.567747]\n",
            " [-12.567747]\n",
            " [-12.567747]]\n",
            "0        30.933719\n",
            "1        41.873144\n",
            "2        38.226669\n",
            "3        30.933719\n",
            "4        16.347818\n",
            "           ...    \n",
            "10672   -12.823984\n",
            "10673   -12.823984\n",
            "10674   -12.823984\n",
            "10675   -12.823984\n",
            "10676   -12.823984\n",
            "Name: DiffuseSunPower kW/m², Length: 10677, dtype: float64\n"
          ]
        },
        {
          "output_type": "execute_result",
          "data": {
            "text/plain": [
              "78.00370806634253"
            ]
          },
          "metadata": {},
          "execution_count": 14
        }
      ]
    },
    {
      "cell_type": "markdown",
      "source": [
        "**Test**"
      ],
      "metadata": {
        "id": "wNLQeAoLfhHm"
      }
    },
    {
      "cell_type": "code",
      "source": [
        "model = load_model(model_path)\n",
        "\n",
        "model.summary()\n",
        "\n",
        "testInput = process_data(load_data(rData_path))\n",
        "print(testInput[0:4])\n",
        "testInput = testInput*np.pi / 180 #radians\n",
        "\n",
        "print(testInput)\n",
        "#test = np.array(testInput[10677:10677+48])\n",
        "test = np.array(testInput[0:48])\n",
        "test_mean = test.mean()\n",
        "test_std = test.std()\n",
        "\n",
        "test = (test - test_mean) / test_std\n",
        "\n",
        "test = test.reshape(1,24,2)\n",
        "print(f'TEST SHAPE: {test.shape}')\n",
        "\n",
        "preds = model.predict(test, verbose=0)\n",
        "print(f'PREDICTON: {preds}')\n",
        "\n",
        "\n",
        "data = pd.read_csv(rData_path, sep=\";\",thousands='.', decimal=',') #read csv file with ';' as seperator and ',' as decimal marker (will be converted to '.')\n",
        "\n",
        "trueData = data[[diffused]].copy()\n",
        "\n",
        "#trueData = np.array(trueData[10677:10677+48])\n",
        "trueData = np.array(trueData[0:48])\n",
        "trueData = trueData.reshape(1,48,1)\n",
        "trueData_mean = trueData.mean()\n",
        "trueData_std = trueData.std()\n",
        "\n",
        "trueData = (trueData - trueData_mean) / trueData_std\n",
        "\n",
        "#show = load_data(rData_path)\n",
        "#print(trueData)\n",
        "\n",
        "\n",
        "#test_results = model.evaluate(preds, trueData, verbose=0)\n",
        "#print(f\" Accuracy: {test_results}\")\n",
        "\n",
        "\n",
        "data = pd.read_csv(rData_path, sep=\";\",thousands='.', decimal=',') #read csv file with ';' as seperator and ',' as decimal marker (will be converted to '.')\n",
        "\n",
        "trueData = data[[diffused]].copy()\n",
        "trueData = np.array(trueData)\n",
        "trueData_mean = trueData.mean()\n",
        "trueData_std = trueData.std()\n",
        "\n",
        "trueData = (trueData - trueData_mean) / trueData_std\n",
        "\n",
        "print(trueData[0:48])\n",
        "#print(trueData[10677])\n",
        "            \n"
      ],
      "metadata": {
        "colab": {
          "base_uri": "https://localhost:8080/"
        },
        "id": "NtxsQ9gcfjYw",
        "outputId": "ab4f7b06-dc76-46fe-c213-8c09a99d5fc9"
      },
      "execution_count": null,
      "outputs": [
        {
          "output_type": "stream",
          "name": "stdout",
          "text": [
            "Model: \"sequential_1\"\n",
            "_________________________________________________________________\n",
            " Layer (type)                Output Shape              Param #   \n",
            "=================================================================\n",
            " lstm (LSTM)                 (None, 32)                4480      \n",
            "                                                                 \n",
            " dense_3 (Dense)             (None, 48)                1584      \n",
            "                                                                 \n",
            " reshape_1 (Reshape)         (None, 24, 2)             0         \n",
            "                                                                 \n",
            "=================================================================\n",
            "Total params: 6,064\n",
            "Trainable params: 6,064\n",
            "Non-trainable params: 0\n",
            "_________________________________________________________________\n",
            "   SunAltitude °\n",
            "0       0.512254\n",
            "1       0.510858\n",
            "2       0.466701\n",
            "3       0.385194\n",
            "       SunAltitude °\n",
            "0           0.008941\n",
            "1           0.008916\n",
            "2           0.008145\n",
            "3           0.006723\n",
            "4           0.004804\n",
            "...              ...\n",
            "15248       0.002751\n",
            "15249       0.000688\n",
            "15250      -0.001139\n",
            "15251       0.000000\n",
            "15252       0.000000\n",
            "\n",
            "[15253 rows x 1 columns]\n",
            "TEST SHAPE: (1, 24, 2)\n",
            "PREDICTON: [[[ 0.964445    0.50144935]\n",
            "  [ 1.0144088   0.67893463]\n",
            "  [ 0.97172564  0.70718086]\n",
            "  [ 0.80478144  0.5423113 ]\n",
            "  [ 0.6205639   0.30629876]\n",
            "  [ 0.4446285   0.1319805 ]\n",
            "  [ 0.30785114  0.0642438 ]\n",
            "  [ 0.21373704 -0.00864557]\n",
            "  [ 0.12663282 -0.15086591]\n",
            "  [ 0.00501806 -0.36848664]\n",
            "  [-0.13904448 -0.54883134]\n",
            "  [-0.2815221  -0.66692567]\n",
            "  [-0.3782975  -0.69205123]\n",
            "  [-0.45072585 -0.6656452 ]\n",
            "  [-0.52979493 -0.5879027 ]\n",
            "  [-0.5710397  -0.5067841 ]\n",
            "  [-0.54377854 -0.43294576]\n",
            "  [-0.4875793  -0.38853258]\n",
            "  [-0.4347309  -0.4409315 ]\n",
            "  [-0.36972684 -0.45800644]\n",
            "  [-0.19820829 -0.32792497]\n",
            "  [ 0.08431678 -0.13476618]\n",
            "  [ 0.33916506  0.09629788]\n",
            "  [ 0.5688471   0.32423955]]]\n",
            "[[ 1.61998031]\n",
            " [ 2.19287147]\n",
            " [ 2.00190775]\n",
            " [ 1.61998031]\n",
            " [ 0.85612543]\n",
            " [-0.09869318]\n",
            " [-0.67158434]\n",
            " [-0.67158434]\n",
            " [-0.67158434]\n",
            " [-0.67158434]\n",
            " [-0.67158434]\n",
            " [-0.67158434]\n",
            " [-0.67158434]\n",
            " [-0.67158434]\n",
            " [-0.67158434]\n",
            " [-0.67158434]\n",
            " [-0.67158434]\n",
            " [-0.67158434]\n",
            " [-0.67158434]\n",
            " [-0.48062062]\n",
            " [-0.09869318]\n",
            " [ 0.47419799]\n",
            " [ 1.23805287]\n",
            " [ 1.42901659]\n",
            " [ 1.42901659]\n",
            " [ 1.81094403]\n",
            " [ 2.00190775]\n",
            " [ 1.61998031]\n",
            " [ 0.66516171]\n",
            " [-0.2896569 ]\n",
            " [-0.67158434]\n",
            " [-0.67158434]\n",
            " [-0.67158434]\n",
            " [-0.67158434]\n",
            " [-0.67158434]\n",
            " [-0.67158434]\n",
            " [-0.67158434]\n",
            " [-0.67158434]\n",
            " [-0.67158434]\n",
            " [-0.67158434]\n",
            " [-0.67158434]\n",
            " [-0.67158434]\n",
            " [-0.67158434]\n",
            " [-0.67158434]\n",
            " [-0.09869318]\n",
            " [ 1.04708915]\n",
            " [ 1.42901659]\n",
            " [ 2.00190775]]\n"
          ]
        }
      ]
    }
  ]
}