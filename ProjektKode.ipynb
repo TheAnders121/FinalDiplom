{
  "nbformat": 4,
  "nbformat_minor": 0,
  "metadata": {
    "colab": {
      "provenance": [],
      "collapsed_sections": [],
      "authorship_tag": "ABX9TyMZ5YmBGAuCUwC1FQIFiUdv",
      "include_colab_link": true
    },
    "kernelspec": {
      "name": "python3",
      "display_name": "Python 3"
    },
    "language_info": {
      "name": "python"
    }
  },
  "cells": [
    {
      "cell_type": "markdown",
      "metadata": {
        "id": "view-in-github",
        "colab_type": "text"
      },
      "source": [
        "<a href=\"https://colab.research.google.com/github/TheAnders121/TestRepo/blob/main/ProjektKode.ipynb\" target=\"_parent\"><img src=\"https://colab.research.google.com/assets/colab-badge.svg\" alt=\"Open In Colab\"/></a>"
      ]
    },
    {
      "cell_type": "markdown",
      "source": [
        "**Import libraries**"
      ],
      "metadata": {
        "id": "XntZcSbJkHBu"
      }
    },
    {
      "cell_type": "code",
      "source": [
        "import os\n",
        "import datetime\n",
        "import time\n",
        "\n",
        "from datetime import datetime, timedelta\n",
        "\n",
        "#import IPython\n",
        "#import IPython.display\n",
        "import matplotlib as mpl\n",
        "import matplotlib.pyplot as plt\n",
        "import numpy as np\n",
        "import pandas as pd\n",
        "import seaborn as sns\n",
        "import tensorflow as tf\n",
        "from tensorflow import keras\n",
        "from sklearn.preprocessing import RobustScaler\n",
        "import json\n",
        "import requests"
      ],
      "metadata": {
        "id": "8Fwh5TCxkFVy"
      },
      "execution_count": null,
      "outputs": []
    },
    {
      "cell_type": "markdown",
      "source": [
        "**Configurations**"
      ],
      "metadata": {
        "id": "GLuMBI8ZkQHA"
      }
    },
    {
      "cell_type": "code",
      "source": [
        "MAX_EPOCHS = 20\n",
        "\n",
        "multi_val_performance = {}\n",
        "multi_performance = {}\n",
        "\n",
        "inputTransformer = RobustScaler()\n",
        "outputTransformer = RobustScaler()\n",
        "\n",
        "#Paths\n",
        "model_path = '/content/saved_model/my_model'\n",
        "plot_path = ''\n",
        "historical_data = 'data.csv'\n",
        "rData_path = 'data.csv'\n",
        "wData_path = ''\n",
        "\n",
        "#Model columns\n",
        "direct = 'DirectSunPower kW/m²'\n",
        "diffused = 'DiffuseSunPower kW/m²'\n",
        "sunAltitude = 'SunAltitude °'\n",
        "inputColumn = sunAltitude\n",
        "outputColumn = diffused\n",
        "\n",
        "#Model construction\n",
        "steps = 24\n",
        "inputColumns = 2\n",
        "inputShape = [steps, inputColumns]\n",
        "\n",
        "#Model compilation, fitting and optimization\n",
        "#optimizationAlgorithm = tf.keras.optimizers.Adam()\n",
        "optimizationAlgorithm = tf.keras.optimizers.SGD()\n",
        "patience = 2\n",
        "conf_epochs = 20\n",
        "\n",
        "#API paths \n",
        "POST = 'somePath'\n",
        "GET = 'somePath'\n",
        "\n",
        "#Scheduler\n",
        "hours = 1\n"
      ],
      "metadata": {
        "id": "2nMSyYpUkSfd"
      },
      "execution_count": null,
      "outputs": []
    },
    {
      "cell_type": "markdown",
      "source": [
        "**Data windowing**"
      ],
      "metadata": {
        "id": "3xL6n9PIodw0"
      }
    },
    {
      "cell_type": "code",
      "source": [],
      "metadata": {
        "id": "xSTA6pwTog-j"
      },
      "execution_count": null,
      "outputs": []
    },
    {
      "cell_type": "markdown",
      "source": [
        "**Split data**"
      ],
      "metadata": {
        "id": "u3CGH3DrM1PR"
      }
    },
    {
      "cell_type": "code",
      "source": [
        "def splitData(data):\n",
        "  n = len(data)\n",
        "  train = data[0:int(n*0.9)] #first 90%\n",
        "  test = data[int(n*0.9):] #left over 10%\n",
        "  return train, test"
      ],
      "metadata": {
        "id": "EXlhrN6fM5dB"
      },
      "execution_count": null,
      "outputs": []
    },
    {
      "cell_type": "markdown",
      "source": [
        "**Create dataset**"
      ],
      "metadata": {
        "id": "-8OPgj64NmKM"
      }
    },
    {
      "cell_type": "code",
      "source": [
        "def createDatasets(input, output, timeSteps):\n",
        "  inputList, outputList = [], []\n",
        "  for i in range(len(input) - timeSteps):\n",
        "    val = input.iloc[i: (i + timeSteps)].to_numpy()\n",
        "    inputList.append(val)\n",
        "    outputList.append(output.iloc[i + timeSteps])\n",
        "  return np.array(inputList), np.array(outputList)"
      ],
      "metadata": {
        "id": "1mnGTAs1NpLr"
      },
      "execution_count": null,
      "outputs": []
    },
    {
      "cell_type": "markdown",
      "source": [
        "**Reshape data**"
      ],
      "metadata": {
        "id": "zbfu3IEKNPtq"
      }
    },
    {
      "cell_type": "code",
      "source": [
        "def reshapeData(data, steps):\n",
        "  input, output = createDatasets(data, data[outputColumn], steps)\n",
        "  return [input, output]"
      ],
      "metadata": {
        "id": "XsnyV8ojNSrK"
      },
      "execution_count": null,
      "outputs": []
    },
    {
      "cell_type": "markdown",
      "source": [
        "**Transform data**"
      ],
      "metadata": {
        "id": "o7J9nkG9MTwp"
      }
    },
    {
      "cell_type": "code",
      "source": [
        "def transformData(data, column):\n",
        "  transformer = RobustScaler()\n",
        "  transformer = transformer.fit(data[column].to_numpy())\n",
        "  data.loc[:, column] = transformer.transform(data[column].to_numpy())\n",
        "  return data"
      ],
      "metadata": {
        "id": "QxdFjXi8MXmT"
      },
      "execution_count": null,
      "outputs": []
    },
    {
      "cell_type": "markdown",
      "source": [
        "**Inverse transform data**"
      ],
      "metadata": {
        "id": "jvOmqS-vMr9n"
      }
    },
    {
      "cell_type": "code",
      "source": [
        "def inverseTransformData(data, column=''):\n",
        "  transformer = RobustScaler()\n",
        "  if column == '':\n",
        "    transformer = transformer.fit(data) \n",
        "  else:\n",
        "    transformer = transformer.fit(data[column])\n",
        "  \n",
        "  inversed = transformer.inverse_transform(data)\n",
        "  return inversed"
      ],
      "metadata": {
        "id": "jYUOoZzyMv5I"
      },
      "execution_count": null,
      "outputs": []
    },
    {
      "cell_type": "markdown",
      "source": [
        "**To json string**"
      ],
      "metadata": {
        "id": "Ix3j7uJGHK5f"
      }
    },
    {
      "cell_type": "code",
      "source": [
        "def toJson(string):\n",
        "  return json.dumps(string)"
      ],
      "metadata": {
        "id": "bmfwqHgVHUvp"
      },
      "execution_count": null,
      "outputs": []
    },
    {
      "cell_type": "markdown",
      "source": [
        "**Convert Json string**"
      ],
      "metadata": {
        "id": "zCZ4fsGyHer0"
      }
    },
    {
      "cell_type": "code",
      "source": [
        "def toNormal(string):\n",
        "  return json.loads(string)"
      ],
      "metadata": {
        "id": "vsTSeS7cHxMQ"
      },
      "execution_count": null,
      "outputs": []
    },
    {
      "cell_type": "markdown",
      "source": [
        "**Write predictions to file**"
      ],
      "metadata": {
        "id": "DlsEW5HHIaed"
      }
    },
    {
      "cell_type": "code",
      "source": [
        "def writePredictions(string):\n",
        "  # Append-adds at last\n",
        "  file1 = open(wData_path, \"w\")  #write mode (overwrite previous predictions)\n",
        "  file1.write(string)\n",
        "  file1.close()"
      ],
      "metadata": {
        "id": "b7APolzjIzzl"
      },
      "execution_count": null,
      "outputs": []
    },
    {
      "cell_type": "markdown",
      "source": [
        "**Upload predictions**"
      ],
      "metadata": {
        "id": "sK6zf7Q1J2lB"
      }
    },
    {
      "cell_type": "code",
      "source": [
        "def uploadPredictions(): \n",
        "  api_url = POST\n",
        "  todo = {\"userId\": 1, \"title\": \"Buy milk\", \"completed\": False} #this should actually be a file with new predictions\n",
        "  response = requests.post(api_url, json=todo)\n",
        "  return response.status_code"
      ],
      "metadata": {
        "id": "uiFyJIa4J6Q1"
      },
      "execution_count": null,
      "outputs": []
    },
    {
      "cell_type": "markdown",
      "source": [
        "**Build model**"
      ],
      "metadata": {
        "id": "IrkncSLOzpwo"
      }
    },
    {
      "cell_type": "code",
      "source": [
        "def buildModel():\n",
        "  model = keras.Sequential()\n",
        "  model.add(\n",
        "    keras.layers.Bidirectional(\n",
        "      keras.layers.LSTM(\n",
        "        units=128, \n",
        "        input_shape=inputShape\n",
        "      )\n",
        "    )\n",
        "  )\n",
        "  model.add(keras.layers.Dropout(rate=0.2))\n",
        "  model.add(keras.layers.Dense(units=1))\n",
        "  return model"
      ],
      "metadata": {
        "id": "b7GiBGc5zsah"
      },
      "execution_count": null,
      "outputs": []
    },
    {
      "cell_type": "markdown",
      "source": [
        "**Compile**"
      ],
      "metadata": {
        "id": "tmV4EfV6dgkt"
      }
    },
    {
      "cell_type": "code",
      "execution_count": null,
      "metadata": {
        "id": "E91oDo9EdTO9"
      },
      "outputs": [],
      "source": [
        "def compile(model, patience=2):\n",
        "  early_stopping = tf.keras.callbacks.EarlyStopping(monitor='val_loss',\n",
        "                                                    patience=patience,\n",
        "                                                    mode='min')\n",
        "\n",
        "  model.compile(loss=tf.keras.losses.MeanSquaredError(),\n",
        "                optimizer=optimizationAlgorithm,\n",
        "                metrics=[tf.keras.metrics.MeanAbsoluteError()])\n",
        "  return model"
      ]
    },
    {
      "cell_type": "markdown",
      "source": [
        "**Fit model**"
      ],
      "metadata": {
        "id": "18EFaCJum0en"
      }
    },
    {
      "cell_type": "code",
      "source": [
        "def fit(model, input, output):\n",
        "  callback = tf.keras.callbacks.EarlyStopping(monitor='loss', patience=2)\n",
        "  history = model.fit(\n",
        "    input, output,\n",
        "    epochs=conf_epochs,\n",
        "    batch_size=32,\n",
        "    callbacks=[callback],\n",
        "    validation_split=0.1,\n",
        "    shuffle=False\n",
        "  )\n",
        "  return history"
      ],
      "metadata": {
        "id": "1Ok_hjZGm3Vs"
      },
      "execution_count": null,
      "outputs": []
    },
    {
      "cell_type": "markdown",
      "source": [
        "**Save weights**"
      ],
      "metadata": {
        "id": "3QvTSKQJXf_5"
      }
    },
    {
      "cell_type": "code",
      "source": [],
      "metadata": {
        "id": "DzqspMYtXh61"
      },
      "execution_count": null,
      "outputs": []
    },
    {
      "cell_type": "markdown",
      "source": [
        "**Load weights**"
      ],
      "metadata": {
        "id": "mgd2el5bXiTY"
      }
    },
    {
      "cell_type": "code",
      "source": [],
      "metadata": {
        "id": "2DysKihoXk4G"
      },
      "execution_count": null,
      "outputs": []
    },
    {
      "cell_type": "markdown",
      "source": [
        "**Save model**"
      ],
      "metadata": {
        "id": "_eMGeZpmdbHk"
      }
    },
    {
      "cell_type": "code",
      "source": [
        "#model - model that is to be saved (needs to be a tf.keras.model object)\n",
        "#path - under which path the model will be saved (and can be accessed)\n",
        "def save_model(model, path):\n",
        "  model.save(path)"
      ],
      "metadata": {
        "id": "nDaEv_kqqeBJ"
      },
      "execution_count": null,
      "outputs": []
    },
    {
      "cell_type": "markdown",
      "source": [
        "**Load model**"
      ],
      "metadata": {
        "id": "FQu2OnqGdeVr"
      }
    },
    {
      "cell_type": "code",
      "source": [
        "#path - under which path the model will be accessible\n",
        "def load_model(path):\n",
        "  new_model = tf.keras.models.load_model(path)\n",
        "\n",
        "  return new_model"
      ],
      "metadata": {
        "id": "vDiBAVprrioI"
      },
      "execution_count": null,
      "outputs": []
    },
    {
      "cell_type": "markdown",
      "source": [
        "**Load data**"
      ],
      "metadata": {
        "id": "8ERK6FF6d_X_"
      }
    },
    {
      "cell_type": "code",
      "source": [
        "#path - path to where the data is to be loaded from \n",
        "def load_data(path):\n",
        "  dt = pd.read_csv(path, sep=\";\",thousands='.', decimal=',') #read csv file with ';' as seperator and ',' as decimal marker (will be converted to '.')\n",
        "  return dt"
      ],
      "metadata": {
        "id": "r_4vs6kwx515"
      },
      "execution_count": null,
      "outputs": []
    },
    {
      "cell_type": "markdown",
      "source": [
        "**Process data**"
      ],
      "metadata": {
        "id": "cpCyy89p8XKE"
      }
    },
    {
      "cell_type": "code",
      "source": [
        "#data - data that is to be processed in order for the model to read it\n",
        "def process_data(data):\n",
        "  # Convert to radians.\n",
        "  data[sunAltitude] = data[sunAltitude]*np.pi / 180\n",
        "  #data[[diffused, sunAltitude]].copy() #return only two relevant columns\n",
        "  #return data[[sunAltitude]].copy() #return only relevant column\n",
        "  return data"
      ],
      "metadata": {
        "id": "c2tje-lc8bLO"
      },
      "execution_count": null,
      "outputs": []
    },
    {
      "cell_type": "markdown",
      "source": [
        "**Predict**"
      ],
      "metadata": {
        "id": "C8K_cUVrer48"
      }
    },
    {
      "cell_type": "code",
      "source": [
        "#data - 48 datapoints for the model to predict the next 24 datapoints\n",
        "def make_prediction(model, data, plot):\n",
        "  if plot == False:\n",
        "    prediction = model.predict(data)\n",
        "    return prediction\n",
        "  #Code to return plot \n"
      ],
      "metadata": {
        "id": "4hv5ko5GuqH7"
      },
      "execution_count": null,
      "outputs": []
    },
    {
      "cell_type": "markdown",
      "source": [
        "**Send prediction**"
      ],
      "metadata": {
        "id": "M3Y13RuifFPD"
      }
    },
    {
      "cell_type": "markdown",
      "source": [
        "**Main function**"
      ],
      "metadata": {
        "id": "tlvcLzxEdU73"
      }
    },
    {
      "cell_type": "code",
      "source": [
        "\n",
        "print(\"Hello from main\")\n",
        "\n",
        "'''\n",
        "while True:\n",
        "  #Do work\n",
        "  data = process_data(load_data(rData_path))\n",
        "  data = reshapeData(data, steps)\n",
        "  tData = transformData(data)\n",
        "  model = load_model(model_path)\n",
        "  predictions = make_prediction(model, data, False)\n",
        "  jsonString = toJson(inverseTransformData(predictions))\n",
        "  code = uploadPredictions()\n",
        "  #check status code \n",
        "\n",
        "  \n",
        "  time.sleep(3600 * hours)  # do work every x amount of hours\n",
        "'''\n",
        "\n"
      ],
      "metadata": {
        "id": "0Va6eHa4dYvo",
        "colab": {
          "base_uri": "https://localhost:8080/",
          "height": 91
        },
        "outputId": "466542a7-ac28-407f-e2f8-c9327459ab5d"
      },
      "execution_count": null,
      "outputs": [
        {
          "output_type": "stream",
          "name": "stdout",
          "text": [
            "Hello from main\n"
          ]
        },
        {
          "output_type": "execute_result",
          "data": {
            "text/plain": [
              "'\\nwhile True:\\n  #Do work\\n  data = process_data(load_data(rData_path))\\n  data = reshapeData(data, steps)\\n  tData = transformData(data)\\n  model = load_model(model_path)\\n  predictions = make_prediction(model, data, False)\\n  jsonString = toJson(inverseTransformData(predictions))\\n  code = uploadPredictions()\\n  #check status code \\n\\n  \\n  time.sleep(3600 * hours)  # do work every x amount of hours\\n'"
            ],
            "application/vnd.google.colaboratory.intrinsic+json": {
              "type": "string"
            }
          },
          "metadata": {},
          "execution_count": 20
        }
      ]
    },
    {
      "cell_type": "markdown",
      "source": [
        "**Unzip file**"
      ],
      "metadata": {
        "id": "aS92bu18fBFo"
      }
    },
    {
      "cell_type": "code",
      "source": [
        "#!unzip /content/LSTM_Model.zip"
      ],
      "metadata": {
        "colab": {
          "base_uri": "https://localhost:8080/"
        },
        "id": "2DWa0Ba9fAj3",
        "outputId": "d6a581fb-33c7-418f-b7b8-cabaa9761886"
      },
      "execution_count": null,
      "outputs": [
        {
          "output_type": "stream",
          "name": "stdout",
          "text": [
            "unzip:  cannot find or open /content/LSTM_Model.zip, /content/LSTM_Model.zip.zip or /content/LSTM_Model.zip.ZIP.\n"
          ]
        }
      ]
    },
    {
      "cell_type": "markdown",
      "source": [
        "**Load test data**"
      ],
      "metadata": {
        "id": "h6Yh5mksrk8p"
      }
    },
    {
      "cell_type": "code",
      "source": [
        "dt = pd.read_csv('data.csv', sep=\";\",thousands='.', decimal=',') #read csv file with ';' as seperator and ',' as decimal marker (will be converted to '.')\n",
        "\n",
        "dt['SunAltitude °'] = dt['SunAltitude °']*np.pi / 180 #Get radians\n",
        "\n",
        "diffuseSunData = dt[['DiffuseSunPower kW/m²','SunAltitude °']].copy()\n",
        "\n",
        "n = len(diffuseSunData)\n",
        "train_diffuseSunData = diffuseSunData[0:int(n*0.7)] #first 70%\n",
        "val_diffuseSunData = diffuseSunData[int(n*0.7):int(n*0.9)] #following 20%\n",
        "test_diffuseSunData = diffuseSunData[int(n*0.9):] #left over 10%"
      ],
      "metadata": {
        "id": "7yFTx03TroQ3"
      },
      "execution_count": null,
      "outputs": []
    },
    {
      "cell_type": "markdown",
      "source": [
        "**Normalize data** "
      ],
      "metadata": {
        "id": "dFa6nsVDBkY-"
      }
    },
    {
      "cell_type": "code",
      "source": [
        "train_mean = diffuseSunData.mean()\n",
        "train_var = diffuseSunData.var()\n",
        "\n",
        "train_diffuseSunData = (train_diffuseSunData - train_mean) / train_var\n",
        "val_diffuseSunData = (val_diffuseSunData - train_mean) / train_var\n",
        "test_diffuseSunData = (test_diffuseSunData - train_mean) / train_var"
      ],
      "metadata": {
        "id": "qrd3fZ89Bnr8"
      },
      "execution_count": null,
      "outputs": []
    },
    {
      "cell_type": "markdown",
      "source": [
        "**Denormalize**"
      ],
      "metadata": {
        "id": "qyd6jGXIGtpa"
      }
    },
    {
      "cell_type": "code",
      "source": [
        "def denormalize(data):\n",
        "  min_d = np.min(data)\n",
        "  max_d = np.max(data)\n",
        "  return (data - min_d) / (max_d - min_d)"
      ],
      "metadata": {
        "id": "aw5oxSn5Gsy9"
      },
      "execution_count": null,
      "outputs": []
    },
    {
      "cell_type": "markdown",
      "source": [
        "**Model construction (currently single-step)**"
      ],
      "metadata": {
        "id": "bJp47ZFnk0yb"
      }
    },
    {
      "cell_type": "code",
      "source": [
        "\n",
        "#Load data\n",
        "data = load_data(historical_data)\n",
        "\n",
        "#Isolate useful columns\n",
        "data = data[[inputColumn, outputColumn]].copy()\n",
        "\n",
        "#Process columns\n",
        "data = process_data(data)\n",
        "\n",
        "#Split data\n",
        "train, test = splitData(data)\n",
        "print(train)\n",
        "print(test)\n",
        "\n",
        "#Transform data\n",
        "inputTransformer = RobustScaler()\n",
        "outputTransformer = RobustScaler()\n",
        "\n",
        "inputTransformer = inputTransformer.fit(train[[inputColumn]].to_numpy())\n",
        "outputTransformer = outputTransformer.fit(train[[outputColumn]]) #No need to transform into numpy\n",
        "\n",
        "train.loc[:, inputColumn] = inputTransformer.transform(train[[inputColumn]].to_numpy())\n",
        "train[outputColumn] = outputTransformer.transform(train[[outputColumn]])\n",
        "\n",
        "test.loc[:, inputColumn] = inputTransformer.transform(test[[inputColumn]].to_numpy())\n",
        "test[outputColumn] = outputTransformer.transform(test[[outputColumn]])\n",
        "\n",
        "#train = data[0]\n",
        "#test = data[1]\n",
        "#train = transformData(data[0], [inputColumn, outputColumn])\n",
        "#test = transformData(data[1], [inputColumn, outputColumn])\n",
        "#print(train['DiffuseSunPower kW/m²'])\n",
        "\n",
        "#Create dataset for model\n",
        "input, output = createDatasets(train, train[outputColumn], steps)\n",
        "print(f'Dataset shape set to: {input.shape, output.shape}')\n",
        "print(f'Set model input shape to: {input.shape[1], input.shape[2]}')\n",
        "\n",
        "'''\n",
        "model = tf.keras.Sequential()\n",
        "model.add(tf.keras.layers.LSTM(units=32, return_sequences=True, input_shape=(input.shape[1], input.shape[2])))\n",
        "model.add(tf.keras.layers.LSTM(units=32, return_sequences=True, input_shape=(input.shape[1], input.shape[2])))\n",
        "model.add(tf.keras.layers.LSTM(units=32, input_shape=(input.shape[1], input.shape[2])))\n",
        "model.add(keras.layers.Dense(units=1))\n",
        "model.summary()\n",
        "'''\n",
        "\n",
        "#Build model\n",
        "model = keras.Sequential()\n",
        "model.add(\n",
        "  keras.layers.Bidirectional(\n",
        "    keras.layers.LSTM(\n",
        "      units=128, \n",
        "      input_shape=(input.shape[1], input.shape[2])\n",
        "    )\n",
        "  )\n",
        ")\n",
        "model.add(keras.layers.Dropout(rate=0.2))\n",
        "model.add(keras.layers.Dense(units=1))\n",
        "\n",
        "#Compile model\n",
        "model = compile(model)\n",
        "#model.compile(loss='mean_squared_error', optimizer='adam')\n",
        "\n",
        "#Fit model\n",
        "history = fit(model, input, output)\n",
        "\n",
        "#Create test dataset \n",
        "testInput, testOutput = createDatasets(test, test[outputColumn], steps)\n",
        "print(f'Test data shape: {testInput.shape}')\n",
        "\n",
        "#Make prediction with test data\n",
        "prediction = make_prediction(model, testInput, False)\n",
        "print(prediction)\n",
        "\n",
        "#Inverse transform data\n",
        "predictionInverse = outputTransformer.inverse_transform(prediction)\n",
        "outputTestInv = outputTransformer.inverse_transform(testOutput.reshape(1, -1))\n",
        "\n",
        "#print(f'Prediction output shape: {inverseTransformData(prediction).shape}')\n",
        "#print(f'Prediction values: {inverseTransformData(prediction)}')\n",
        "#print(f'Real values: {data[1].tail(20)}')\n",
        "#print(f'Real values: {inverseTransformData(np.reshape(testOutput,(-1,1)))}')\n",
        "#look = inverseTransformData(np.reshape(testOutput,(-1,1)))\n",
        "#print(look[-20:, :])\n",
        "#print(f'Shapes {testOutput.shape, look.shape}')\n",
        "\n",
        "#Plot predictions vs test data\n",
        "plt.plot(outputTestInv.flatten(), marker='.', label='true')\n",
        "plt.plot(predictionInverse.flatten(), 'r', label='predicted')\n",
        "plt.legend()\n",
        "\n",
        "'''\n",
        "print(train_diffuseSunData['DiffuseSunPower kW/m²'])\n",
        "\n",
        "history = model.fit(train_diffuseSunData['SunAltitude °'],train_diffuseSunData['DiffuseSunPower kW/m²'], epochs=10)\n",
        "\n",
        "model.evaluate(test_diffuseSunData['SunAltitude °'],test_diffuseSunData['DiffuseSunPower kW/m²'])\n",
        "\n",
        "prediction = model.predict(train_diffuseSunData['SunAltitude °'])\n",
        "print(prediction)\n",
        "\n",
        "#print(denormalize(train_diffuseSunData['SunAltitude °']))\n",
        "\n",
        "print(train_diffuseSunData['DiffuseSunPower kW/m²'])\n",
        "\n",
        "from sklearn import metrics\n",
        "metrics.mean_squared_error(train_diffuseSunData['DiffuseSunPower kW/m²'], prediction)\n",
        "\n",
        "'''"
      ],
      "metadata": {
        "colab": {
          "base_uri": "https://localhost:8080/",
          "height": 1000
        },
        "id": "NOoUj-hsk0Qu",
        "outputId": "c1c2ead4-9267-472c-9db5-73a0204bf9a6"
      },
      "execution_count": null,
      "outputs": [
        {
          "output_type": "stream",
          "name": "stdout",
          "text": [
            "       SunAltitude °  DiffuseSunPower kW/m²\n",
            "0           0.512254                   0.12\n",
            "1           0.510858                   0.15\n",
            "2           0.466701                   0.14\n",
            "3           0.385194                   0.12\n",
            "4           0.275238                   0.08\n",
            "...              ...                    ...\n",
            "13722       0.120602                   0.04\n",
            "13723       0.264417                   0.06\n",
            "13724       0.411025                   0.06\n",
            "13725       0.552397                   0.07\n",
            "13726       0.679631                   0.06\n",
            "\n",
            "[13727 rows x 2 columns]\n",
            "       SunAltitude °  DiffuseSunPower kW/m²\n",
            "13727       0.780337                   0.07\n",
            "13728       0.840202                   0.08\n",
            "13729       0.847183                   0.08\n",
            "13730       0.799710                   0.09\n",
            "13731       0.707906                   0.09\n",
            "...              ...                    ...\n",
            "15248       0.157603                   0.01\n",
            "15249       0.039444                   0.00\n",
            "15250      -0.065275                   0.00\n",
            "15251       0.000000                   0.00\n",
            "15252       0.000000                   0.00\n",
            "\n",
            "[1526 rows x 2 columns]\n"
          ]
        },
        {
          "output_type": "stream",
          "name": "stderr",
          "text": [
            "/usr/local/lib/python3.7/dist-packages/pandas/core/indexing.py:1951: SettingWithCopyWarning: \n",
            "A value is trying to be set on a copy of a slice from a DataFrame.\n",
            "Try using .loc[row_indexer,col_indexer] = value instead\n",
            "\n",
            "See the caveats in the documentation: https://pandas.pydata.org/pandas-docs/stable/user_guide/indexing.html#returning-a-view-versus-a-copy\n",
            "  self.obj[selected_item_labels] = value\n",
            "/usr/local/lib/python3.7/dist-packages/ipykernel_launcher.py:23: SettingWithCopyWarning: \n",
            "A value is trying to be set on a copy of a slice from a DataFrame.\n",
            "Try using .loc[row_indexer,col_indexer] = value instead\n",
            "\n",
            "See the caveats in the documentation: https://pandas.pydata.org/pandas-docs/stable/user_guide/indexing.html#returning-a-view-versus-a-copy\n",
            "/usr/local/lib/python3.7/dist-packages/pandas/core/indexing.py:1951: SettingWithCopyWarning: \n",
            "A value is trying to be set on a copy of a slice from a DataFrame.\n",
            "Try using .loc[row_indexer,col_indexer] = value instead\n",
            "\n",
            "See the caveats in the documentation: https://pandas.pydata.org/pandas-docs/stable/user_guide/indexing.html#returning-a-view-versus-a-copy\n",
            "  self.obj[selected_item_labels] = value\n",
            "/usr/local/lib/python3.7/dist-packages/ipykernel_launcher.py:26: SettingWithCopyWarning: \n",
            "A value is trying to be set on a copy of a slice from a DataFrame.\n",
            "Try using .loc[row_indexer,col_indexer] = value instead\n",
            "\n",
            "See the caveats in the documentation: https://pandas.pydata.org/pandas-docs/stable/user_guide/indexing.html#returning-a-view-versus-a-copy\n"
          ]
        },
        {
          "output_type": "stream",
          "name": "stdout",
          "text": [
            "Dataset shape set to: ((13703, 24, 2), (13703,))\n",
            "Set model input shape to: (24, 2)\n",
            "Epoch 1/20\n"
          ]
        },
        {
          "output_type": "error",
          "ename": "KeyboardInterrupt",
          "evalue": "ignored",
          "traceback": [
            "\u001b[0;31m---------------------------------------------------------------------------\u001b[0m",
            "\u001b[0;31mKeyboardInterrupt\u001b[0m                         Traceback (most recent call last)",
            "\u001b[0;32m<ipython-input-25-6ab2b2d3e8d2>\u001b[0m in \u001b[0;36m<module>\u001b[0;34m\u001b[0m\n\u001b[1;32m     64\u001b[0m \u001b[0;34m\u001b[0m\u001b[0m\n\u001b[1;32m     65\u001b[0m \u001b[0;31m#Fit model\u001b[0m\u001b[0;34m\u001b[0m\u001b[0;34m\u001b[0m\u001b[0;34m\u001b[0m\u001b[0m\n\u001b[0;32m---> 66\u001b[0;31m \u001b[0mhistory\u001b[0m \u001b[0;34m=\u001b[0m \u001b[0mfit\u001b[0m\u001b[0;34m(\u001b[0m\u001b[0mmodel\u001b[0m\u001b[0;34m,\u001b[0m \u001b[0minput\u001b[0m\u001b[0;34m,\u001b[0m \u001b[0moutput\u001b[0m\u001b[0;34m)\u001b[0m\u001b[0;34m\u001b[0m\u001b[0;34m\u001b[0m\u001b[0m\n\u001b[0m\u001b[1;32m     67\u001b[0m \u001b[0;34m\u001b[0m\u001b[0m\n\u001b[1;32m     68\u001b[0m \u001b[0;31m#Create test dataset\u001b[0m\u001b[0;34m\u001b[0m\u001b[0;34m\u001b[0m\u001b[0;34m\u001b[0m\u001b[0m\n",
            "\u001b[0;32m<ipython-input-14-cfe8560d4cad>\u001b[0m in \u001b[0;36mfit\u001b[0;34m(model, input, output)\u001b[0m\n\u001b[1;32m      7\u001b[0m     \u001b[0mcallbacks\u001b[0m\u001b[0;34m=\u001b[0m\u001b[0;34m[\u001b[0m\u001b[0mcallback\u001b[0m\u001b[0;34m]\u001b[0m\u001b[0;34m,\u001b[0m\u001b[0;34m\u001b[0m\u001b[0;34m\u001b[0m\u001b[0m\n\u001b[1;32m      8\u001b[0m     \u001b[0mvalidation_split\u001b[0m\u001b[0;34m=\u001b[0m\u001b[0;36m0.1\u001b[0m\u001b[0;34m,\u001b[0m\u001b[0;34m\u001b[0m\u001b[0;34m\u001b[0m\u001b[0m\n\u001b[0;32m----> 9\u001b[0;31m     \u001b[0mshuffle\u001b[0m\u001b[0;34m=\u001b[0m\u001b[0;32mFalse\u001b[0m\u001b[0;34m\u001b[0m\u001b[0;34m\u001b[0m\u001b[0m\n\u001b[0m\u001b[1;32m     10\u001b[0m   )\n\u001b[1;32m     11\u001b[0m   \u001b[0;32mreturn\u001b[0m \u001b[0mhistory\u001b[0m\u001b[0;34m\u001b[0m\u001b[0;34m\u001b[0m\u001b[0m\n",
            "\u001b[0;32m/usr/local/lib/python3.7/dist-packages/keras/utils/traceback_utils.py\u001b[0m in \u001b[0;36merror_handler\u001b[0;34m(*args, **kwargs)\u001b[0m\n\u001b[1;32m     62\u001b[0m     \u001b[0mfiltered_tb\u001b[0m \u001b[0;34m=\u001b[0m \u001b[0;32mNone\u001b[0m\u001b[0;34m\u001b[0m\u001b[0;34m\u001b[0m\u001b[0m\n\u001b[1;32m     63\u001b[0m     \u001b[0;32mtry\u001b[0m\u001b[0;34m:\u001b[0m\u001b[0;34m\u001b[0m\u001b[0;34m\u001b[0m\u001b[0m\n\u001b[0;32m---> 64\u001b[0;31m       \u001b[0;32mreturn\u001b[0m \u001b[0mfn\u001b[0m\u001b[0;34m(\u001b[0m\u001b[0;34m*\u001b[0m\u001b[0margs\u001b[0m\u001b[0;34m,\u001b[0m \u001b[0;34m**\u001b[0m\u001b[0mkwargs\u001b[0m\u001b[0;34m)\u001b[0m\u001b[0;34m\u001b[0m\u001b[0;34m\u001b[0m\u001b[0m\n\u001b[0m\u001b[1;32m     65\u001b[0m     \u001b[0;32mexcept\u001b[0m \u001b[0mException\u001b[0m \u001b[0;32mas\u001b[0m \u001b[0me\u001b[0m\u001b[0;34m:\u001b[0m  \u001b[0;31m# pylint: disable=broad-except\u001b[0m\u001b[0;34m\u001b[0m\u001b[0;34m\u001b[0m\u001b[0m\n\u001b[1;32m     66\u001b[0m       \u001b[0mfiltered_tb\u001b[0m \u001b[0;34m=\u001b[0m \u001b[0m_process_traceback_frames\u001b[0m\u001b[0;34m(\u001b[0m\u001b[0me\u001b[0m\u001b[0;34m.\u001b[0m\u001b[0m__traceback__\u001b[0m\u001b[0;34m)\u001b[0m\u001b[0;34m\u001b[0m\u001b[0;34m\u001b[0m\u001b[0m\n",
            "\u001b[0;32m/usr/local/lib/python3.7/dist-packages/keras/engine/training.py\u001b[0m in \u001b[0;36mfit\u001b[0;34m(self, x, y, batch_size, epochs, verbose, callbacks, validation_split, validation_data, shuffle, class_weight, sample_weight, initial_epoch, steps_per_epoch, validation_steps, validation_batch_size, validation_freq, max_queue_size, workers, use_multiprocessing)\u001b[0m\n\u001b[1;32m   1407\u001b[0m                 _r=1):\n\u001b[1;32m   1408\u001b[0m               \u001b[0mcallbacks\u001b[0m\u001b[0;34m.\u001b[0m\u001b[0mon_train_batch_begin\u001b[0m\u001b[0;34m(\u001b[0m\u001b[0mstep\u001b[0m\u001b[0;34m)\u001b[0m\u001b[0;34m\u001b[0m\u001b[0;34m\u001b[0m\u001b[0m\n\u001b[0;32m-> 1409\u001b[0;31m               \u001b[0mtmp_logs\u001b[0m \u001b[0;34m=\u001b[0m \u001b[0mself\u001b[0m\u001b[0;34m.\u001b[0m\u001b[0mtrain_function\u001b[0m\u001b[0;34m(\u001b[0m\u001b[0miterator\u001b[0m\u001b[0;34m)\u001b[0m\u001b[0;34m\u001b[0m\u001b[0;34m\u001b[0m\u001b[0m\n\u001b[0m\u001b[1;32m   1410\u001b[0m               \u001b[0;32mif\u001b[0m \u001b[0mdata_handler\u001b[0m\u001b[0;34m.\u001b[0m\u001b[0mshould_sync\u001b[0m\u001b[0;34m:\u001b[0m\u001b[0;34m\u001b[0m\u001b[0;34m\u001b[0m\u001b[0m\n\u001b[1;32m   1411\u001b[0m                 \u001b[0mcontext\u001b[0m\u001b[0;34m.\u001b[0m\u001b[0masync_wait\u001b[0m\u001b[0;34m(\u001b[0m\u001b[0;34m)\u001b[0m\u001b[0;34m\u001b[0m\u001b[0;34m\u001b[0m\u001b[0m\n",
            "\u001b[0;32m/usr/local/lib/python3.7/dist-packages/tensorflow/python/util/traceback_utils.py\u001b[0m in \u001b[0;36merror_handler\u001b[0;34m(*args, **kwargs)\u001b[0m\n\u001b[1;32m    148\u001b[0m     \u001b[0mfiltered_tb\u001b[0m \u001b[0;34m=\u001b[0m \u001b[0;32mNone\u001b[0m\u001b[0;34m\u001b[0m\u001b[0;34m\u001b[0m\u001b[0m\n\u001b[1;32m    149\u001b[0m     \u001b[0;32mtry\u001b[0m\u001b[0;34m:\u001b[0m\u001b[0;34m\u001b[0m\u001b[0;34m\u001b[0m\u001b[0m\n\u001b[0;32m--> 150\u001b[0;31m       \u001b[0;32mreturn\u001b[0m \u001b[0mfn\u001b[0m\u001b[0;34m(\u001b[0m\u001b[0;34m*\u001b[0m\u001b[0margs\u001b[0m\u001b[0;34m,\u001b[0m \u001b[0;34m**\u001b[0m\u001b[0mkwargs\u001b[0m\u001b[0;34m)\u001b[0m\u001b[0;34m\u001b[0m\u001b[0;34m\u001b[0m\u001b[0m\n\u001b[0m\u001b[1;32m    151\u001b[0m     \u001b[0;32mexcept\u001b[0m \u001b[0mException\u001b[0m \u001b[0;32mas\u001b[0m \u001b[0me\u001b[0m\u001b[0;34m:\u001b[0m\u001b[0;34m\u001b[0m\u001b[0;34m\u001b[0m\u001b[0m\n\u001b[1;32m    152\u001b[0m       \u001b[0mfiltered_tb\u001b[0m \u001b[0;34m=\u001b[0m \u001b[0m_process_traceback_frames\u001b[0m\u001b[0;34m(\u001b[0m\u001b[0me\u001b[0m\u001b[0;34m.\u001b[0m\u001b[0m__traceback__\u001b[0m\u001b[0;34m)\u001b[0m\u001b[0;34m\u001b[0m\u001b[0;34m\u001b[0m\u001b[0m\n",
            "\u001b[0;32m/usr/local/lib/python3.7/dist-packages/tensorflow/python/eager/def_function.py\u001b[0m in \u001b[0;36m__call__\u001b[0;34m(self, *args, **kwds)\u001b[0m\n\u001b[1;32m    913\u001b[0m \u001b[0;34m\u001b[0m\u001b[0m\n\u001b[1;32m    914\u001b[0m       \u001b[0;32mwith\u001b[0m \u001b[0mOptionalXlaContext\u001b[0m\u001b[0;34m(\u001b[0m\u001b[0mself\u001b[0m\u001b[0;34m.\u001b[0m\u001b[0m_jit_compile\u001b[0m\u001b[0;34m)\u001b[0m\u001b[0;34m:\u001b[0m\u001b[0;34m\u001b[0m\u001b[0;34m\u001b[0m\u001b[0m\n\u001b[0;32m--> 915\u001b[0;31m         \u001b[0mresult\u001b[0m \u001b[0;34m=\u001b[0m \u001b[0mself\u001b[0m\u001b[0;34m.\u001b[0m\u001b[0m_call\u001b[0m\u001b[0;34m(\u001b[0m\u001b[0;34m*\u001b[0m\u001b[0margs\u001b[0m\u001b[0;34m,\u001b[0m \u001b[0;34m**\u001b[0m\u001b[0mkwds\u001b[0m\u001b[0;34m)\u001b[0m\u001b[0;34m\u001b[0m\u001b[0;34m\u001b[0m\u001b[0m\n\u001b[0m\u001b[1;32m    916\u001b[0m \u001b[0;34m\u001b[0m\u001b[0m\n\u001b[1;32m    917\u001b[0m       \u001b[0mnew_tracing_count\u001b[0m \u001b[0;34m=\u001b[0m \u001b[0mself\u001b[0m\u001b[0;34m.\u001b[0m\u001b[0mexperimental_get_tracing_count\u001b[0m\u001b[0;34m(\u001b[0m\u001b[0;34m)\u001b[0m\u001b[0;34m\u001b[0m\u001b[0;34m\u001b[0m\u001b[0m\n",
            "\u001b[0;32m/usr/local/lib/python3.7/dist-packages/tensorflow/python/eager/def_function.py\u001b[0m in \u001b[0;36m_call\u001b[0;34m(self, *args, **kwds)\u001b[0m\n\u001b[1;32m    961\u001b[0m       \u001b[0;31m# This is the first call of __call__, so we have to initialize.\u001b[0m\u001b[0;34m\u001b[0m\u001b[0;34m\u001b[0m\u001b[0;34m\u001b[0m\u001b[0m\n\u001b[1;32m    962\u001b[0m       \u001b[0minitializers\u001b[0m \u001b[0;34m=\u001b[0m \u001b[0;34m[\u001b[0m\u001b[0;34m]\u001b[0m\u001b[0;34m\u001b[0m\u001b[0;34m\u001b[0m\u001b[0m\n\u001b[0;32m--> 963\u001b[0;31m       \u001b[0mself\u001b[0m\u001b[0;34m.\u001b[0m\u001b[0m_initialize\u001b[0m\u001b[0;34m(\u001b[0m\u001b[0margs\u001b[0m\u001b[0;34m,\u001b[0m \u001b[0mkwds\u001b[0m\u001b[0;34m,\u001b[0m \u001b[0madd_initializers_to\u001b[0m\u001b[0;34m=\u001b[0m\u001b[0minitializers\u001b[0m\u001b[0;34m)\u001b[0m\u001b[0;34m\u001b[0m\u001b[0;34m\u001b[0m\u001b[0m\n\u001b[0m\u001b[1;32m    964\u001b[0m     \u001b[0;32mfinally\u001b[0m\u001b[0;34m:\u001b[0m\u001b[0;34m\u001b[0m\u001b[0;34m\u001b[0m\u001b[0m\n\u001b[1;32m    965\u001b[0m       \u001b[0;31m# At this point we know that the initialization is complete (or less\u001b[0m\u001b[0;34m\u001b[0m\u001b[0;34m\u001b[0m\u001b[0;34m\u001b[0m\u001b[0m\n",
            "\u001b[0;32m/usr/local/lib/python3.7/dist-packages/tensorflow/python/eager/def_function.py\u001b[0m in \u001b[0;36m_initialize\u001b[0;34m(self, args, kwds, add_initializers_to)\u001b[0m\n\u001b[1;32m    784\u001b[0m     self._concrete_stateful_fn = (\n\u001b[1;32m    785\u001b[0m         self._stateful_fn._get_concrete_function_internal_garbage_collected(  # pylint: disable=protected-access\n\u001b[0;32m--> 786\u001b[0;31m             *args, **kwds))\n\u001b[0m\u001b[1;32m    787\u001b[0m \u001b[0;34m\u001b[0m\u001b[0m\n\u001b[1;32m    788\u001b[0m     \u001b[0;32mdef\u001b[0m \u001b[0minvalid_creator_scope\u001b[0m\u001b[0;34m(\u001b[0m\u001b[0;34m*\u001b[0m\u001b[0munused_args\u001b[0m\u001b[0;34m,\u001b[0m \u001b[0;34m**\u001b[0m\u001b[0munused_kwds\u001b[0m\u001b[0;34m)\u001b[0m\u001b[0;34m:\u001b[0m\u001b[0;34m\u001b[0m\u001b[0;34m\u001b[0m\u001b[0m\n",
            "\u001b[0;32m/usr/local/lib/python3.7/dist-packages/tensorflow/python/eager/function.py\u001b[0m in \u001b[0;36m_get_concrete_function_internal_garbage_collected\u001b[0;34m(self, *args, **kwargs)\u001b[0m\n\u001b[1;32m   2478\u001b[0m       \u001b[0margs\u001b[0m\u001b[0;34m,\u001b[0m \u001b[0mkwargs\u001b[0m \u001b[0;34m=\u001b[0m \u001b[0;32mNone\u001b[0m\u001b[0;34m,\u001b[0m \u001b[0;32mNone\u001b[0m\u001b[0;34m\u001b[0m\u001b[0;34m\u001b[0m\u001b[0m\n\u001b[1;32m   2479\u001b[0m     \u001b[0;32mwith\u001b[0m \u001b[0mself\u001b[0m\u001b[0;34m.\u001b[0m\u001b[0m_lock\u001b[0m\u001b[0;34m:\u001b[0m\u001b[0;34m\u001b[0m\u001b[0;34m\u001b[0m\u001b[0m\n\u001b[0;32m-> 2480\u001b[0;31m       \u001b[0mgraph_function\u001b[0m\u001b[0;34m,\u001b[0m \u001b[0m_\u001b[0m \u001b[0;34m=\u001b[0m \u001b[0mself\u001b[0m\u001b[0;34m.\u001b[0m\u001b[0m_maybe_define_function\u001b[0m\u001b[0;34m(\u001b[0m\u001b[0margs\u001b[0m\u001b[0;34m,\u001b[0m \u001b[0mkwargs\u001b[0m\u001b[0;34m)\u001b[0m\u001b[0;34m\u001b[0m\u001b[0;34m\u001b[0m\u001b[0m\n\u001b[0m\u001b[1;32m   2481\u001b[0m     \u001b[0;32mreturn\u001b[0m \u001b[0mgraph_function\u001b[0m\u001b[0;34m\u001b[0m\u001b[0;34m\u001b[0m\u001b[0m\n\u001b[1;32m   2482\u001b[0m \u001b[0;34m\u001b[0m\u001b[0m\n",
            "\u001b[0;32m/usr/local/lib/python3.7/dist-packages/tensorflow/python/eager/function.py\u001b[0m in \u001b[0;36m_maybe_define_function\u001b[0;34m(self, args, kwargs)\u001b[0m\n\u001b[1;32m   2709\u001b[0m             \u001b[0;34m(\u001b[0m\u001b[0margs\u001b[0m\u001b[0;34m,\u001b[0m \u001b[0mkwargs\u001b[0m\u001b[0;34m)\u001b[0m \u001b[0;34m=\u001b[0m \u001b[0mcache_key\u001b[0m\u001b[0;34m.\u001b[0m\u001b[0m_placeholder_value\u001b[0m\u001b[0;34m(\u001b[0m\u001b[0;34m)\u001b[0m  \u001b[0;31m# pylint: disable=protected-access\u001b[0m\u001b[0;34m\u001b[0m\u001b[0;34m\u001b[0m\u001b[0m\n\u001b[1;32m   2710\u001b[0m \u001b[0;34m\u001b[0m\u001b[0m\n\u001b[0;32m-> 2711\u001b[0;31m           \u001b[0mgraph_function\u001b[0m \u001b[0;34m=\u001b[0m \u001b[0mself\u001b[0m\u001b[0;34m.\u001b[0m\u001b[0m_create_graph_function\u001b[0m\u001b[0;34m(\u001b[0m\u001b[0margs\u001b[0m\u001b[0;34m,\u001b[0m \u001b[0mkwargs\u001b[0m\u001b[0;34m)\u001b[0m\u001b[0;34m\u001b[0m\u001b[0;34m\u001b[0m\u001b[0m\n\u001b[0m\u001b[1;32m   2712\u001b[0m           self._function_cache.add(cache_key, cache_key_deletion_observer,\n\u001b[1;32m   2713\u001b[0m                                    graph_function)\n",
            "\u001b[0;32m/usr/local/lib/python3.7/dist-packages/tensorflow/python/eager/function.py\u001b[0m in \u001b[0;36m_create_graph_function\u001b[0;34m(self, args, kwargs)\u001b[0m\n\u001b[1;32m   2634\u001b[0m             \u001b[0mautograph_options\u001b[0m\u001b[0;34m=\u001b[0m\u001b[0mself\u001b[0m\u001b[0;34m.\u001b[0m\u001b[0m_autograph_options\u001b[0m\u001b[0;34m,\u001b[0m\u001b[0;34m\u001b[0m\u001b[0;34m\u001b[0m\u001b[0m\n\u001b[1;32m   2635\u001b[0m             \u001b[0marg_names\u001b[0m\u001b[0;34m=\u001b[0m\u001b[0marg_names\u001b[0m\u001b[0;34m,\u001b[0m\u001b[0;34m\u001b[0m\u001b[0;34m\u001b[0m\u001b[0m\n\u001b[0;32m-> 2636\u001b[0;31m             capture_by_value=self._capture_by_value),\n\u001b[0m\u001b[1;32m   2637\u001b[0m         \u001b[0mself\u001b[0m\u001b[0;34m.\u001b[0m\u001b[0m_function_attributes\u001b[0m\u001b[0;34m,\u001b[0m\u001b[0;34m\u001b[0m\u001b[0;34m\u001b[0m\u001b[0m\n\u001b[1;32m   2638\u001b[0m         \u001b[0mspec\u001b[0m\u001b[0;34m=\u001b[0m\u001b[0mself\u001b[0m\u001b[0;34m.\u001b[0m\u001b[0mfunction_spec\u001b[0m\u001b[0;34m,\u001b[0m\u001b[0;34m\u001b[0m\u001b[0;34m\u001b[0m\u001b[0m\n",
            "\u001b[0;32m/usr/local/lib/python3.7/dist-packages/tensorflow/python/framework/func_graph.py\u001b[0m in \u001b[0;36mfunc_graph_from_py_func\u001b[0;34m(name, python_func, args, kwargs, signature, func_graph, autograph, autograph_options, add_control_dependencies, arg_names, op_return_value, collections, capture_by_value, acd_record_initial_resource_uses)\u001b[0m\n\u001b[1;32m   1180\u001b[0m         if x is not None)\n\u001b[1;32m   1181\u001b[0m \u001b[0;34m\u001b[0m\u001b[0m\n\u001b[0;32m-> 1182\u001b[0;31m     \u001b[0mfunc_graph\u001b[0m\u001b[0;34m.\u001b[0m\u001b[0mvariables\u001b[0m \u001b[0;34m=\u001b[0m \u001b[0mvariables\u001b[0m\u001b[0;34m\u001b[0m\u001b[0;34m\u001b[0m\u001b[0m\n\u001b[0m\u001b[1;32m   1183\u001b[0m \u001b[0;34m\u001b[0m\u001b[0m\n\u001b[1;32m   1184\u001b[0m   \u001b[0;32mif\u001b[0m \u001b[0madd_control_dependencies\u001b[0m\u001b[0;34m:\u001b[0m\u001b[0;34m\u001b[0m\u001b[0;34m\u001b[0m\u001b[0m\n",
            "\u001b[0;32m/usr/local/lib/python3.7/dist-packages/tensorflow/python/framework/auto_control_deps.py\u001b[0m in \u001b[0;36m__exit__\u001b[0;34m(self, unused_type, unused_value, unused_traceback)\u001b[0m\n\u001b[1;32m    526\u001b[0m \u001b[0;34m\u001b[0m\u001b[0m\n\u001b[1;32m    527\u001b[0m       \u001b[0;31m# Ensure ordering of collective ops\u001b[0m\u001b[0;34m\u001b[0m\u001b[0;34m\u001b[0m\u001b[0;34m\u001b[0m\u001b[0m\n\u001b[0;32m--> 528\u001b[0;31m       \u001b[0mmanager_ids\u001b[0m \u001b[0;34m=\u001b[0m \u001b[0mcollective_manager_ids_from_op\u001b[0m\u001b[0;34m(\u001b[0m\u001b[0mop\u001b[0m\u001b[0;34m)\u001b[0m\u001b[0;34m\u001b[0m\u001b[0;34m\u001b[0m\u001b[0m\n\u001b[0m\u001b[1;32m    529\u001b[0m       \u001b[0;32mfor\u001b[0m \u001b[0mmanager_id\u001b[0m \u001b[0;32min\u001b[0m \u001b[0mmanager_ids\u001b[0m\u001b[0;34m:\u001b[0m\u001b[0;34m\u001b[0m\u001b[0;34m\u001b[0m\u001b[0m\n\u001b[1;32m    530\u001b[0m         \u001b[0;32mif\u001b[0m \u001b[0mmanager_id\u001b[0m \u001b[0;32min\u001b[0m \u001b[0mcollective_manager_scopes_opened\u001b[0m\u001b[0;34m:\u001b[0m\u001b[0;34m\u001b[0m\u001b[0;34m\u001b[0m\u001b[0m\n",
            "\u001b[0;32m/usr/local/lib/python3.7/dist-packages/tensorflow/python/framework/auto_control_deps.py\u001b[0m in \u001b[0;36mcollective_manager_ids_from_op\u001b[0;34m(op)\u001b[0m\n\u001b[1;32m    179\u001b[0m     \u001b[0;32mexcept\u001b[0m \u001b[0mValueError\u001b[0m\u001b[0;34m:\u001b[0m\u001b[0;34m\u001b[0m\u001b[0;34m\u001b[0m\u001b[0m\n\u001b[1;32m    180\u001b[0m       \u001b[0;32mpass\u001b[0m\u001b[0;34m\u001b[0m\u001b[0;34m\u001b[0m\u001b[0m\n\u001b[0;32m--> 181\u001b[0;31m   \u001b[0;32mreturn\u001b[0m \u001b[0;34m[\u001b[0m\u001b[0;34m]\u001b[0m\u001b[0;34m\u001b[0m\u001b[0;34m\u001b[0m\u001b[0m\n\u001b[0m\u001b[1;32m    182\u001b[0m \u001b[0;34m\u001b[0m\u001b[0m\n\u001b[1;32m    183\u001b[0m \u001b[0;34m\u001b[0m\u001b[0m\n",
            "\u001b[0;31mKeyboardInterrupt\u001b[0m: "
          ]
        }
      ]
    },
    {
      "cell_type": "markdown",
      "source": [
        "**Model construction (multi-step)**"
      ],
      "metadata": {
        "id": "udyIwrcvRiya"
      }
    },
    {
      "cell_type": "code",
      "source": [
        "  #Load data\n",
        "data = load_data(historical_data)\n",
        "\n",
        "  #Isolate data\n",
        "data = data[[inputColumn, outputColumn]].copy()\n",
        "\n",
        "  #Process data columns\n",
        "data = process_data(data)\n",
        "\n",
        "  #Shift data\n",
        "shiftDays = 1 \n",
        "shiftSteps = shiftDays * 24\n",
        "\n",
        "shiftedData = data[outputColumn].shift(-shiftSteps)\n",
        "\n",
        "#shiftedData = data\n",
        "#shiftedData[outputColumn] = shiftedData[outputColumn].shift(-shiftSteps)\n",
        "\n",
        "  #Verify shifted data\n",
        "print(data[outputColumn].head(shiftSteps + 5))\n",
        "print(shiftedData.head(5))\n",
        "print(shiftedData.tail()) #this should be NaN, since the data has been shifted backwards (down)\n",
        "\n",
        "  #Set shifted data as new output column\n",
        "data[outputColumn] = shiftedData\n",
        "\n",
        "  #Delete empty rows in tail\n",
        "data.drop(data.tail(shiftSteps).index,inplace=True)\n",
        "print(f'Verify empty tail is removed: {data.tail(shiftDays)}')\n",
        "\n",
        "\n",
        "  #Split data\n",
        "train, test = splitData(data)\n",
        "print(f'Split shifted data: {splitData(data)}')\n",
        "#print(f'Split shifted data: {splitData(shiftedData)}')\n",
        "\n",
        "\n",
        "  #Transform data\n",
        "#train = transformData(data[0], [inputColumn, outputColumn])\n",
        "#test = transformData(data[1], [inputColumn, outputColumn])\n",
        "\n",
        "inputTransformer = RobustScaler()\n",
        "outputTransformer = RobustScaler()\n",
        "\n",
        "inputTransformer = inputTransformer.fit(train[[inputColumn]].to_numpy())\n",
        "outputTransformer = outputTransformer.fit(train[[outputColumn]]) #No need to transform into numpy\n",
        "\n",
        "train.loc[:, inputColumn] = inputTransformer.transform(train[[inputColumn]].to_numpy())\n",
        "train[outputColumn] = outputTransformer.transform(train[[outputColumn]])\n",
        "\n",
        "test.loc[:, inputColumn] = inputTransformer.transform(test[[inputColumn]].to_numpy())\n",
        "test[outputColumn] = outputTransformer.transform(test[[outputColumn]])\n",
        "\n",
        "print(f'Test data: {train}')\n",
        "\n",
        "\n",
        "  #Create dataset\n",
        "#input, output = createDatasets(train[inputColumn], train[outputColumn], steps)\n",
        "input, output = createDatasets(train, train[outputColumn], steps)\n",
        "\n",
        "print(f'Dataset shape set to: {input.shape, output.shape}')\n",
        "print(f'Set model input shape to: {input.shape[0], input.shape[1]}')\n",
        "print(f'Input data: {input}')\n",
        "print(f'Output data: {output}')\n",
        "\n",
        "  #Build model\n",
        "model = keras.Sequential()\n",
        "model.add(\n",
        "  keras.layers.Bidirectional(\n",
        "    keras.layers.LSTM(\n",
        "      units=128, \n",
        "      input_shape=(input.shape[1], input.shape[2])\n",
        "      #input_shape=(input.shape[0], input.shape[1])\n",
        "    )\n",
        "  )\n",
        ")\n",
        "model.add(keras.layers.Dropout(rate=0.2))\n",
        "model.add(keras.layers.Dense(units=1))\n",
        "\n",
        "  #Compile model\n",
        "model = compile(model)\n",
        "#model.compile(loss='mean_squared_error', optimizer='adam')\n",
        "\n",
        "  #Fit model\n",
        "history = fit(model, input, output)\n",
        "\n",
        "  #Create test dataset\n",
        "testInput, testOutput = createDatasets(test, test[outputColumn], steps)\n",
        "print(f'Test data shape: {testInput.shape}')\n",
        "print(f'Input: {testInput}')\n",
        "\n",
        "  #Make prediction\n",
        "prediction = make_prediction(model, testInput, False)\n",
        "print(f'Predictions: {prediction}')\n",
        "\n",
        "  #Inverse transform data\n",
        "predictionInverse = outputTransformer.inverse_transform(prediction)\n",
        "outputTestInv = outputTransformer.inverse_transform(testOutput.reshape(-1, 1))\n",
        "\n",
        "#print(f'Prediction output shape: {inverseTransformData(prediction).shape}')\n",
        "#print(f'Prediction values: {inverseTransformData(prediction)}')\n",
        "\n",
        "#print(f'Real values: {data[1].head(20)}')\n",
        "#print(f'Real values: {inverseTransformData(np.reshape(testOutput,(-1,1)))}')\n",
        "#look = inverseTransformData(np.reshape(testOutput,(-1,1)))\n",
        "#print(look[-20:, :])\n",
        "#print(f'Shapes {testOutput.shape, look.shape}')\n",
        "\n",
        "\n",
        "  #Plot predictions vs test data\n",
        "plt.plot(outputTestInv.flatten(), marker='.', label='true')\n",
        "plt.plot(predictionInverse.flatten(), 'r', label='predicted')\n",
        "plt.legend()\n",
        "\n",
        "  #Inspect \n",
        "print(predictionInverse[0:23])\n",
        "print(outputTestInv[0:23])\n"
      ],
      "metadata": {
        "id": "YyKYmQJ8RnzY"
      },
      "execution_count": null,
      "outputs": []
    },
    {
      "cell_type": "markdown",
      "source": [
        "**Method to test models**"
      ],
      "metadata": {
        "id": "dtJX6O8NV6nu"
      }
    },
    {
      "cell_type": "code",
      "source": [
        "def model_test(model):\n",
        "    #Load data\n",
        "    data = load_data(historical_data)\n",
        "\n",
        "      #Isolate data\n",
        "    data = data[[inputColumn, outputColumn]].copy()\n",
        "\n",
        "      #Process data columns\n",
        "    data = process_data(data)\n",
        "\n",
        "      #Shift data\n",
        "    shiftDays = 1 \n",
        "    shiftSteps = shiftDays * 24\n",
        "\n",
        "    shiftedData = data[outputColumn].shift(-shiftSteps)\n",
        "\n",
        "    #shiftedData = data\n",
        "    #shiftedData[outputColumn] = shiftedData[outputColumn].shift(-shiftSteps)\n",
        "\n",
        "      #Verify shifted data\n",
        "    print(data[outputColumn].head(shiftSteps + 5))\n",
        "    print(shiftedData.head(5))\n",
        "    print(shiftedData.tail()) #this should be NaN, since the data has been shifted backwards (down)\n",
        "\n",
        "      #Set shifted data as new output column\n",
        "    data[outputColumn] = shiftedData\n",
        "\n",
        "      #Delete empty rows in tail\n",
        "    data.drop(data.tail(shiftSteps).index,inplace=True)\n",
        "    print(f'Verify empty tail is removed: {data.tail(shiftDays)}')\n",
        "\n",
        "\n",
        "      #Split data\n",
        "    train, test = splitData(data)\n",
        "    print(f'Split shifted data: {splitData(data)}')\n",
        "    #print(f'Split shifted data: {splitData(shiftedData)}')\n",
        "\n",
        "\n",
        "      #Transform data\n",
        "    #train = transformData(data[0], [inputColumn, outputColumn])\n",
        "    #test = transformData(data[1], [inputColumn, outputColumn])\n",
        "\n",
        "    inputTransformer = RobustScaler()\n",
        "    outputTransformer = RobustScaler()\n",
        "\n",
        "    inputTransformer = inputTransformer.fit(train[[inputColumn]].to_numpy())\n",
        "    outputTransformer = outputTransformer.fit(train[[outputColumn]]) #No need to transform into numpy\n",
        "\n",
        "    train.loc[:, inputColumn] = inputTransformer.transform(train[[inputColumn]].to_numpy())\n",
        "    train[outputColumn] = outputTransformer.transform(train[[outputColumn]])\n",
        "\n",
        "    test.loc[:, inputColumn] = inputTransformer.transform(test[[inputColumn]].to_numpy())\n",
        "    test[outputColumn] = outputTransformer.transform(test[[outputColumn]])\n",
        "\n",
        "    print(f'Test data: {train}')\n",
        "\n",
        "\n",
        "      #Create dataset\n",
        "    #input, output = createDatasets(train[inputColumn], train[outputColumn], steps)\n",
        "    input, output = createDatasets(train, train[outputColumn], steps)\n",
        "\n",
        "    print(f'Dataset shape set to: {input.shape, output.shape}')\n",
        "    print(f'Set model input shape to: {input.shape[0], input.shape[1]}')\n",
        "    print(f'Input data: {input}')\n",
        "    print(f'Output data: {output}')\n",
        "\n",
        "      #Build model\n",
        "    #model = keras.Sequential()\n",
        "    #model.add(\n",
        "   #   keras.layers.Bidirectional(\n",
        "   #     keras.layers.LSTM(\n",
        "   #       units=128, \n",
        "   #       input_shape=(input.shape[1], input.shape[2])\n",
        "          #input_shape=(input.shape[0], input.shape[1])\n",
        "   #     )\n",
        "   #   )\n",
        "  #  )\n",
        "  #  model.add(keras.layers.Dropout(rate=0.2))\n",
        "  #  model.add(keras.layers.Dense(units=1))\n",
        "\n",
        "      #Compile model\n",
        "    model = compile(model)\n",
        "    #model.compile(loss='mean_squared_error', optimizer='adam')\n",
        "\n",
        "      #Fit model\n",
        "    history = fit(model, input, output)\n",
        "\n",
        "      #Create test dataset\n",
        "    testInput, testOutput = createDatasets(test, test[outputColumn], steps)\n",
        "    print(f'Test data shape: {testInput.shape}')\n",
        "    print(f'Input: {testInput}')\n",
        "\n",
        "      #Evaluate model \n",
        "    print(\"EVALUATION START\")  \n",
        "    scores = model.evaluate(testInput, testOutput, verbose=0)\n",
        "    print(\"%s: %.2f%%\" % (model.metrics_names[1], scores[1])) \n",
        "   \n",
        "    cvscores = []\n",
        "    cvscores.append(scores[1])\n",
        " \n",
        "    print(\"%.2f%% (+/- %.2f%%)\" % (np.mean(cvscores), np.std(cvscores)))\n",
        "    print(\"EVALUATION END\")  \n",
        "\n",
        "      #Make prediction\n",
        "    prediction = make_prediction(model, testInput, False)\n",
        "    print(f'Predictions: {prediction}')\n",
        "\n",
        "      #Inverse transform data\n",
        "    predictionInverse = outputTransformer.inverse_transform(prediction)\n",
        "    outputTestInv = outputTransformer.inverse_transform(testOutput.reshape(-1, 1))\n",
        "\n",
        "    #print(f'Prediction output shape: {inverseTransformData(prediction).shape}')\n",
        "    #print(f'Prediction values: {inverseTransformData(prediction)}')\n",
        "\n",
        "    #print(f'Real values: {data[1].head(20)}')\n",
        "    #print(f'Real values: {inverseTransformData(np.reshape(testOutput,(-1,1)))}')\n",
        "    #look = inverseTransformData(np.reshape(testOutput,(-1,1)))\n",
        "    #print(look[-20:, :])\n",
        "    #print(f'Shapes {testOutput.shape, look.shape}')\n",
        "\n",
        "\n",
        "      #Plot predictions vs test data\n",
        "    plt.plot(outputTestInv.flatten(), marker='.', label='true')\n",
        "    plt.plot(predictionInverse.flatten(), 'r', label='predicted')\n",
        "    plt.legend()\n",
        "\n",
        "      #Inspect \n",
        "    print(predictionInverse[0:23])\n",
        "    print(outputTestInv[23:47])\n",
        "\n",
        "    return history"
      ],
      "metadata": {
        "id": "jTVNLPQNWDuG"
      },
      "execution_count": null,
      "outputs": []
    },
    {
      "cell_type": "markdown",
      "source": [
        "**Model tester**"
      ],
      "metadata": {
        "id": "f9ZtPv76kQeJ"
      }
    },
    {
      "cell_type": "code",
      "source": [
        "GRU = keras.Sequential()\n",
        "\n",
        "GRU.add(keras.layers.GRU(units=128,\n",
        "             # return_sequences=True,\n",
        "              input_shape=(24, 2))\n",
        "        )\n",
        "GRU.add(keras.layers.Dropout(rate=0.2))\n",
        "GRU.add(keras.layers.Dense(units=1))\n",
        "\n",
        "\n",
        "model = keras.Sequential()\n",
        "model.add(\n",
        "  keras.layers.Bidirectional(\n",
        "    keras.layers.LSTM(\n",
        "      units=128, \n",
        "      input_shape=(input.shape[1], input.shape[2])\n",
        "      #input_shape=(input.shape[0], input.shape[1])\n",
        "    )\n",
        "  )\n",
        ")\n",
        "model.add(keras.layers.Dropout(rate=0.2))\n",
        "model.add(keras.layers.Dense(units=1))\n",
        "\n",
        "perf_history = {}\n",
        "perf_history['GRU'] = model_test(GRU)\n"
      ],
      "metadata": {
        "colab": {
          "base_uri": "https://localhost:8080/",
          "height": 1000
        },
        "id": "tvf6MdxzkS6M",
        "outputId": "53506176-ae55-430c-f053-f61afdec7881"
      },
      "execution_count": null,
      "outputs": [
        {
          "output_type": "stream",
          "name": "stdout",
          "text": [
            "0     0.12\n",
            "1     0.15\n",
            "2     0.14\n",
            "3     0.12\n",
            "4     0.08\n",
            "5     0.03\n",
            "6     0.00\n",
            "7     0.00\n",
            "8     0.00\n",
            "9     0.00\n",
            "10    0.00\n",
            "11    0.00\n",
            "12    0.00\n",
            "13    0.00\n",
            "14    0.00\n",
            "15    0.00\n",
            "16    0.00\n",
            "17    0.00\n",
            "18    0.00\n",
            "19    0.01\n",
            "20    0.03\n",
            "21    0.06\n",
            "22    0.10\n",
            "23    0.11\n",
            "24    0.11\n",
            "25    0.13\n",
            "26    0.14\n",
            "27    0.12\n",
            "28    0.07\n",
            "Name: DiffuseSunPower kW/m², dtype: float64\n",
            "0    0.11\n",
            "1    0.13\n",
            "2    0.14\n",
            "3    0.12\n",
            "4    0.07\n",
            "Name: DiffuseSunPower kW/m², dtype: float64\n",
            "15248   NaN\n",
            "15249   NaN\n",
            "15250   NaN\n",
            "15251   NaN\n",
            "15252   NaN\n",
            "Name: DiffuseSunPower kW/m², dtype: float64\n",
            "Verify empty tail is removed:        SunAltitude °  DiffuseSunPower kW/m²\n",
            "15228            0.0                    0.0\n",
            "Split shifted data: (       SunAltitude °  DiffuseSunPower kW/m²\n",
            "0           0.512254                   0.11\n",
            "1           0.510858                   0.13\n",
            "2           0.466701                   0.14\n",
            "3           0.385194                   0.12\n",
            "4           0.275238                   0.07\n",
            "...              ...                    ...\n",
            "13701       0.547510                   0.07\n",
            "13702       0.674570                   0.06\n",
            "13703       0.774926                   0.07\n",
            "13704       0.834616                   0.08\n",
            "13705       0.841772                   0.08\n",
            "\n",
            "[13706 rows x 2 columns],        SunAltitude °  DiffuseSunPower kW/m²\n",
            "13706       0.794648                   0.09\n",
            "13707       0.703193                   0.09\n",
            "13708       0.581893                   0.11\n",
            "13709       0.443488                   0.12\n",
            "13710       0.297928                   0.07\n",
            "...              ...                    ...\n",
            "15224       0.158127                   0.01\n",
            "15225       0.039968                   0.00\n",
            "15226      -0.064403                   0.00\n",
            "15227       0.000000                   0.00\n",
            "15228       0.000000                   0.00\n",
            "\n",
            "[1523 rows x 2 columns])\n",
            "Test data:        SunAltitude °  DiffuseSunPower kW/m²\n",
            "0           1.832371               1.833333\n",
            "1           1.827376               2.166667\n",
            "2           1.669424               2.333333\n",
            "3           1.377868               2.000000\n",
            "4           0.984548               1.166667\n",
            "...              ...                    ...\n",
            "13701       1.958483               1.166667\n",
            "13702       2.412986               1.000000\n",
            "13703       2.771968               1.166667\n",
            "13704       2.985485               1.333333\n",
            "13705       3.011082               1.333333\n",
            "\n",
            "[13706 rows x 2 columns]\n"
          ]
        },
        {
          "output_type": "stream",
          "name": "stderr",
          "text": [
            "/usr/local/lib/python3.7/dist-packages/pandas/core/indexing.py:1951: SettingWithCopyWarning: \n",
            "A value is trying to be set on a copy of a slice from a DataFrame.\n",
            "Try using .loc[row_indexer,col_indexer] = value instead\n",
            "\n",
            "See the caveats in the documentation: https://pandas.pydata.org/pandas-docs/stable/user_guide/indexing.html#returning-a-view-versus-a-copy\n",
            "  self.obj[selected_item_labels] = value\n",
            "/usr/local/lib/python3.7/dist-packages/ipykernel_launcher.py:50: SettingWithCopyWarning: \n",
            "A value is trying to be set on a copy of a slice from a DataFrame.\n",
            "Try using .loc[row_indexer,col_indexer] = value instead\n",
            "\n",
            "See the caveats in the documentation: https://pandas.pydata.org/pandas-docs/stable/user_guide/indexing.html#returning-a-view-versus-a-copy\n",
            "/usr/local/lib/python3.7/dist-packages/pandas/core/indexing.py:1951: SettingWithCopyWarning: \n",
            "A value is trying to be set on a copy of a slice from a DataFrame.\n",
            "Try using .loc[row_indexer,col_indexer] = value instead\n",
            "\n",
            "See the caveats in the documentation: https://pandas.pydata.org/pandas-docs/stable/user_guide/indexing.html#returning-a-view-versus-a-copy\n",
            "  self.obj[selected_item_labels] = value\n",
            "/usr/local/lib/python3.7/dist-packages/ipykernel_launcher.py:53: SettingWithCopyWarning: \n",
            "A value is trying to be set on a copy of a slice from a DataFrame.\n",
            "Try using .loc[row_indexer,col_indexer] = value instead\n",
            "\n",
            "See the caveats in the documentation: https://pandas.pydata.org/pandas-docs/stable/user_guide/indexing.html#returning-a-view-versus-a-copy\n"
          ]
        },
        {
          "output_type": "stream",
          "name": "stdout",
          "text": [
            "Dataset shape set to: ((13682, 24, 2), (13682,))\n",
            "Set model input shape to: (13682, 24)\n",
            "Input data: [[[1.83237084 1.83333333]\n",
            "  [1.82737631 2.16666667]\n",
            "  [1.66942407 2.33333333]\n",
            "  ...\n",
            "  [0.99328859 1.5       ]\n",
            "  [1.37974091 1.83333333]\n",
            "  [1.66130794 2.33333333]]\n",
            "\n",
            " [[1.82737631 2.16666667]\n",
            "  [1.66942407 2.33333333]\n",
            "  [1.37786796 2.        ]\n",
            "  ...\n",
            "  [1.37974091 1.83333333]\n",
            "  [1.66130794 2.33333333]\n",
            "  [1.80864679 2.        ]]\n",
            "\n",
            " [[1.66942407 2.33333333]\n",
            "  [1.37786796 2.        ]\n",
            "  [0.98454815 1.16666667]\n",
            "  ...\n",
            "  [1.66130794 2.33333333]\n",
            "  [1.80864679 2.        ]\n",
            "  [1.80302794 2.        ]]\n",
            "\n",
            " ...\n",
            "\n",
            " [[2.75261433 1.16666667]\n",
            "  [2.96613079 1.33333333]\n",
            "  [2.9917278  1.33333333]\n",
            "  ...\n",
            "  [1.45278602 1.        ]\n",
            "  [1.95848291 1.16666667]\n",
            "  [2.4129858  1.        ]]\n",
            "\n",
            " [[2.96613079 1.33333333]\n",
            "  [2.9917278  1.33333333]\n",
            "  [2.8244108  1.33333333]\n",
            "  ...\n",
            "  [1.95848291 1.16666667]\n",
            "  [2.4129858  1.        ]\n",
            "  [2.77196816 1.16666667]]\n",
            "\n",
            " [[2.9917278  1.33333333]\n",
            "  [2.8244108  1.33333333]\n",
            "  [2.49851725 1.33333333]\n",
            "  ...\n",
            "  [2.4129858  1.        ]\n",
            "  [2.77196816 1.16666667]\n",
            "  [2.98548463 1.33333333]]]\n",
            "Output data: [2.         2.         2.33333333 ... 1.16666667 1.33333333 1.33333333]\n",
            "Epoch 1/20\n",
            "385/385 [==============================] - 13s 27ms/step - loss: 0.1137 - mean_absolute_error: 0.2002 - val_loss: 0.1027 - val_mean_absolute_error: 0.1985\n",
            "Epoch 2/20\n",
            "385/385 [==============================] - 11s 27ms/step - loss: 0.1004 - mean_absolute_error: 0.1792 - val_loss: 0.1026 - val_mean_absolute_error: 0.1990\n",
            "Epoch 3/20\n",
            "385/385 [==============================] - 11s 29ms/step - loss: 0.1003 - mean_absolute_error: 0.1763 - val_loss: 0.1051 - val_mean_absolute_error: 0.1952\n",
            "Epoch 4/20\n",
            "385/385 [==============================] - 10s 26ms/step - loss: 0.0985 - mean_absolute_error: 0.1727 - val_loss: 0.1027 - val_mean_absolute_error: 0.1925\n",
            "Epoch 5/20\n",
            "385/385 [==============================] - 10s 26ms/step - loss: 0.0994 - mean_absolute_error: 0.1719 - val_loss: 0.1054 - val_mean_absolute_error: 0.1973\n",
            "Epoch 6/20\n",
            "385/385 [==============================] - 10s 26ms/step - loss: 0.0976 - mean_absolute_error: 0.1691 - val_loss: 0.1048 - val_mean_absolute_error: 0.1931\n",
            "Epoch 7/20\n",
            "385/385 [==============================] - 10s 26ms/step - loss: 0.0968 - mean_absolute_error: 0.1651 - val_loss: 0.1048 - val_mean_absolute_error: 0.1919\n",
            "Epoch 8/20\n",
            "385/385 [==============================] - 10s 26ms/step - loss: 0.0963 - mean_absolute_error: 0.1641 - val_loss: 0.1070 - val_mean_absolute_error: 0.1952\n",
            "Epoch 9/20\n",
            "385/385 [==============================] - 10s 26ms/step - loss: 0.0970 - mean_absolute_error: 0.1632 - val_loss: 0.1039 - val_mean_absolute_error: 0.1915\n",
            "Epoch 10/20\n",
            "385/385 [==============================] - 10s 26ms/step - loss: 0.0959 - mean_absolute_error: 0.1624 - val_loss: 0.1050 - val_mean_absolute_error: 0.1909\n",
            "Epoch 11/20\n",
            "385/385 [==============================] - 10s 26ms/step - loss: 0.0963 - mean_absolute_error: 0.1618 - val_loss: 0.1048 - val_mean_absolute_error: 0.1893\n",
            "Epoch 12/20\n",
            "385/385 [==============================] - 10s 25ms/step - loss: 0.0961 - mean_absolute_error: 0.1616 - val_loss: 0.1053 - val_mean_absolute_error: 0.1891\n",
            "Test data shape: (1499, 24, 2)\n",
            "Input: [[[ 2.842516    1.5       ]\n",
            "  [ 2.51537381  1.5       ]\n",
            "  [ 2.08147339  1.83333333]\n",
            "  ...\n",
            "  [ 2.79132199  3.66666667]\n",
            "  [ 3.00546278  3.16666667]\n",
            "  [ 3.03043546  2.83333333]]\n",
            "\n",
            " [[ 2.51537381  1.5       ]\n",
            "  [ 2.08147339  1.83333333]\n",
            "  [ 1.58638989  2.        ]\n",
            "  ...\n",
            "  [ 3.00546278  3.16666667]\n",
            "  [ 3.03043546  2.83333333]\n",
            "  [ 2.8606212   2.5       ]]\n",
            "\n",
            " [[ 2.08147339  1.83333333]\n",
            "  [ 1.58638989  2.        ]\n",
            "  [ 1.06570938  1.16666667]\n",
            "  ...\n",
            "  [ 3.03043546  2.83333333]\n",
            "  [ 2.8606212   2.5       ]\n",
            "  [ 2.53223037  2.16666667]]\n",
            "\n",
            " ...\n",
            "\n",
            " [[-0.22787576  0.        ]\n",
            "  [ 0.          0.        ]\n",
            "  [ 0.          0.        ]\n",
            "  ...\n",
            "  [ 1.04885282  0.16666667]\n",
            "  [ 0.56563134  0.16666667]\n",
            "  [ 0.14296863  0.        ]]\n",
            "\n",
            " [[ 0.          0.        ]\n",
            "  [ 0.          0.        ]\n",
            "  [ 0.          0.        ]\n",
            "  ...\n",
            "  [ 0.56563134  0.16666667]\n",
            "  [ 0.14296863  0.        ]\n",
            "  [-0.23037303  0.        ]]\n",
            "\n",
            " [[ 0.          0.        ]\n",
            "  [ 0.          0.        ]\n",
            "  [ 0.          0.        ]\n",
            "  ...\n",
            "  [ 0.14296863  0.        ]\n",
            "  [-0.23037303  0.        ]\n",
            "  [ 0.          0.        ]]]\n",
            "EVALUATION START\n",
            "mean_absolute_error: 0.39%\n",
            "0.39% (+/- 0.00%)\n",
            "EVALUATION END\n",
            "47/47 [==============================] - 1s 8ms/step\n",
            "Predictions: [[ 2.1585279 ]\n",
            " [ 1.9095788 ]\n",
            " [ 1.621335  ]\n",
            " ...\n",
            " [-0.08462738]\n",
            " [-0.11783241]\n",
            " [-0.06768356]]\n",
            "[[ 1.2951167e-01]\n",
            " [ 1.1457473e-01]\n",
            " [ 9.7280100e-02]\n",
            " [ 6.8568744e-02]\n",
            " [ 5.7042051e-02]\n",
            " [ 2.9574061e-02]\n",
            " [-1.8793970e-04]\n",
            " [-3.0093116e-03]\n",
            " [-2.8650060e-03]\n",
            " [-3.3935478e-03]\n",
            " [-2.2753582e-03]\n",
            " [-1.6850728e-03]\n",
            " [-1.2575304e-03]\n",
            " [-7.6522795e-04]\n",
            " [-3.3601106e-04]\n",
            " [-1.3817847e-04]\n",
            " [-5.7323009e-04]\n",
            " [ 2.2743780e-02]\n",
            " [ 7.4613363e-02]\n",
            " [ 1.0449712e-01]\n",
            " [ 1.3312095e-01]\n",
            " [ 1.4148803e-01]\n",
            " [ 1.6617213e-01]]\n",
            "[[0.14]\n",
            " [0.19]\n",
            " [0.16]\n",
            " [0.12]\n",
            " [0.15]\n",
            " [0.09]\n",
            " [0.03]\n",
            " [0.01]\n",
            " [0.  ]\n",
            " [0.  ]\n",
            " [0.  ]\n",
            " [0.  ]\n",
            " [0.  ]\n",
            " [0.  ]\n",
            " [0.  ]\n",
            " [0.  ]\n",
            " [0.  ]\n",
            " [0.03]\n",
            " [0.09]\n",
            " [0.06]\n",
            " [0.08]\n",
            " [0.06]\n",
            " [0.08]\n",
            " [0.08]]\n"
          ]
        },
        {
          "output_type": "display_data",
          "data": {
            "text/plain": [
              "<Figure size 432x288 with 1 Axes>"
            ],
            "image/png": "[encoded data removed]"
          },
          "metadata": {
            "needs_background": "light"
          }
        }
      ]
    },
    {
      "cell_type": "code",
      "source": [
        "GRU2 = keras.Sequential()\n",
        "\n",
        "GRU2.add(keras.layers.GRU(units=128,\n",
        "             # return_sequences=True,\n",
        "              input_shape=(24, 2))\n",
        "        )\n",
        "GRU2.add(keras.layers.Dropout(rate=0.2))\n",
        "GRU2.add(keras.layers.Dense(units=1))\n",
        "\n",
        "\n",
        "perf_history['GRU2'] = model_test(GRU2)"
      ],
      "metadata": {
        "colab": {
          "base_uri": "https://localhost:8080/",
          "height": 1000
        },
        "id": "bQm-bEBmBJUY",
        "outputId": "99cf2ad0-d540-4c7a-dae9-f3c9fb042df3"
      },
      "execution_count": null,
      "outputs": [
        {
          "output_type": "stream",
          "name": "stdout",
          "text": [
            "0     0.12\n",
            "1     0.15\n",
            "2     0.14\n",
            "3     0.12\n",
            "4     0.08\n",
            "5     0.03\n",
            "6     0.00\n",
            "7     0.00\n",
            "8     0.00\n",
            "9     0.00\n",
            "10    0.00\n",
            "11    0.00\n",
            "12    0.00\n",
            "13    0.00\n",
            "14    0.00\n",
            "15    0.00\n",
            "16    0.00\n",
            "17    0.00\n",
            "18    0.00\n",
            "19    0.01\n",
            "20    0.03\n",
            "21    0.06\n",
            "22    0.10\n",
            "23    0.11\n",
            "24    0.11\n",
            "25    0.13\n",
            "26    0.14\n",
            "27    0.12\n",
            "28    0.07\n",
            "Name: DiffuseSunPower kW/m², dtype: float64\n",
            "0    0.11\n",
            "1    0.13\n",
            "2    0.14\n",
            "3    0.12\n",
            "4    0.07\n",
            "Name: DiffuseSunPower kW/m², dtype: float64\n",
            "15248   NaN\n",
            "15249   NaN\n",
            "15250   NaN\n",
            "15251   NaN\n",
            "15252   NaN\n",
            "Name: DiffuseSunPower kW/m², dtype: float64\n",
            "Verify empty tail is removed:        SunAltitude °  DiffuseSunPower kW/m²\n",
            "15228            0.0                    0.0\n",
            "Split shifted data: (       SunAltitude °  DiffuseSunPower kW/m²\n",
            "0           0.512254                   0.11\n",
            "1           0.510858                   0.13\n",
            "2           0.466701                   0.14\n",
            "3           0.385194                   0.12\n",
            "4           0.275238                   0.07\n",
            "...              ...                    ...\n",
            "13701       0.547510                   0.07\n",
            "13702       0.674570                   0.06\n",
            "13703       0.774926                   0.07\n",
            "13704       0.834616                   0.08\n",
            "13705       0.841772                   0.08\n",
            "\n",
            "[13706 rows x 2 columns],        SunAltitude °  DiffuseSunPower kW/m²\n",
            "13706       0.794648                   0.09\n",
            "13707       0.703193                   0.09\n",
            "13708       0.581893                   0.11\n",
            "13709       0.443488                   0.12\n",
            "13710       0.297928                   0.07\n",
            "...              ...                    ...\n",
            "15224       0.158127                   0.01\n",
            "15225       0.039968                   0.00\n",
            "15226      -0.064403                   0.00\n",
            "15227       0.000000                   0.00\n",
            "15228       0.000000                   0.00\n",
            "\n",
            "[1523 rows x 2 columns])\n",
            "Test data:        SunAltitude °  DiffuseSunPower kW/m²\n",
            "0           1.832371               1.833333\n",
            "1           1.827376               2.166667\n",
            "2           1.669424               2.333333\n",
            "3           1.377868               2.000000\n",
            "4           0.984548               1.166667\n",
            "...              ...                    ...\n",
            "13701       1.958483               1.166667\n",
            "13702       2.412986               1.000000\n",
            "13703       2.771968               1.166667\n",
            "13704       2.985485               1.333333\n",
            "13705       3.011082               1.333333\n",
            "\n",
            "[13706 rows x 2 columns]\n"
          ]
        },
        {
          "output_type": "stream",
          "name": "stderr",
          "text": [
            "/usr/local/lib/python3.7/dist-packages/pandas/core/indexing.py:1951: SettingWithCopyWarning: \n",
            "A value is trying to be set on a copy of a slice from a DataFrame.\n",
            "Try using .loc[row_indexer,col_indexer] = value instead\n",
            "\n",
            "See the caveats in the documentation: https://pandas.pydata.org/pandas-docs/stable/user_guide/indexing.html#returning-a-view-versus-a-copy\n",
            "  self.obj[selected_item_labels] = value\n",
            "/usr/local/lib/python3.7/dist-packages/ipykernel_launcher.py:50: SettingWithCopyWarning: \n",
            "A value is trying to be set on a copy of a slice from a DataFrame.\n",
            "Try using .loc[row_indexer,col_indexer] = value instead\n",
            "\n",
            "See the caveats in the documentation: https://pandas.pydata.org/pandas-docs/stable/user_guide/indexing.html#returning-a-view-versus-a-copy\n",
            "/usr/local/lib/python3.7/dist-packages/pandas/core/indexing.py:1951: SettingWithCopyWarning: \n",
            "A value is trying to be set on a copy of a slice from a DataFrame.\n",
            "Try using .loc[row_indexer,col_indexer] = value instead\n",
            "\n",
            "See the caveats in the documentation: https://pandas.pydata.org/pandas-docs/stable/user_guide/indexing.html#returning-a-view-versus-a-copy\n",
            "  self.obj[selected_item_labels] = value\n",
            "/usr/local/lib/python3.7/dist-packages/ipykernel_launcher.py:53: SettingWithCopyWarning: \n",
            "A value is trying to be set on a copy of a slice from a DataFrame.\n",
            "Try using .loc[row_indexer,col_indexer] = value instead\n",
            "\n",
            "See the caveats in the documentation: https://pandas.pydata.org/pandas-docs/stable/user_guide/indexing.html#returning-a-view-versus-a-copy\n"
          ]
        },
        {
          "output_type": "stream",
          "name": "stdout",
          "text": [
            "Dataset shape set to: ((13682, 24, 2), (13682,))\n",
            "Set model input shape to: (13682, 24)\n",
            "Input data: [[[1.83237084 1.83333333]\n",
            "  [1.82737631 2.16666667]\n",
            "  [1.66942407 2.33333333]\n",
            "  ...\n",
            "  [0.99328859 1.5       ]\n",
            "  [1.37974091 1.83333333]\n",
            "  [1.66130794 2.33333333]]\n",
            "\n",
            " [[1.82737631 2.16666667]\n",
            "  [1.66942407 2.33333333]\n",
            "  [1.37786796 2.        ]\n",
            "  ...\n",
            "  [1.37974091 1.83333333]\n",
            "  [1.66130794 2.33333333]\n",
            "  [1.80864679 2.        ]]\n",
            "\n",
            " [[1.66942407 2.33333333]\n",
            "  [1.37786796 2.        ]\n",
            "  [0.98454815 1.16666667]\n",
            "  ...\n",
            "  [1.66130794 2.33333333]\n",
            "  [1.80864679 2.        ]\n",
            "  [1.80302794 2.        ]]\n",
            "\n",
            " ...\n",
            "\n",
            " [[2.75261433 1.16666667]\n",
            "  [2.96613079 1.33333333]\n",
            "  [2.9917278  1.33333333]\n",
            "  ...\n",
            "  [1.45278602 1.        ]\n",
            "  [1.95848291 1.16666667]\n",
            "  [2.4129858  1.        ]]\n",
            "\n",
            " [[2.96613079 1.33333333]\n",
            "  [2.9917278  1.33333333]\n",
            "  [2.8244108  1.33333333]\n",
            "  ...\n",
            "  [1.95848291 1.16666667]\n",
            "  [2.4129858  1.        ]\n",
            "  [2.77196816 1.16666667]]\n",
            "\n",
            " [[2.9917278  1.33333333]\n",
            "  [2.8244108  1.33333333]\n",
            "  [2.49851725 1.33333333]\n",
            "  ...\n",
            "  [2.4129858  1.        ]\n",
            "  [2.77196816 1.16666667]\n",
            "  [2.98548463 1.33333333]]]\n",
            "Output data: [2.         2.         2.33333333 ... 1.16666667 1.33333333 1.33333333]\n",
            "Epoch 1/20\n",
            "385/385 [==============================] - 13s 29ms/step - loss: 0.1162 - mean_absolute_error: 0.2022 - val_loss: 0.1044 - val_mean_absolute_error: 0.2040\n",
            "Epoch 2/20\n",
            "385/385 [==============================] - 10s 26ms/step - loss: 0.1013 - mean_absolute_error: 0.1809 - val_loss: 0.1034 - val_mean_absolute_error: 0.1990\n",
            "Epoch 3/20\n",
            "385/385 [==============================] - 10s 25ms/step - loss: 0.0990 - mean_absolute_error: 0.1759 - val_loss: 0.1054 - val_mean_absolute_error: 0.1973\n",
            "Epoch 4/20\n",
            "385/385 [==============================] - 10s 26ms/step - loss: 0.0988 - mean_absolute_error: 0.1743 - val_loss: 0.1064 - val_mean_absolute_error: 0.1955\n",
            "Epoch 5/20\n",
            "385/385 [==============================] - 10s 26ms/step - loss: 0.0988 - mean_absolute_error: 0.1731 - val_loss: 0.1060 - val_mean_absolute_error: 0.1937\n",
            "Epoch 6/20\n",
            "385/385 [==============================] - 10s 26ms/step - loss: 0.0991 - mean_absolute_error: 0.1719 - val_loss: 0.1068 - val_mean_absolute_error: 0.1959\n",
            "Test data shape: (1499, 24, 2)\n",
            "Input: [[[ 2.842516    1.5       ]\n",
            "  [ 2.51537381  1.5       ]\n",
            "  [ 2.08147339  1.83333333]\n",
            "  ...\n",
            "  [ 2.79132199  3.66666667]\n",
            "  [ 3.00546278  3.16666667]\n",
            "  [ 3.03043546  2.83333333]]\n",
            "\n",
            " [[ 2.51537381  1.5       ]\n",
            "  [ 2.08147339  1.83333333]\n",
            "  [ 1.58638989  2.        ]\n",
            "  ...\n",
            "  [ 3.00546278  3.16666667]\n",
            "  [ 3.03043546  2.83333333]\n",
            "  [ 2.8606212   2.5       ]]\n",
            "\n",
            " [[ 2.08147339  1.83333333]\n",
            "  [ 1.58638989  2.        ]\n",
            "  [ 1.06570938  1.16666667]\n",
            "  ...\n",
            "  [ 3.03043546  2.83333333]\n",
            "  [ 2.8606212   2.5       ]\n",
            "  [ 2.53223037  2.16666667]]\n",
            "\n",
            " ...\n",
            "\n",
            " [[-0.22787576  0.        ]\n",
            "  [ 0.          0.        ]\n",
            "  [ 0.          0.        ]\n",
            "  ...\n",
            "  [ 1.04885282  0.16666667]\n",
            "  [ 0.56563134  0.16666667]\n",
            "  [ 0.14296863  0.        ]]\n",
            "\n",
            " [[ 0.          0.        ]\n",
            "  [ 0.          0.        ]\n",
            "  [ 0.          0.        ]\n",
            "  ...\n",
            "  [ 0.56563134  0.16666667]\n",
            "  [ 0.14296863  0.        ]\n",
            "  [-0.23037303  0.        ]]\n",
            "\n",
            " [[ 0.          0.        ]\n",
            "  [ 0.          0.        ]\n",
            "  [ 0.          0.        ]\n",
            "  ...\n",
            "  [ 0.14296863  0.        ]\n",
            "  [-0.23037303  0.        ]\n",
            "  [ 0.          0.        ]]]\n",
            "EVALUATION START\n",
            "mean_absolute_error: 0.37%\n",
            "0.37% (+/- 0.00%)\n",
            "EVALUATION END\n",
            "47/47 [==============================] - 1s 7ms/step\n",
            "Predictions: [[ 2.2787733 ]\n",
            " [ 1.9768499 ]\n",
            " [ 1.6442893 ]\n",
            " ...\n",
            " [-0.0106723 ]\n",
            " [-0.08265069]\n",
            " [-0.04093938]]\n",
            "[[ 0.1367264 ]\n",
            " [ 0.11861099]\n",
            " [ 0.09865735]\n",
            " [ 0.06634692]\n",
            " [ 0.05451412]\n",
            " [ 0.03215616]\n",
            " [ 0.00743385]\n",
            " [-0.00106509]\n",
            " [-0.00056751]\n",
            " [-0.0012638 ]\n",
            " [-0.00158938]\n",
            " [-0.00151536]\n",
            " [-0.00136059]\n",
            " [-0.00120269]\n",
            " [-0.00112701]\n",
            " [-0.00122337]\n",
            " [-0.00191113]\n",
            " [ 0.02318463]\n",
            " [ 0.07371403]\n",
            " [ 0.10990665]\n",
            " [ 0.14296088]\n",
            " [ 0.15090463]\n",
            " [ 0.17508127]]\n",
            "[[0.14]\n",
            " [0.19]\n",
            " [0.16]\n",
            " [0.12]\n",
            " [0.15]\n",
            " [0.09]\n",
            " [0.03]\n",
            " [0.01]\n",
            " [0.  ]\n",
            " [0.  ]\n",
            " [0.  ]\n",
            " [0.  ]\n",
            " [0.  ]\n",
            " [0.  ]\n",
            " [0.  ]\n",
            " [0.  ]\n",
            " [0.  ]\n",
            " [0.03]\n",
            " [0.09]\n",
            " [0.06]\n",
            " [0.08]\n",
            " [0.06]\n",
            " [0.08]\n",
            " [0.08]]\n"
          ]
        },
        {
          "output_type": "display_data",
          "data": {
            "text/plain": [
              "<Figure size 432x288 with 1 Axes>"
            ],
            "image/png": "[encoded data removed]"
          },
          "metadata": {
            "needs_background": "light"
          }
        }
      ]
    },
    {
      "cell_type": "code",
      "source": [
        "GRU3 = keras.Sequential()\n",
        "\n",
        "GRU3.add(keras.layers.GRU(units=64,\n",
        "             # return_sequences=True,\n",
        "              input_shape=(24, 2))\n",
        "        )\n",
        "GRU3.add(keras.layers.Dropout(rate=0.2))\n",
        "GRU3.add(keras.layers.Dense(units=1))\n",
        "\n",
        "perf_history['GRU3'] = model_test(GRU3)\n",
        "\n",
        "print(perf_history.values())"
      ],
      "metadata": {
        "colab": {
          "base_uri": "https://localhost:8080/",
          "height": 1000
        },
        "id": "dm-e1XhNE7bL",
        "outputId": "9158489c-e732-46ce-ca86-4db74fbb70fe"
      },
      "execution_count": null,
      "outputs": [
        {
          "output_type": "stream",
          "name": "stdout",
          "text": [
            "0     0.12\n",
            "1     0.15\n",
            "2     0.14\n",
            "3     0.12\n",
            "4     0.08\n",
            "5     0.03\n",
            "6     0.00\n",
            "7     0.00\n",
            "8     0.00\n",
            "9     0.00\n",
            "10    0.00\n",
            "11    0.00\n",
            "12    0.00\n",
            "13    0.00\n",
            "14    0.00\n",
            "15    0.00\n",
            "16    0.00\n",
            "17    0.00\n",
            "18    0.00\n",
            "19    0.01\n",
            "20    0.03\n",
            "21    0.06\n",
            "22    0.10\n",
            "23    0.11\n",
            "24    0.11\n",
            "25    0.13\n",
            "26    0.14\n",
            "27    0.12\n",
            "28    0.07\n",
            "Name: DiffuseSunPower kW/m², dtype: float64\n",
            "0    0.11\n",
            "1    0.13\n",
            "2    0.14\n",
            "3    0.12\n",
            "4    0.07\n",
            "Name: DiffuseSunPower kW/m², dtype: float64\n",
            "15248   NaN\n",
            "15249   NaN\n",
            "15250   NaN\n",
            "15251   NaN\n",
            "15252   NaN\n",
            "Name: DiffuseSunPower kW/m², dtype: float64\n",
            "Verify empty tail is removed:        SunAltitude °  DiffuseSunPower kW/m²\n",
            "15228            0.0                    0.0\n",
            "Split shifted data: (       SunAltitude °  DiffuseSunPower kW/m²\n",
            "0           0.512254                   0.11\n",
            "1           0.510858                   0.13\n",
            "2           0.466701                   0.14\n",
            "3           0.385194                   0.12\n",
            "4           0.275238                   0.07\n",
            "...              ...                    ...\n",
            "13701       0.547510                   0.07\n",
            "13702       0.674570                   0.06\n",
            "13703       0.774926                   0.07\n",
            "13704       0.834616                   0.08\n",
            "13705       0.841772                   0.08\n",
            "\n",
            "[13706 rows x 2 columns],        SunAltitude °  DiffuseSunPower kW/m²\n",
            "13706       0.794648                   0.09\n",
            "13707       0.703193                   0.09\n",
            "13708       0.581893                   0.11\n",
            "13709       0.443488                   0.12\n",
            "13710       0.297928                   0.07\n",
            "...              ...                    ...\n",
            "15224       0.158127                   0.01\n",
            "15225       0.039968                   0.00\n",
            "15226      -0.064403                   0.00\n",
            "15227       0.000000                   0.00\n",
            "15228       0.000000                   0.00\n",
            "\n",
            "[1523 rows x 2 columns])\n",
            "Test data:        SunAltitude °  DiffuseSunPower kW/m²\n",
            "0           1.832371               1.833333\n",
            "1           1.827376               2.166667\n",
            "2           1.669424               2.333333\n",
            "3           1.377868               2.000000\n",
            "4           0.984548               1.166667\n",
            "...              ...                    ...\n",
            "13701       1.958483               1.166667\n",
            "13702       2.412986               1.000000\n",
            "13703       2.771968               1.166667\n",
            "13704       2.985485               1.333333\n",
            "13705       3.011082               1.333333\n",
            "\n",
            "[13706 rows x 2 columns]\n"
          ]
        },
        {
          "output_type": "stream",
          "name": "stderr",
          "text": [
            "/usr/local/lib/python3.7/dist-packages/pandas/core/indexing.py:1951: SettingWithCopyWarning: \n",
            "A value is trying to be set on a copy of a slice from a DataFrame.\n",
            "Try using .loc[row_indexer,col_indexer] = value instead\n",
            "\n",
            "See the caveats in the documentation: https://pandas.pydata.org/pandas-docs/stable/user_guide/indexing.html#returning-a-view-versus-a-copy\n",
            "  self.obj[selected_item_labels] = value\n",
            "/usr/local/lib/python3.7/dist-packages/ipykernel_launcher.py:50: SettingWithCopyWarning: \n",
            "A value is trying to be set on a copy of a slice from a DataFrame.\n",
            "Try using .loc[row_indexer,col_indexer] = value instead\n",
            "\n",
            "See the caveats in the documentation: https://pandas.pydata.org/pandas-docs/stable/user_guide/indexing.html#returning-a-view-versus-a-copy\n",
            "/usr/local/lib/python3.7/dist-packages/pandas/core/indexing.py:1951: SettingWithCopyWarning: \n",
            "A value is trying to be set on a copy of a slice from a DataFrame.\n",
            "Try using .loc[row_indexer,col_indexer] = value instead\n",
            "\n",
            "See the caveats in the documentation: https://pandas.pydata.org/pandas-docs/stable/user_guide/indexing.html#returning-a-view-versus-a-copy\n",
            "  self.obj[selected_item_labels] = value\n",
            "/usr/local/lib/python3.7/dist-packages/ipykernel_launcher.py:53: SettingWithCopyWarning: \n",
            "A value is trying to be set on a copy of a slice from a DataFrame.\n",
            "Try using .loc[row_indexer,col_indexer] = value instead\n",
            "\n",
            "See the caveats in the documentation: https://pandas.pydata.org/pandas-docs/stable/user_guide/indexing.html#returning-a-view-versus-a-copy\n"
          ]
        },
        {
          "output_type": "stream",
          "name": "stdout",
          "text": [
            "Dataset shape set to: ((13682, 24, 2), (13682,))\n",
            "Set model input shape to: (13682, 24)\n",
            "Input data: [[[1.83237084 1.83333333]\n",
            "  [1.82737631 2.16666667]\n",
            "  [1.66942407 2.33333333]\n",
            "  ...\n",
            "  [0.99328859 1.5       ]\n",
            "  [1.37974091 1.83333333]\n",
            "  [1.66130794 2.33333333]]\n",
            "\n",
            " [[1.82737631 2.16666667]\n",
            "  [1.66942407 2.33333333]\n",
            "  [1.37786796 2.        ]\n",
            "  ...\n",
            "  [1.37974091 1.83333333]\n",
            "  [1.66130794 2.33333333]\n",
            "  [1.80864679 2.        ]]\n",
            "\n",
            " [[1.66942407 2.33333333]\n",
            "  [1.37786796 2.        ]\n",
            "  [0.98454815 1.16666667]\n",
            "  ...\n",
            "  [1.66130794 2.33333333]\n",
            "  [1.80864679 2.        ]\n",
            "  [1.80302794 2.        ]]\n",
            "\n",
            " ...\n",
            "\n",
            " [[2.75261433 1.16666667]\n",
            "  [2.96613079 1.33333333]\n",
            "  [2.9917278  1.33333333]\n",
            "  ...\n",
            "  [1.45278602 1.        ]\n",
            "  [1.95848291 1.16666667]\n",
            "  [2.4129858  1.        ]]\n",
            "\n",
            " [[2.96613079 1.33333333]\n",
            "  [2.9917278  1.33333333]\n",
            "  [2.8244108  1.33333333]\n",
            "  ...\n",
            "  [1.95848291 1.16666667]\n",
            "  [2.4129858  1.        ]\n",
            "  [2.77196816 1.16666667]]\n",
            "\n",
            " [[2.9917278  1.33333333]\n",
            "  [2.8244108  1.33333333]\n",
            "  [2.49851725 1.33333333]\n",
            "  ...\n",
            "  [2.4129858  1.        ]\n",
            "  [2.77196816 1.16666667]\n",
            "  [2.98548463 1.33333333]]]\n",
            "Output data: [2.         2.         2.33333333 ... 1.16666667 1.33333333 1.33333333]\n",
            "Epoch 1/20\n",
            "385/385 [==============================] - 8s 16ms/step - loss: 0.1260 - mean_absolute_error: 0.2171 - val_loss: 0.1075 - val_mean_absolute_error: 0.2079\n",
            "Epoch 2/20\n",
            "385/385 [==============================] - 6s 15ms/step - loss: 0.1103 - mean_absolute_error: 0.1933 - val_loss: 0.1073 - val_mean_absolute_error: 0.2022\n",
            "Epoch 3/20\n",
            "385/385 [==============================] - 6s 15ms/step - loss: 0.1043 - mean_absolute_error: 0.1850 - val_loss: 0.1079 - val_mean_absolute_error: 0.1998\n",
            "Epoch 4/20\n",
            "385/385 [==============================] - 6s 15ms/step - loss: 0.1033 - mean_absolute_error: 0.1819 - val_loss: 0.1080 - val_mean_absolute_error: 0.2007\n",
            "Epoch 5/20\n",
            "385/385 [==============================] - 6s 15ms/step - loss: 0.1025 - mean_absolute_error: 0.1792 - val_loss: 0.1097 - val_mean_absolute_error: 0.2009\n",
            "Epoch 6/20\n",
            "385/385 [==============================] - 6s 15ms/step - loss: 0.1010 - mean_absolute_error: 0.1777 - val_loss: 0.1069 - val_mean_absolute_error: 0.1952\n",
            "Epoch 7/20\n",
            "385/385 [==============================] - 6s 15ms/step - loss: 0.1020 - mean_absolute_error: 0.1765 - val_loss: 0.1033 - val_mean_absolute_error: 0.1933\n",
            "Epoch 8/20\n",
            "385/385 [==============================] - 6s 15ms/step - loss: 0.1004 - mean_absolute_error: 0.1729 - val_loss: 0.1002 - val_mean_absolute_error: 0.1887\n",
            "Epoch 9/20\n",
            "385/385 [==============================] - 6s 15ms/step - loss: 0.0998 - mean_absolute_error: 0.1713 - val_loss: 0.0957 - val_mean_absolute_error: 0.1837\n",
            "Epoch 10/20\n",
            "385/385 [==============================] - 6s 15ms/step - loss: 0.0966 - mean_absolute_error: 0.1665 - val_loss: 0.0942 - val_mean_absolute_error: 0.1802\n",
            "Epoch 11/20\n",
            "385/385 [==============================] - 6s 15ms/step - loss: 0.0985 - mean_absolute_error: 0.1661 - val_loss: 0.0910 - val_mean_absolute_error: 0.1765\n",
            "Epoch 12/20\n",
            "385/385 [==============================] - 6s 14ms/step - loss: 0.0976 - mean_absolute_error: 0.1639 - val_loss: 0.0908 - val_mean_absolute_error: 0.1758\n",
            "Test data shape: (1499, 24, 2)\n",
            "Input: [[[ 2.842516    1.5       ]\n",
            "  [ 2.51537381  1.5       ]\n",
            "  [ 2.08147339  1.83333333]\n",
            "  ...\n",
            "  [ 2.79132199  3.66666667]\n",
            "  [ 3.00546278  3.16666667]\n",
            "  [ 3.03043546  2.83333333]]\n",
            "\n",
            " [[ 2.51537381  1.5       ]\n",
            "  [ 2.08147339  1.83333333]\n",
            "  [ 1.58638989  2.        ]\n",
            "  ...\n",
            "  [ 3.00546278  3.16666667]\n",
            "  [ 3.03043546  2.83333333]\n",
            "  [ 2.8606212   2.5       ]]\n",
            "\n",
            " [[ 2.08147339  1.83333333]\n",
            "  [ 1.58638989  2.        ]\n",
            "  [ 1.06570938  1.16666667]\n",
            "  ...\n",
            "  [ 3.03043546  2.83333333]\n",
            "  [ 2.8606212   2.5       ]\n",
            "  [ 2.53223037  2.16666667]]\n",
            "\n",
            " ...\n",
            "\n",
            " [[-0.22787576  0.        ]\n",
            "  [ 0.          0.        ]\n",
            "  [ 0.          0.        ]\n",
            "  ...\n",
            "  [ 1.04885282  0.16666667]\n",
            "  [ 0.56563134  0.16666667]\n",
            "  [ 0.14296863  0.        ]]\n",
            "\n",
            " [[ 0.          0.        ]\n",
            "  [ 0.          0.        ]\n",
            "  [ 0.          0.        ]\n",
            "  ...\n",
            "  [ 0.56563134  0.16666667]\n",
            "  [ 0.14296863  0.        ]\n",
            "  [-0.23037303  0.        ]]\n",
            "\n",
            " [[ 0.          0.        ]\n",
            "  [ 0.          0.        ]\n",
            "  [ 0.          0.        ]\n",
            "  ...\n",
            "  [ 0.14296863  0.        ]\n",
            "  [-0.23037303  0.        ]\n",
            "  [ 0.          0.        ]]]\n",
            "EVALUATION START\n",
            "mean_absolute_error: 0.32%\n",
            "0.32% (+/- 0.00%)\n",
            "EVALUATION END\n",
            "47/47 [==============================] - 1s 4ms/step\n",
            "Predictions: [[2.3076742 ]\n",
            " [2.029034  ]\n",
            " [1.6853477 ]\n",
            " ...\n",
            " [0.07056428]\n",
            " [0.00425741]\n",
            " [0.03595841]]\n",
            "[[0.13846046]\n",
            " [0.12174203]\n",
            " [0.10112086]\n",
            " [0.06967153]\n",
            " [0.05777233]\n",
            " [0.03434161]\n",
            " [0.00618288]\n",
            " [0.00385037]\n",
            " [0.0033397 ]\n",
            " [0.00148225]\n",
            " [0.00114825]\n",
            " [0.00083785]\n",
            " [0.00064983]\n",
            " [0.00053664]\n",
            " [0.00061859]\n",
            " [0.00141445]\n",
            " [0.00673114]\n",
            " [0.04910398]\n",
            " [0.09909999]\n",
            " [0.11602696]\n",
            " [0.13823612]\n",
            " [0.151517  ]\n",
            " [0.1759551 ]]\n",
            "[[0.14]\n",
            " [0.19]\n",
            " [0.16]\n",
            " [0.12]\n",
            " [0.15]\n",
            " [0.09]\n",
            " [0.03]\n",
            " [0.01]\n",
            " [0.  ]\n",
            " [0.  ]\n",
            " [0.  ]\n",
            " [0.  ]\n",
            " [0.  ]\n",
            " [0.  ]\n",
            " [0.  ]\n",
            " [0.  ]\n",
            " [0.  ]\n",
            " [0.03]\n",
            " [0.09]\n",
            " [0.06]\n",
            " [0.08]\n",
            " [0.06]\n",
            " [0.08]\n",
            " [0.08]]\n",
            "dict_values([<keras.callbacks.History object at 0x7f570bde9c10>, <keras.callbacks.History object at 0x7f5703205d90>, <keras.callbacks.History object at 0x7f570ceaae10>])\n"
          ]
        },
        {
          "output_type": "display_data",
          "data": {
            "text/plain": [
              "<Figure size 432x288 with 1 Axes>"
            ],
            "image/png": "[encoded data removed]"
          },
          "metadata": {
            "needs_background": "light"
          }
        }
      ]
    },
    {
      "cell_type": "code",
      "source": [
        "model = tf.keras.Sequential([\n",
        "    # Shape [batch, time, features] => [batch, lstm_units].\n",
        "    # Adding more `lstm_units` just overfits more quickly.\n",
        "    tf.keras.layers.LSTM(128),\n",
        "    # Shape => [batch, out_steps*features].\n",
        "    tf.keras.layers.Dense(units=1),\n",
        "    # Shape => [batch, out_steps, features].\n",
        "    #tf.keras.layers.Reshape([24, 1])\n",
        "])\n",
        "\n",
        "\n",
        "#Load data\n",
        "data = load_data(historical_data)\n",
        "\n",
        "#Isolate useful columns\n",
        "data = data[[inputColumn, outputColumn]].copy()\n",
        "\n",
        "#Process columns\n",
        "data = process_data(data)\n",
        "\n",
        "#Split data\n",
        "train, test = splitData(data)\n",
        "print(train)\n",
        "print(test)\n",
        "\n",
        "#Transform data\n",
        "inputTransformer = RobustScaler()\n",
        "outputTransformer = RobustScaler()\n",
        "\n",
        "inputTransformer = inputTransformer.fit(train[[inputColumn]].to_numpy())\n",
        "outputTransformer = outputTransformer.fit(train[[outputColumn]]) #No need to transform into numpy\n",
        "\n",
        "train.loc[:, inputColumn] = inputTransformer.transform(train[[inputColumn]].to_numpy())\n",
        "train[outputColumn] = outputTransformer.transform(train[[outputColumn]])\n",
        "\n",
        "test.loc[:, inputColumn] = inputTransformer.transform(test[[inputColumn]].to_numpy())\n",
        "test[outputColumn] = outputTransformer.transform(test[[outputColumn]])\n",
        "\n",
        "#train = data[0]\n",
        "#test = data[1]\n",
        "#train = transformData(data[0], [inputColumn, outputColumn])\n",
        "#test = transformData(data[1], [inputColumn, outputColumn])\n",
        "#print(train['DiffuseSunPower kW/m²'])\n",
        "\n",
        "#Create dataset for model\n",
        "input, output = createDatasets(train, train[outputColumn], steps)\n",
        "print(f'Dataset shape set to: {input.shape, output.shape}')\n",
        "print(f'Set model input shape to: {input.shape[1], input.shape[2]}')\n",
        "\n",
        "'''\n",
        "model = tf.keras.Sequential()\n",
        "model.add(tf.keras.layers.LSTM(units=32, return_sequences=True, input_shape=(input.shape[1], input.shape[2])))\n",
        "model.add(tf.keras.layers.LSTM(units=32, return_sequences=True, input_shape=(input.shape[1], input.shape[2])))\n",
        "model.add(tf.keras.layers.LSTM(units=32, input_shape=(input.shape[1], input.shape[2])))\n",
        "model.add(keras.layers.Dense(units=1))\n",
        "model.summary()\n",
        "'''\n",
        "\n",
        "\n",
        "#Compile model\n",
        "model = compile(model)\n",
        "#model.compile(loss='mean_squared_error', optimizer='adam')\n",
        "\n",
        "#Fit model\n",
        "history = fit(model, input, output)\n",
        "\n",
        "#Create test dataset \n",
        "testInput, testOutput = createDatasets(test, test[outputColumn], steps)\n",
        "print(f'Test data shape: {testInput.shape}')\n",
        "\n",
        "#Make prediction with test data\n",
        "prediction = make_prediction(model, testInput, False)\n",
        "print(f'Predictions: {prediction}')\n",
        "\n",
        "#Inverse transform data\n",
        "predictionInverse = outputTransformer.inverse_transform(prediction.reshape(-1, 1))\n",
        "outputTestInv = outputTransformer.inverse_transform(testOutput.reshape(1, -1))\n",
        "\n",
        "#print(f'Prediction output shape: {inverseTransformData(prediction).shape}')\n",
        "#print(f'Prediction values: {inverseTransformData(prediction)}')\n",
        "#print(f'Real values: {data[1].tail(20)}')\n",
        "#print(f'Real values: {inverseTransformData(np.reshape(testOutput,(-1,1)))}')\n",
        "#look = inverseTransformData(np.reshape(testOutput,(-1,1)))\n",
        "#print(look[-20:, :])\n",
        "#print(f'Shapes {testOutput.shape, look.shape}')\n",
        "\n",
        "#Plot predictions vs test data\n",
        "plt.plot(outputTestInv.flatten(), marker='.', label='true')\n",
        "plt.plot(predictionInverse.flatten(), 'r', label='predicted')\n",
        "plt.legend()"
      ],
      "metadata": {
        "id": "B6kua67EIl-K"
      },
      "execution_count": null,
      "outputs": []
    },
    {
      "cell_type": "code",
      "source": [
        "data_dim = 2\n",
        "timesteps = 24\n",
        "\n",
        "\n",
        "# expected input data shape: (batch_size, timesteps, data_dim)\n",
        "model =  tf.keras.Sequential()\n",
        "model.add(tf.keras.layers.LSTM(32, return_sequences=True,\n",
        "               input_shape=(timesteps, data_dim)))  # returns a sequence of vectors of dimension 32\n",
        "model.add(tf.keras.layers.LSTM(32, return_sequences=True))  # returns a sequence of vectors of dimension 32\n",
        "model.add(tf.keras.layers.LSTM(32))  # return a single vector of dimension 32\n",
        "model.add(tf.keras.layers.Dense(10, activation='softmax'))\n",
        "\n",
        "#Load data\n",
        "data = load_data(historical_data)\n",
        "\n",
        "#Isolate useful columns\n",
        "data = data[[inputColumn, outputColumn]].copy()\n",
        "\n",
        "#Process columns\n",
        "data = process_data(data)\n",
        "\n",
        "#Split data\n",
        "train, test = splitData(data)\n",
        "print(train)\n",
        "print(test)\n",
        "\n",
        "#Transform data\n",
        "inputTransformer = RobustScaler()\n",
        "outputTransformer = RobustScaler()\n",
        "\n",
        "inputTransformer = inputTransformer.fit(train[[inputColumn]].to_numpy())\n",
        "outputTransformer = outputTransformer.fit(train[[outputColumn]]) #No need to transform into numpy\n",
        "\n",
        "train.loc[:, inputColumn] = inputTransformer.transform(train[[inputColumn]].to_numpy())\n",
        "train[outputColumn] = outputTransformer.transform(train[[outputColumn]])\n",
        "\n",
        "test.loc[:, inputColumn] = inputTransformer.transform(test[[inputColumn]].to_numpy())\n",
        "test[outputColumn] = outputTransformer.transform(test[[outputColumn]])\n",
        "\n",
        "#train = data[0]\n",
        "#test = data[1]\n",
        "#train = transformData(data[0], [inputColumn, outputColumn])\n",
        "#test = transformData(data[1], [inputColumn, outputColumn])\n",
        "#print(train['DiffuseSunPower kW/m²'])\n",
        "\n",
        "#Create dataset for model\n",
        "input, output = createDatasets(train, train[outputColumn], steps)\n",
        "print(f'Dataset shape set to: {input.shape, output.shape}')\n",
        "print(f'Set model input shape to: {input.shape[1], input.shape[2]}')\n",
        "\n",
        "'''\n",
        "model = tf.keras.Sequential()\n",
        "model.add(tf.keras.layers.LSTM(units=32, return_sequences=True, input_shape=(input.shape[1], input.shape[2])))\n",
        "model.add(tf.keras.layers.LSTM(units=32, return_sequences=True, input_shape=(input.shape[1], input.shape[2])))\n",
        "model.add(tf.keras.layers.LSTM(units=32, input_shape=(input.shape[1], input.shape[2])))\n",
        "model.add(keras.layers.Dense(units=1))\n",
        "model.summary()\n",
        "'''\n",
        "\n",
        "\n",
        "#Compile model\n",
        "model = compile(model)\n",
        "#model.compile(loss='mean_squared_error', optimizer='adam')\n",
        "\n",
        "#Fit model\n",
        "history = fit(model, input, output)\n",
        "\n",
        "#Create test dataset \n",
        "testInput, testOutput = createDatasets(test, test[outputColumn], steps)\n",
        "print(f'Test data shape: {testInput.shape}')\n",
        "\n",
        "#Make prediction with test data\n",
        "prediction = make_prediction(model, testInput, False)\n",
        "print(f'Predictions: {prediction}')\n",
        "\n",
        "#Inverse transform data\n",
        "predictionInverse = outputTransformer.inverse_transform(prediction.reshape(-1, 1))\n",
        "outputTestInv = outputTransformer.inverse_transform(testOutput.reshape(1, -1))\n",
        "\n",
        "#print(f'Prediction output shape: {inverseTransformData(prediction).shape}')\n",
        "#print(f'Prediction values: {inverseTransformData(prediction)}')\n",
        "#print(f'Real values: {data[1].tail(20)}')\n",
        "#print(f'Real values: {inverseTransformData(np.reshape(testOutput,(-1,1)))}')\n",
        "#look = inverseTransformData(np.reshape(testOutput,(-1,1)))\n",
        "#print(look[-20:, :])\n",
        "#print(f'Shapes {testOutput.shape, look.shape}')\n",
        "\n",
        "#Plot predictions vs test data\n",
        "plt.plot(outputTestInv.flatten(), marker='.', label='true')\n",
        "plt.plot(predictionInverse.flatten(), 'r', label='predicted')\n",
        "plt.legend()\n",
        "\n"
      ],
      "metadata": {
        "id": "Vo4MA-SWfG5T"
      },
      "execution_count": null,
      "outputs": []
    },
    {
      "cell_type": "code",
      "source": [
        "\n",
        "\n",
        "\n",
        "model = keras.Sequential()\n",
        "model.add(\n",
        "  keras.layers.Bidirectional(\n",
        "    keras.layers.GRU(\n",
        "      units=128, \n",
        "      input_shape=(input.shape[1], input.shape[2])\n",
        "      #input_shape=(input.shape[0], input.shape[1])\n",
        "    )\n",
        "  )\n",
        ")\n",
        "model.add(keras.layers.Dropout(rate=0.2))\n",
        "model.add(keras.layers.Dense(units=1))\n",
        "\n",
        "model_test(model)"
      ],
      "metadata": {
        "id": "BzgAuDViD4hc"
      },
      "execution_count": null,
      "outputs": []
    },
    {
      "cell_type": "markdown",
      "source": [
        "**Test**"
      ],
      "metadata": {
        "id": "wNLQeAoLfhHm"
      }
    },
    {
      "cell_type": "code",
      "source": [
        "'''model = load_model(model_path)\n",
        "\n",
        "model.summary()\n",
        "\n",
        "testInput = process_data(load_data(rData_path))\n",
        "print(testInput[0:4])\n",
        "testInput = testInput*np.pi / 180 #radians\n",
        "\n",
        "print(testInput)\n",
        "#test = np.array(testInput[10677:10677+48])\n",
        "test = np.array(testInput[0:48])\n",
        "test_mean = test.mean()\n",
        "test_std = test.std()\n",
        "\n",
        "test = (test - test_mean) / test_std\n",
        "\n",
        "test = test.reshape(1,24,2)\n",
        "print(f'TEST SHAPE: {test.shape}')\n",
        "\n",
        "preds = model.predict(test, verbose=0)\n",
        "print(f'PREDICTON: {preds}')\n",
        "\n",
        "\n",
        "data = pd.read_csv(rData_path, sep=\";\",thousands='.', decimal=',') #read csv file with ';' as seperator and ',' as decimal marker (will be converted to '.')\n",
        "\n",
        "trueData = data[[diffused]].copy()\n",
        "\n",
        "#trueData = np.array(trueData[10677:10677+48])\n",
        "trueData = np.array(trueData[0:48])\n",
        "trueData = trueData.reshape(1,48,1)\n",
        "trueData_mean = trueData.mean()\n",
        "trueData_std = trueData.std()\n",
        "\n",
        "trueData = (trueData - trueData_mean) / trueData_std\n",
        "\n",
        "#show = load_data(rData_path)\n",
        "#print(trueData)\n",
        "\n",
        "\n",
        "#test_results = model.evaluate(preds, trueData, verbose=0)\n",
        "#print(f\" Accuracy: {test_results}\")\n",
        "\n",
        "\n",
        "data = pd.read_csv(rData_path, sep=\";\",thousands='.', decimal=',') #read csv file with ';' as seperator and ',' as decimal marker (will be converted to '.')\n",
        "\n",
        "trueData = data[[diffused]].copy()\n",
        "trueData = np.array(trueData)\n",
        "trueData_mean = trueData.mean()\n",
        "trueData_std = trueData.std()\n",
        "\n",
        "trueData = (trueData - trueData_mean) / trueData_std\n",
        "\n",
        "print(trueData[0:48])\n",
        "#print(trueData[10677])\n",
        "            \n",
        "'''"
      ],
      "metadata": {
        "id": "NtxsQ9gcfjYw"
      },
      "execution_count": null,
      "outputs": []
    }
  ]
}