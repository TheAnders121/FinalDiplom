{
  "nbformat": 4,
  "nbformat_minor": 0,
  "metadata": {
    "colab": {
      "provenance": [],
      "collapsed_sections": [],
      "authorship_tag": "ABX9TyMiKSQX2pZ8O9CkNxx4rsNq",
      "include_colab_link": true
    },
    "kernelspec": {
      "name": "python3",
      "display_name": "Python 3"
    },
    "language_info": {
      "name": "python"
    }
  },
  "cells": [
    {
      "cell_type": "markdown",
      "metadata": {
        "id": "view-in-github",
        "colab_type": "text"
      },
      "source": [
        "<a href=\"https://colab.research.google.com/github/TheAnders121/TestRepo/blob/main/ProjektKode.ipynb\" target=\"_parent\"><img src=\"https://colab.research.google.com/assets/colab-badge.svg\" alt=\"Open In Colab\"/></a>"
      ]
    },
    {
      "cell_type": "markdown",
      "source": [
        "**Import libraries**"
      ],
      "metadata": {
        "id": "XntZcSbJkHBu"
      }
    },
    {
      "cell_type": "code",
      "source": [
        "import os\n",
        "import datetime\n",
        "import time\n",
        "\n",
        "from datetime import datetime, timedelta\n",
        "\n",
        "import IPython\n",
        "import IPython.display\n",
        "import matplotlib as mpl\n",
        "import matplotlib.pyplot as plt\n",
        "import numpy as np\n",
        "import pandas as pd\n",
        "import seaborn as sns\n",
        "import tensorflow as tf\n",
        "from tensorflow import keras\n",
        "from sklearn.preprocessing import RobustScaler\n",
        "import json\n",
        "import requests"
      ],
      "metadata": {
        "id": "8Fwh5TCxkFVy"
      },
      "execution_count": null,
      "outputs": []
    },
    {
      "cell_type": "markdown",
      "source": [
        "**Configurations**"
      ],
      "metadata": {
        "id": "GLuMBI8ZkQHA"
      }
    },
    {
      "cell_type": "code",
      "source": [
        "MAX_EPOCHS = 20\n",
        "\n",
        "multi_val_performance = {}\n",
        "multi_performance = {}\n",
        "\n",
        "inputTransformer = RobustScaler()\n",
        "outputTransformer = RobustScaler()\n",
        "\n",
        "#Paths\n",
        "model_path = '/content/saved_model/my_model'\n",
        "plot_path = ''\n",
        "historical_data = 'data.csv'\n",
        "rData_path = 'data.csv'\n",
        "wData_path = ''\n",
        "\n",
        "#Model columns\n",
        "direct = 'DirectSunPower kW/m²'\n",
        "diffused = 'DiffuseSunPower kW/m²'\n",
        "sunAltitude = 'SunAltitude °'\n",
        "inputColumn = sunAltitude\n",
        "outputColumn = diffused\n",
        "\n",
        "#Model construction\n",
        "steps = 24\n",
        "inputColumns = 2\n",
        "inputShape = [steps, inputColumns]\n",
        "\n",
        "#Model compilation, fitting and optimization\n",
        "optimizationAlgorithm = tf.keras.optimizers.Adam()\n",
        "\n",
        "#API paths \n",
        "POST = 'somePath'\n",
        "GET = 'somePath'\n",
        "\n",
        "#Scheduler\n",
        "hours = 1\n"
      ],
      "metadata": {
        "id": "2nMSyYpUkSfd"
      },
      "execution_count": null,
      "outputs": []
    },
    {
      "cell_type": "markdown",
      "source": [
        "**Data windowing**"
      ],
      "metadata": {
        "id": "3xL6n9PIodw0"
      }
    },
    {
      "cell_type": "code",
      "source": [],
      "metadata": {
        "id": "xSTA6pwTog-j"
      },
      "execution_count": null,
      "outputs": []
    },
    {
      "cell_type": "markdown",
      "source": [
        "**Split data**"
      ],
      "metadata": {
        "id": "u3CGH3DrM1PR"
      }
    },
    {
      "cell_type": "code",
      "source": [
        "def splitData(data):\n",
        "  n = len(data)\n",
        "  train = data[0:int(n*0.9)] #first 90%\n",
        "  test = data[int(n*0.9):] #left over 10%\n",
        "  return [train, test]"
      ],
      "metadata": {
        "id": "EXlhrN6fM5dB"
      },
      "execution_count": null,
      "outputs": []
    },
    {
      "cell_type": "markdown",
      "source": [
        "**Create dataset**"
      ],
      "metadata": {
        "id": "-8OPgj64NmKM"
      }
    },
    {
      "cell_type": "code",
      "source": [
        "def createDatasets(input, output, timeSteps):\n",
        "  inputList, outputList = [], []\n",
        "  for i in range(len(input) - timeSteps):\n",
        "    val = input.iloc[i: (i + timeSteps)].to_numpy()\n",
        "    inputList.append(val)\n",
        "    outputList.append(output.iloc[i + timeSteps])\n",
        "  return np.array(inputList), np.array(outputList)"
      ],
      "metadata": {
        "id": "1mnGTAs1NpLr"
      },
      "execution_count": null,
      "outputs": []
    },
    {
      "cell_type": "markdown",
      "source": [
        "**Reshape data**"
      ],
      "metadata": {
        "id": "zbfu3IEKNPtq"
      }
    },
    {
      "cell_type": "code",
      "source": [
        "def reshapeData(data, steps):\n",
        "  input, output = createDatasets(data, data[outputColumn], steps)\n",
        "  return [input, output]"
      ],
      "metadata": {
        "id": "XsnyV8ojNSrK"
      },
      "execution_count": null,
      "outputs": []
    },
    {
      "cell_type": "markdown",
      "source": [
        "**Transform data**"
      ],
      "metadata": {
        "id": "o7J9nkG9MTwp"
      }
    },
    {
      "cell_type": "code",
      "source": [
        "def transformData(data, column):\n",
        "  transformer = RobustScaler()\n",
        "  transformer = transformer.fit(data[column].to_numpy())\n",
        "  data.loc[:, column] = transformer.transform(data[column].to_numpy())\n",
        "  return data"
      ],
      "metadata": {
        "id": "QxdFjXi8MXmT"
      },
      "execution_count": null,
      "outputs": []
    },
    {
      "cell_type": "markdown",
      "source": [
        "**Inverse transform data**"
      ],
      "metadata": {
        "id": "jvOmqS-vMr9n"
      }
    },
    {
      "cell_type": "code",
      "source": [
        "def inverseTransformData(data, column=''):\n",
        "  transformer = RobustScaler()\n",
        "  if column == '':\n",
        "    transformer = transformer.fit(data) \n",
        "  else:\n",
        "    transformer = transformer.fit(data[column])\n",
        "  \n",
        "  inversed = transformer.inverse_transform(data)\n",
        "  return inversed"
      ],
      "metadata": {
        "id": "jYUOoZzyMv5I"
      },
      "execution_count": null,
      "outputs": []
    },
    {
      "cell_type": "markdown",
      "source": [
        "**To json string**"
      ],
      "metadata": {
        "id": "Ix3j7uJGHK5f"
      }
    },
    {
      "cell_type": "code",
      "source": [
        "def toJson(string):\n",
        "  return json.dumps(string)"
      ],
      "metadata": {
        "id": "bmfwqHgVHUvp"
      },
      "execution_count": null,
      "outputs": []
    },
    {
      "cell_type": "markdown",
      "source": [
        "**Convert Json string**"
      ],
      "metadata": {
        "id": "zCZ4fsGyHer0"
      }
    },
    {
      "cell_type": "code",
      "source": [
        "def toNormal(string):\n",
        "  return json.loads(string)"
      ],
      "metadata": {
        "id": "vsTSeS7cHxMQ"
      },
      "execution_count": null,
      "outputs": []
    },
    {
      "cell_type": "markdown",
      "source": [
        "**Write predictions to file**"
      ],
      "metadata": {
        "id": "DlsEW5HHIaed"
      }
    },
    {
      "cell_type": "code",
      "source": [
        "def writePredictions(string):\n",
        "  # Append-adds at last\n",
        "  file1 = open(wData_path, \"w\")  #write mode (overwrite previous predictions)\n",
        "  file1.write(string)\n",
        "  file1.close()"
      ],
      "metadata": {
        "id": "b7APolzjIzzl"
      },
      "execution_count": null,
      "outputs": []
    },
    {
      "cell_type": "markdown",
      "source": [
        "**Upload predictions**"
      ],
      "metadata": {
        "id": "sK6zf7Q1J2lB"
      }
    },
    {
      "cell_type": "code",
      "source": [
        "def uploadPredictions(): \n",
        "  api_url = POST\n",
        "  todo = {\"userId\": 1, \"title\": \"Buy milk\", \"completed\": False} #this should actually be a file with new predictions\n",
        "  response = requests.post(api_url, json=todo)\n",
        "  return response.status_code"
      ],
      "metadata": {
        "id": "uiFyJIa4J6Q1"
      },
      "execution_count": null,
      "outputs": []
    },
    {
      "cell_type": "markdown",
      "source": [
        "**Build model**"
      ],
      "metadata": {
        "id": "IrkncSLOzpwo"
      }
    },
    {
      "cell_type": "code",
      "source": [
        "def buildModel():\n",
        "  model = keras.Sequential()\n",
        "  model.add(\n",
        "    keras.layers.Bidirectional(\n",
        "      keras.layers.LSTM(\n",
        "        units=128, \n",
        "        input_shape=inputShape\n",
        "      )\n",
        "    )\n",
        "  )\n",
        "  model.add(keras.layers.Dropout(rate=0.2))\n",
        "  model.add(keras.layers.Dense(units=1))\n",
        "  return model"
      ],
      "metadata": {
        "id": "b7GiBGc5zsah"
      },
      "execution_count": null,
      "outputs": []
    },
    {
      "cell_type": "markdown",
      "source": [
        "**Compile**"
      ],
      "metadata": {
        "id": "tmV4EfV6dgkt"
      }
    },
    {
      "cell_type": "code",
      "execution_count": null,
      "metadata": {
        "id": "E91oDo9EdTO9"
      },
      "outputs": [],
      "source": [
        "def compile(model, patience=2):\n",
        "  early_stopping = tf.keras.callbacks.EarlyStopping(monitor='val_loss',\n",
        "                                                    patience=patience,\n",
        "                                                    mode='min')\n",
        "\n",
        "  model.compile(loss=tf.keras.losses.MeanSquaredError(),\n",
        "                optimizer=optimizationAlgorithm,\n",
        "                metrics=[tf.keras.metrics.MeanAbsoluteError()])\n",
        "  return model"
      ]
    },
    {
      "cell_type": "markdown",
      "source": [
        "**Fit model**"
      ],
      "metadata": {
        "id": "18EFaCJum0en"
      }
    },
    {
      "cell_type": "code",
      "source": [
        "def fit(model, input, output):\n",
        "  history = model.fit(\n",
        "    input, output,\n",
        "    epochs=20,\n",
        "    batch_size=32,\n",
        "    validation_split=0.1,\n",
        "    shuffle=False\n",
        "  )\n",
        "  return history"
      ],
      "metadata": {
        "id": "1Ok_hjZGm3Vs"
      },
      "execution_count": null,
      "outputs": []
    },
    {
      "cell_type": "markdown",
      "source": [
        "**Save weights**"
      ],
      "metadata": {
        "id": "3QvTSKQJXf_5"
      }
    },
    {
      "cell_type": "code",
      "source": [],
      "metadata": {
        "id": "DzqspMYtXh61"
      },
      "execution_count": null,
      "outputs": []
    },
    {
      "cell_type": "markdown",
      "source": [
        "**Load weights**"
      ],
      "metadata": {
        "id": "mgd2el5bXiTY"
      }
    },
    {
      "cell_type": "code",
      "source": [],
      "metadata": {
        "id": "2DysKihoXk4G"
      },
      "execution_count": null,
      "outputs": []
    },
    {
      "cell_type": "markdown",
      "source": [
        "**Save model**"
      ],
      "metadata": {
        "id": "_eMGeZpmdbHk"
      }
    },
    {
      "cell_type": "code",
      "source": [
        "#model - model that is to be saved (needs to be a tf.keras.model object)\n",
        "#path - under which path the model will be saved (and can be accessed)\n",
        "def save_model(model, path):\n",
        "  model.save(path)"
      ],
      "metadata": {
        "id": "nDaEv_kqqeBJ"
      },
      "execution_count": null,
      "outputs": []
    },
    {
      "cell_type": "markdown",
      "source": [
        "**Load model**"
      ],
      "metadata": {
        "id": "FQu2OnqGdeVr"
      }
    },
    {
      "cell_type": "code",
      "source": [
        "#path - under which path the model will be accessible\n",
        "def load_model(path):\n",
        "  new_model = tf.keras.models.load_model(path)\n",
        "\n",
        "  return new_model"
      ],
      "metadata": {
        "id": "vDiBAVprrioI"
      },
      "execution_count": null,
      "outputs": []
    },
    {
      "cell_type": "markdown",
      "source": [
        "**Load data**"
      ],
      "metadata": {
        "id": "8ERK6FF6d_X_"
      }
    },
    {
      "cell_type": "code",
      "source": [
        "#path - path to where the data is to be loaded from \n",
        "def load_data(path):\n",
        "  dt = pd.read_csv(path, sep=\";\",thousands='.', decimal=',') #read csv file with ';' as seperator and ',' as decimal marker (will be converted to '.')\n",
        "  return dt"
      ],
      "metadata": {
        "id": "r_4vs6kwx515"
      },
      "execution_count": null,
      "outputs": []
    },
    {
      "cell_type": "markdown",
      "source": [
        "**Process data**"
      ],
      "metadata": {
        "id": "cpCyy89p8XKE"
      }
    },
    {
      "cell_type": "code",
      "source": [
        "#data - data that is to be processed in order for the model to read it\n",
        "def process_data(data):\n",
        "  # Convert to radians.\n",
        "  data[sunAltitude] = data[sunAltitude]*np.pi / 180\n",
        "  #data[[diffused, sunAltitude]].copy() #return only two relevant columns\n",
        "  #return data[[sunAltitude]].copy() #return only relevant column\n",
        "  return data"
      ],
      "metadata": {
        "id": "c2tje-lc8bLO"
      },
      "execution_count": null,
      "outputs": []
    },
    {
      "cell_type": "markdown",
      "source": [
        "**Predict**"
      ],
      "metadata": {
        "id": "C8K_cUVrer48"
      }
    },
    {
      "cell_type": "code",
      "source": [
        "#data - 48 datapoints for the model to predict the next 24 datapoints\n",
        "def make_prediction(model, data, plot):\n",
        "  if plot == False:\n",
        "    prediction = model.predict(data)\n",
        "    return prediction\n",
        "  #Code to return plot \n"
      ],
      "metadata": {
        "id": "4hv5ko5GuqH7"
      },
      "execution_count": null,
      "outputs": []
    },
    {
      "cell_type": "markdown",
      "source": [
        "**Send prediction**"
      ],
      "metadata": {
        "id": "M3Y13RuifFPD"
      }
    },
    {
      "cell_type": "markdown",
      "source": [
        "**Main function**"
      ],
      "metadata": {
        "id": "tlvcLzxEdU73"
      }
    },
    {
      "cell_type": "code",
      "source": [
        "\n",
        "print(\"Hello from main\")\n",
        "\n",
        "'''\n",
        "while True:\n",
        "  #Do work\n",
        "  data = process_data(load_data(rData_path))\n",
        "  data = reshapeData(data, steps)\n",
        "  tData = transformData(data)\n",
        "  model = load_model(model_path)\n",
        "  predictions = make_prediction(model, data, False)\n",
        "  jsonString = toJson(inverseTransformData(predictions))\n",
        "  code = uploadPredictions()\n",
        "  #check status code \n",
        "\n",
        "  \n",
        "  time.sleep(3600 * hours)  # do work every x amount of hours\n",
        "'''\n",
        "\n"
      ],
      "metadata": {
        "id": "0Va6eHa4dYvo",
        "colab": {
          "base_uri": "https://localhost:8080/",
          "height": 110
        },
        "outputId": "a1cc9a7a-0245-4cbf-bf23-1eba3d5a3e9d"
      },
      "execution_count": null,
      "outputs": [
        {
          "output_type": "stream",
          "name": "stdout",
          "text": [
            "Hello from main\n"
          ]
        },
        {
          "output_type": "execute_result",
          "data": {
            "text/plain": [
              "'\\nwhile True:\\n  #Do work\\n  data = process_data(load_data(rData_path))\\n  data = reshapeData(data, steps)\\n  tData = transformData(data)\\n  model = load_model(model_path)\\n  predictions = make_prediction(model, data, False)\\n  jsonString = toJson(inverseTransformData(predictions))\\n  code = uploadPredictions()\\n  #check status code \\n\\n  \\n  time.sleep(3600 * hours)  # do work every x amount of hours\\n'"
            ],
            "application/vnd.google.colaboratory.intrinsic+json": {
              "type": "string"
            }
          },
          "metadata": {},
          "execution_count": 20
        }
      ]
    },
    {
      "cell_type": "markdown",
      "source": [
        "**Unzip file**"
      ],
      "metadata": {
        "id": "aS92bu18fBFo"
      }
    },
    {
      "cell_type": "code",
      "source": [
        "!unzip /content/LSTM_Model.zip"
      ],
      "metadata": {
        "colab": {
          "base_uri": "https://localhost:8080/"
        },
        "id": "2DWa0Ba9fAj3",
        "outputId": "2b0a04a5-8b70-4027-bb23-2bedbf583034"
      },
      "execution_count": null,
      "outputs": [
        {
          "output_type": "stream",
          "name": "stdout",
          "text": [
            "unzip:  cannot find or open /content/LSTM_Model.zip, /content/LSTM_Model.zip.zip or /content/LSTM_Model.zip.ZIP.\n"
          ]
        }
      ]
    },
    {
      "cell_type": "markdown",
      "source": [
        "**Load test data**"
      ],
      "metadata": {
        "id": "h6Yh5mksrk8p"
      }
    },
    {
      "cell_type": "code",
      "source": [
        "dt = pd.read_csv('data.csv', sep=\";\",thousands='.', decimal=',') #read csv file with ';' as seperator and ',' as decimal marker (will be converted to '.')\n",
        "\n",
        "dt['SunAltitude °'] = dt['SunAltitude °']*np.pi / 180 #Get radians\n",
        "\n",
        "diffuseSunData = dt[['DiffuseSunPower kW/m²','SunAltitude °']].copy()\n",
        "\n",
        "n = len(diffuseSunData)\n",
        "train_diffuseSunData = diffuseSunData[0:int(n*0.7)] #first 70%\n",
        "val_diffuseSunData = diffuseSunData[int(n*0.7):int(n*0.9)] #following 20%\n",
        "test_diffuseSunData = diffuseSunData[int(n*0.9):] #left over 10%"
      ],
      "metadata": {
        "id": "7yFTx03TroQ3"
      },
      "execution_count": null,
      "outputs": []
    },
    {
      "cell_type": "markdown",
      "source": [
        "**Normalize data** "
      ],
      "metadata": {
        "id": "dFa6nsVDBkY-"
      }
    },
    {
      "cell_type": "code",
      "source": [
        "train_mean = diffuseSunData.mean()\n",
        "train_var = diffuseSunData.var()\n",
        "\n",
        "train_diffuseSunData = (train_diffuseSunData - train_mean) / train_var\n",
        "val_diffuseSunData = (val_diffuseSunData - train_mean) / train_var\n",
        "test_diffuseSunData = (test_diffuseSunData - train_mean) / train_var"
      ],
      "metadata": {
        "id": "qrd3fZ89Bnr8"
      },
      "execution_count": null,
      "outputs": []
    },
    {
      "cell_type": "markdown",
      "source": [
        "**Denormalize**"
      ],
      "metadata": {
        "id": "qyd6jGXIGtpa"
      }
    },
    {
      "cell_type": "code",
      "source": [
        "def denormalize(data):\n",
        "  min_d = np.min(data)\n",
        "  max_d = np.max(data)\n",
        "  return (data - min_d) / (max_d - min_d)"
      ],
      "metadata": {
        "id": "aw5oxSn5Gsy9"
      },
      "execution_count": null,
      "outputs": []
    },
    {
      "cell_type": "markdown",
      "source": [
        "**Model construction (currently single-step)**"
      ],
      "metadata": {
        "id": "bJp47ZFnk0yb"
      }
    },
    {
      "cell_type": "code",
      "source": [
        "\n",
        "data = load_data(historical_data)\n",
        "data = data[[inputColumn, outputColumn]].copy()\n",
        "data = process_data(data)\n",
        "data = splitData(data)\n",
        "print(data[1])\n",
        "train = transformData(data[0], [inputColumn, outputColumn])\n",
        "test = transformData(data[1], [inputColumn, outputColumn])\n",
        "print(test)\n",
        "input, output = createDatasets(train, train[outputColumn], steps)\n",
        "\n",
        "print(f'Dataset shape set to: {input.shape, output.shape}')\n",
        "print(f'Set model input shape to: {input.shape[1], input.shape[2]}')\n",
        "'''\n",
        "model = tf.keras.Sequential()\n",
        "model.add(tf.keras.layers.LSTM(units=32, return_sequences=True, input_shape=(input.shape[1], input.shape[2])))\n",
        "model.add(tf.keras.layers.LSTM(units=32, return_sequences=True, input_shape=(input.shape[1], input.shape[2])))\n",
        "model.add(tf.keras.layers.LSTM(units=32, input_shape=(input.shape[1], input.shape[2])))\n",
        "model.add(keras.layers.Dense(units=1))\n",
        "model.summary()\n",
        "'''\n",
        "\n",
        "model = keras.Sequential()\n",
        "model.add(\n",
        "  keras.layers.Bidirectional(\n",
        "    keras.layers.LSTM(\n",
        "      units=128, \n",
        "      input_shape=(input.shape[1], input.shape[2])\n",
        "    )\n",
        "  )\n",
        ")\n",
        "model.add(keras.layers.Dropout(rate=0.2))\n",
        "model.add(keras.layers.Dense(units=1))\n",
        "\n",
        "#model = compile(model)\n",
        "#model.compile(loss='mean_squared_error', optimizer='adam')\n",
        "history = fit(model, input, output)\n",
        "\n",
        "testInput, testOutput = createDatasets(test, test[outputColumn], steps)\n",
        "\n",
        "print(f'Test data shape: {testInput.shape}')\n",
        "prediction = make_prediction(model, testInput, False)\n",
        "print(prediction)\n",
        "\n",
        "print(f'Prediction output shape: {inverseTransformData(prediction).shape}')\n",
        "print(f'Prediction values: {inverseTransformData(prediction)}')\n",
        "print(f'Real values: {data[1].tail(20)}')\n",
        "#print(f'Real values: {inverseTransformData(np.reshape(testOutput,(-1,1)))}')\n",
        "look = inverseTransformData(np.reshape(testOutput,(-1,1)))\n",
        "#print(look[-20:, :])\n",
        "#print(f'Shapes {testOutput.shape, look.shape}')\n",
        "plt.plot(inverseTransformData(np.reshape(testOutput,(-1,1))).flatten(), marker='.', label='true')\n",
        "plt.plot(inverseTransformData(prediction).flatten(), 'r', label='predicted')\n",
        "plt.legend()\n",
        "\n",
        "'''\n",
        "print(train_diffuseSunData['DiffuseSunPower kW/m²'])\n",
        "\n",
        "history = model.fit(train_diffuseSunData['SunAltitude °'],train_diffuseSunData['DiffuseSunPower kW/m²'], epochs=10)\n",
        "\n",
        "model.evaluate(test_diffuseSunData['SunAltitude °'],test_diffuseSunData['DiffuseSunPower kW/m²'])\n",
        "\n",
        "prediction = model.predict(train_diffuseSunData['SunAltitude °'])\n",
        "print(prediction)\n",
        "\n",
        "#print(denormalize(train_diffuseSunData['SunAltitude °']))\n",
        "\n",
        "print(train_diffuseSunData['DiffuseSunPower kW/m²'])\n",
        "\n",
        "from sklearn import metrics\n",
        "metrics.mean_squared_error(train_diffuseSunData['DiffuseSunPower kW/m²'], prediction)\n",
        "\n",
        "'''"
      ],
      "metadata": {
        "colab": {
          "base_uri": "https://localhost:8080/"
        },
        "id": "NOoUj-hsk0Qu",
        "outputId": "506fbe13-6db7-4d16-9995-19b416a3114b"
      },
      "execution_count": null,
      "outputs": [
        {
          "output_type": "stream",
          "name": "stdout",
          "text": [
            "Shapes ((1502,), (1502, 1))\n"
          ]
        }
      ]
    },
    {
      "cell_type": "markdown",
      "source": [
        "**Model construction (multi-step)**"
      ],
      "metadata": {
        "id": "udyIwrcvRiya"
      }
    },
    {
      "cell_type": "code",
      "source": [
        "data = load_data(historical_data)\n",
        "data = data[[inputColumn, outputColumn]].copy()\n",
        "data = process_data(data)\n",
        "\n",
        "shiftDays = 1 \n",
        "shiftSteps = shiftDays * 24\n",
        "\n",
        "#shiftedData = data\n",
        "#shiftedData[outputColumn] = shiftedData[outputColumn].shift(-shiftSteps)\n",
        "\n",
        "shiftedData = data[outputColumn].shift(-shiftSteps)\n",
        "\n",
        "print(data[outputColumn].head(shiftSteps + 5))\n",
        "print(shiftedData.head(5))\n",
        "print(shiftedData.tail()) #this should be NaN, since the data has been shifted backwards (down)\n",
        "\n",
        "data[outputColumn] = shiftedData\n",
        "data = splitData(data)\n",
        "print(f'Split shifted data: {splitData(data)}')\n",
        "#print(f'Split shifted data: {splitData(shiftedData)}')\n",
        "\n",
        "train = transformData(data[0], [inputColumn, outputColumn])\n",
        "test = transformData(data[1], [inputColumn, outputColumn])\n",
        "\n",
        "print(f'Test data: {test}')\n",
        "input, output = createDatasets(train, train[outputColumn], steps)\n",
        "\n",
        "print(f'Dataset shape set to: {input.shape, output.shape}')\n",
        "print(f'Set model input shape to: {input.shape[1], input.shape[2]}')\n",
        "print(f'Test data: {output}')\n",
        "\n",
        "\n",
        "model = keras.Sequential()\n",
        "model.add(\n",
        "  keras.layers.Bidirectional(\n",
        "    keras.layers.LSTM(\n",
        "      units=128, \n",
        "      input_shape=(input.shape[1], input.shape[2])\n",
        "    )\n",
        "  )\n",
        ")\n",
        "model.add(keras.layers.Dropout(rate=0.2))\n",
        "model.add(keras.layers.Dense(units=1))\n",
        "\n",
        "model = compile(model)\n",
        "#model.compile(loss='mean_squared_error', optimizer='adam')\n",
        "history = fit(model, input, output)\n",
        "\n",
        "testInput, testOutput = createDatasets(test, test[outputColumn], steps)\n",
        "\n",
        "print(f'Test data shape: {testInput.shape}')\n",
        "print(f'Input: {testInput[1][0]}')\n",
        "prediction = make_prediction(model, testInput, False)\n",
        "print(prediction)\n",
        "\n",
        "print(f'Prediction output shape: {inverseTransformData(prediction).shape}')\n",
        "print(f'Prediction values: {inverseTransformData(prediction)}')\n",
        "\n",
        "print(f'Real values: {data[1].head(20)}')\n",
        "#print(f'Real values: {inverseTransformData(np.reshape(testOutput,(-1,1)))}')\n",
        "look = inverseTransformData(np.reshape(testOutput,(-1,1)))\n",
        "#print(look[-20:, :])\n",
        "#print(f'Shapes {testOutput.shape, look.shape}')\n",
        "plt.plot(inverseTransformData(np.reshape(testOutput,(-1,1))).flatten(), marker='.', label='true')\n",
        "plt.plot(inverseTransformData(prediction).flatten(), 'r', label='predicted')\n",
        "plt.legend()\n"
      ],
      "metadata": {
        "colab": {
          "base_uri": "https://localhost:8080/",
          "height": 1000
        },
        "id": "YyKYmQJ8RnzY",
        "outputId": "0609e0cf-956f-48fc-96ce-ab9457863609"
      },
      "execution_count": null,
      "outputs": [
        {
          "output_type": "stream",
          "name": "stdout",
          "text": [
            "0     0.12\n",
            "1     0.15\n",
            "2     0.14\n",
            "3     0.12\n",
            "4     0.08\n",
            "5     0.03\n",
            "6     0.00\n",
            "7     0.00\n",
            "8     0.00\n",
            "9     0.00\n",
            "10    0.00\n",
            "11    0.00\n",
            "12    0.00\n",
            "13    0.00\n",
            "14    0.00\n",
            "15    0.00\n",
            "16    0.00\n",
            "17    0.00\n",
            "18    0.00\n",
            "19    0.01\n",
            "20    0.03\n",
            "21    0.06\n",
            "22    0.10\n",
            "23    0.11\n",
            "24    0.11\n",
            "25    0.13\n",
            "26    0.14\n",
            "27    0.12\n",
            "28    0.07\n",
            "Name: DiffuseSunPower kW/m², dtype: float64\n",
            "0    0.11\n",
            "1    0.13\n",
            "2    0.14\n",
            "3    0.12\n",
            "4    0.07\n",
            "Name: DiffuseSunPower kW/m², dtype: float64\n",
            "15248   NaN\n",
            "15249   NaN\n",
            "15250   NaN\n",
            "15251   NaN\n",
            "15252   NaN\n",
            "Name: DiffuseSunPower kW/m², dtype: float64\n",
            "Split shifted data: [[       SunAltitude °  DiffuseSunPower kW/m²\n",
            "0           0.512254                   0.11\n",
            "1           0.510858                   0.13\n",
            "2           0.466701                   0.14\n",
            "3           0.385194                   0.12\n",
            "4           0.275238                   0.07\n",
            "...              ...                    ...\n",
            "13722       0.120602                   0.03\n",
            "13723       0.264417                   0.08\n",
            "13724       0.411025                   0.11\n",
            "13725       0.552397                   0.16\n",
            "13726       0.679631                   0.17\n",
            "\n",
            "[13727 rows x 2 columns]], [       SunAltitude °  DiffuseSunPower kW/m²\n",
            "13727       0.780337                   0.22\n",
            "13728       0.840202                   0.19\n",
            "13729       0.847183                   0.17\n",
            "13730       0.799710                   0.15\n",
            "13731       0.707906                   0.13\n",
            "...              ...                    ...\n",
            "15248       0.157603                    NaN\n",
            "15249       0.039444                    NaN\n",
            "15250      -0.065275                    NaN\n",
            "15251       0.000000                    NaN\n",
            "15252       0.000000                    NaN\n",
            "\n",
            "[1526 rows x 2 columns]]]\n",
            "Test data:        SunAltitude °  DiffuseSunPower kW/m²\n",
            "13727       0.670999               1.361702\n",
            "13728       0.753550               1.106383\n",
            "13729       0.763177               0.936170\n",
            "13730       0.697714               0.765957\n",
            "13731       0.571119               0.595745\n",
            "...              ...                    ...\n",
            "15248      -0.187726                    NaN\n",
            "15249      -0.350662                    NaN\n",
            "15250      -0.495066                    NaN\n",
            "15251      -0.405054                    NaN\n",
            "15252      -0.405054                    NaN\n",
            "\n",
            "[1526 rows x 2 columns]\n",
            "Dataset shape set to: ((13703, 24, 2), (13703,))\n",
            "Set model input shape to: (24, 2)\n",
            "Test data: [2.         2.         2.33333333 ... 1.83333333 2.66666667 2.83333333]\n",
            "Epoch 1/20\n",
            "386/386 [==============================] - 30s 66ms/step - loss: 0.1058 - mean_absolute_error: 0.1778 - val_loss: 0.0912 - val_mean_absolute_error: 0.1789\n",
            "Epoch 2/20\n",
            "386/386 [==============================] - 22s 56ms/step - loss: 0.0940 - mean_absolute_error: 0.1612 - val_loss: 0.0887 - val_mean_absolute_error: 0.1730\n",
            "Epoch 3/20\n",
            "386/386 [==============================] - 22s 57ms/step - loss: 0.0932 - mean_absolute_error: 0.1589 - val_loss: 0.0886 - val_mean_absolute_error: 0.1728\n",
            "Epoch 4/20\n",
            "386/386 [==============================] - 22s 57ms/step - loss: 0.0926 - mean_absolute_error: 0.1584 - val_loss: 0.0879 - val_mean_absolute_error: 0.1723\n",
            "Epoch 5/20\n",
            "386/386 [==============================] - 23s 59ms/step - loss: 0.0922 - mean_absolute_error: 0.1582 - val_loss: 0.0875 - val_mean_absolute_error: 0.1723\n",
            "Epoch 6/20\n",
            "386/386 [==============================] - 24s 61ms/step - loss: 0.0915 - mean_absolute_error: 0.1569 - val_loss: 0.0858 - val_mean_absolute_error: 0.1697\n",
            "Epoch 7/20\n",
            "386/386 [==============================] - 22s 56ms/step - loss: 0.0907 - mean_absolute_error: 0.1559 - val_loss: 0.0865 - val_mean_absolute_error: 0.1728\n",
            "Epoch 8/20\n",
            "386/386 [==============================] - 21s 55ms/step - loss: 0.0911 - mean_absolute_error: 0.1557 - val_loss: 0.0864 - val_mean_absolute_error: 0.1698\n",
            "Epoch 9/20\n",
            "386/386 [==============================] - 22s 56ms/step - loss: 0.0918 - mean_absolute_error: 0.1553 - val_loss: 0.0857 - val_mean_absolute_error: 0.1703\n",
            "Epoch 10/20\n",
            "386/386 [==============================] - 23s 59ms/step - loss: 0.0903 - mean_absolute_error: 0.1538 - val_loss: 0.0847 - val_mean_absolute_error: 0.1678\n",
            "Epoch 11/20\n",
            "386/386 [==============================] - 22s 57ms/step - loss: 0.0883 - mean_absolute_error: 0.1531 - val_loss: 0.0848 - val_mean_absolute_error: 0.1676\n",
            "Epoch 12/20\n",
            "386/386 [==============================] - 23s 60ms/step - loss: 0.0902 - mean_absolute_error: 0.1536 - val_loss: 0.0856 - val_mean_absolute_error: 0.1659\n",
            "Epoch 13/20\n",
            "386/386 [==============================] - 22s 56ms/step - loss: 0.0894 - mean_absolute_error: 0.1526 - val_loss: 0.0846 - val_mean_absolute_error: 0.1649\n",
            "Epoch 14/20\n",
            "386/386 [==============================] - 21s 56ms/step - loss: 0.0908 - mean_absolute_error: 0.1530 - val_loss: 0.0866 - val_mean_absolute_error: 0.1665\n",
            "Epoch 15/20\n",
            "386/386 [==============================] - 22s 58ms/step - loss: 0.0888 - mean_absolute_error: 0.1517 - val_loss: 0.0854 - val_mean_absolute_error: 0.1634\n",
            "Epoch 16/20\n",
            "386/386 [==============================] - 23s 58ms/step - loss: 0.0888 - mean_absolute_error: 0.1507 - val_loss: 0.0846 - val_mean_absolute_error: 0.1630\n",
            "Epoch 17/20\n",
            "386/386 [==============================] - 23s 59ms/step - loss: 0.0884 - mean_absolute_error: 0.1509 - val_loss: 0.0843 - val_mean_absolute_error: 0.1637\n",
            "Epoch 18/20\n",
            "386/386 [==============================] - 22s 57ms/step - loss: 0.0880 - mean_absolute_error: 0.1500 - val_loss: 0.0853 - val_mean_absolute_error: 0.1648\n",
            "Epoch 19/20\n",
            "386/386 [==============================] - 21s 55ms/step - loss: 0.0878 - mean_absolute_error: 0.1494 - val_loss: 0.0855 - val_mean_absolute_error: 0.1644\n",
            "Epoch 20/20\n",
            "386/386 [==============================] - 21s 55ms/step - loss: 0.0868 - mean_absolute_error: 0.1492 - val_loss: 0.0854 - val_mean_absolute_error: 0.1643\n",
            "Test data shape: (1502, 24, 2)\n",
            "Input: [0.75354994 1.10638298]\n",
            "47/47 [==============================] - 2s 19ms/step\n",
            "[[1.1136659]\n",
            " [1.3882265]\n",
            " [1.4793088]\n",
            " ...\n",
            " [      nan]\n",
            " [      nan]\n",
            " [      nan]]\n",
            "Prediction output shape: (1502, 1)\n",
            "Prediction values: [[0.94592416]\n",
            " [1.2028176 ]\n",
            " [1.2880391 ]\n",
            " ...\n",
            " [       nan]\n",
            " [       nan]\n",
            " [       nan]]\n",
            "Real values:        SunAltitude °  DiffuseSunPower kW/m²\n",
            "13727       0.670999               1.361702\n",
            "13728       0.753550               1.106383\n",
            "13729       0.763177               0.936170\n",
            "13730       0.697714               0.765957\n",
            "13731       0.571119               0.595745\n",
            "13732       0.403369               0.255319\n",
            "13733       0.212274               0.255319\n",
            "13734       0.011312               0.085106\n",
            "13735      -0.188448              -0.255319\n",
            "13736      -0.373285              -0.425532\n",
            "13737      -0.405054              -0.510638\n",
            "13738      -0.405054              -0.510638\n",
            "13739      -0.405054              -0.510638\n",
            "13740      -0.405054              -0.510638\n",
            "13741      -0.405054              -0.510638\n",
            "13742      -0.405054              -0.510638\n",
            "13743      -0.405054              -0.510638\n",
            "13744      -0.405054              -0.510638\n",
            "13745      -0.412756              -0.510638\n",
            "13746      -0.232250              -0.255319\n"
          ]
        },
        {
          "output_type": "execute_result",
          "data": {
            "text/plain": [
              "<matplotlib.legend.Legend at 0x7f33efde2f10>"
            ]
          },
          "metadata": {},
          "execution_count": 48
        },
        {
          "output_type": "display_data",
          "data": {
            "text/plain": [
              "<Figure size 432x288 with 1 Axes>"
            ],
            "image/png": "[encoded data removed]"
          },
          "metadata": {
            "needs_background": "light"
          }
        }
      ]
    },
    {
      "cell_type": "markdown",
      "source": [
        "**Test**"
      ],
      "metadata": {
        "id": "wNLQeAoLfhHm"
      }
    },
    {
      "cell_type": "code",
      "source": [
        "model = load_model(model_path)\n",
        "\n",
        "model.summary()\n",
        "\n",
        "testInput = process_data(load_data(rData_path))\n",
        "print(testInput[0:4])\n",
        "testInput = testInput*np.pi / 180 #radians\n",
        "\n",
        "print(testInput)\n",
        "#test = np.array(testInput[10677:10677+48])\n",
        "test = np.array(testInput[0:48])\n",
        "test_mean = test.mean()\n",
        "test_std = test.std()\n",
        "\n",
        "test = (test - test_mean) / test_std\n",
        "\n",
        "test = test.reshape(1,24,2)\n",
        "print(f'TEST SHAPE: {test.shape}')\n",
        "\n",
        "preds = model.predict(test, verbose=0)\n",
        "print(f'PREDICTON: {preds}')\n",
        "\n",
        "\n",
        "data = pd.read_csv(rData_path, sep=\";\",thousands='.', decimal=',') #read csv file with ';' as seperator and ',' as decimal marker (will be converted to '.')\n",
        "\n",
        "trueData = data[[diffused]].copy()\n",
        "\n",
        "#trueData = np.array(trueData[10677:10677+48])\n",
        "trueData = np.array(trueData[0:48])\n",
        "trueData = trueData.reshape(1,48,1)\n",
        "trueData_mean = trueData.mean()\n",
        "trueData_std = trueData.std()\n",
        "\n",
        "trueData = (trueData - trueData_mean) / trueData_std\n",
        "\n",
        "#show = load_data(rData_path)\n",
        "#print(trueData)\n",
        "\n",
        "\n",
        "#test_results = model.evaluate(preds, trueData, verbose=0)\n",
        "#print(f\" Accuracy: {test_results}\")\n",
        "\n",
        "\n",
        "data = pd.read_csv(rData_path, sep=\";\",thousands='.', decimal=',') #read csv file with ';' as seperator and ',' as decimal marker (will be converted to '.')\n",
        "\n",
        "trueData = data[[diffused]].copy()\n",
        "trueData = np.array(trueData)\n",
        "trueData_mean = trueData.mean()\n",
        "trueData_std = trueData.std()\n",
        "\n",
        "trueData = (trueData - trueData_mean) / trueData_std\n",
        "\n",
        "print(trueData[0:48])\n",
        "#print(trueData[10677])\n",
        "            \n"
      ],
      "metadata": {
        "id": "NtxsQ9gcfjYw",
        "colab": {
          "base_uri": "https://localhost:8080/",
          "height": 417
        },
        "outputId": "4b2c280a-9e0e-4e8f-e984-0e11360efede"
      },
      "execution_count": null,
      "outputs": [
        {
          "output_type": "error",
          "ename": "OSError",
          "evalue": "ignored",
          "traceback": [
            "\u001b[0;31m---------------------------------------------------------------------------\u001b[0m",
            "\u001b[0;31mOSError\u001b[0m                                   Traceback (most recent call last)",
            "\u001b[0;32m<ipython-input-26-6f3480f11caf>\u001b[0m in \u001b[0;36m<module>\u001b[0;34m\u001b[0m\n\u001b[0;32m----> 1\u001b[0;31m \u001b[0mmodel\u001b[0m \u001b[0;34m=\u001b[0m \u001b[0mload_model\u001b[0m\u001b[0;34m(\u001b[0m\u001b[0mmodel_path\u001b[0m\u001b[0;34m)\u001b[0m\u001b[0;34m\u001b[0m\u001b[0;34m\u001b[0m\u001b[0m\n\u001b[0m\u001b[1;32m      2\u001b[0m \u001b[0;34m\u001b[0m\u001b[0m\n\u001b[1;32m      3\u001b[0m \u001b[0mmodel\u001b[0m\u001b[0;34m.\u001b[0m\u001b[0msummary\u001b[0m\u001b[0;34m(\u001b[0m\u001b[0;34m)\u001b[0m\u001b[0;34m\u001b[0m\u001b[0;34m\u001b[0m\u001b[0m\n\u001b[1;32m      4\u001b[0m \u001b[0;34m\u001b[0m\u001b[0m\n\u001b[1;32m      5\u001b[0m \u001b[0mtestInput\u001b[0m \u001b[0;34m=\u001b[0m \u001b[0mprocess_data\u001b[0m\u001b[0;34m(\u001b[0m\u001b[0mload_data\u001b[0m\u001b[0;34m(\u001b[0m\u001b[0mrData_path\u001b[0m\u001b[0;34m)\u001b[0m\u001b[0;34m)\u001b[0m\u001b[0;34m\u001b[0m\u001b[0;34m\u001b[0m\u001b[0m\n",
            "\u001b[0;32m<ipython-input-16-a11e3671a38b>\u001b[0m in \u001b[0;36mload_model\u001b[0;34m(path)\u001b[0m\n\u001b[1;32m      1\u001b[0m \u001b[0;31m#path - under which path the model will be accessible\u001b[0m\u001b[0;34m\u001b[0m\u001b[0;34m\u001b[0m\u001b[0;34m\u001b[0m\u001b[0m\n\u001b[1;32m      2\u001b[0m \u001b[0;32mdef\u001b[0m \u001b[0mload_model\u001b[0m\u001b[0;34m(\u001b[0m\u001b[0mpath\u001b[0m\u001b[0;34m)\u001b[0m\u001b[0;34m:\u001b[0m\u001b[0;34m\u001b[0m\u001b[0;34m\u001b[0m\u001b[0m\n\u001b[0;32m----> 3\u001b[0;31m   \u001b[0mnew_model\u001b[0m \u001b[0;34m=\u001b[0m \u001b[0mtf\u001b[0m\u001b[0;34m.\u001b[0m\u001b[0mkeras\u001b[0m\u001b[0;34m.\u001b[0m\u001b[0mmodels\u001b[0m\u001b[0;34m.\u001b[0m\u001b[0mload_model\u001b[0m\u001b[0;34m(\u001b[0m\u001b[0mpath\u001b[0m\u001b[0;34m)\u001b[0m\u001b[0;34m\u001b[0m\u001b[0;34m\u001b[0m\u001b[0m\n\u001b[0m\u001b[1;32m      4\u001b[0m \u001b[0;34m\u001b[0m\u001b[0m\n\u001b[1;32m      5\u001b[0m   \u001b[0;32mreturn\u001b[0m \u001b[0mnew_model\u001b[0m\u001b[0;34m\u001b[0m\u001b[0;34m\u001b[0m\u001b[0m\n",
            "\u001b[0;32m/usr/local/lib/python3.7/dist-packages/keras/utils/traceback_utils.py\u001b[0m in \u001b[0;36merror_handler\u001b[0;34m(*args, **kwargs)\u001b[0m\n\u001b[1;32m     65\u001b[0m     \u001b[0;32mexcept\u001b[0m \u001b[0mException\u001b[0m \u001b[0;32mas\u001b[0m \u001b[0me\u001b[0m\u001b[0;34m:\u001b[0m  \u001b[0;31m# pylint: disable=broad-except\u001b[0m\u001b[0;34m\u001b[0m\u001b[0;34m\u001b[0m\u001b[0m\n\u001b[1;32m     66\u001b[0m       \u001b[0mfiltered_tb\u001b[0m \u001b[0;34m=\u001b[0m \u001b[0m_process_traceback_frames\u001b[0m\u001b[0;34m(\u001b[0m\u001b[0me\u001b[0m\u001b[0;34m.\u001b[0m\u001b[0m__traceback__\u001b[0m\u001b[0;34m)\u001b[0m\u001b[0;34m\u001b[0m\u001b[0;34m\u001b[0m\u001b[0m\n\u001b[0;32m---> 67\u001b[0;31m       \u001b[0;32mraise\u001b[0m \u001b[0me\u001b[0m\u001b[0;34m.\u001b[0m\u001b[0mwith_traceback\u001b[0m\u001b[0;34m(\u001b[0m\u001b[0mfiltered_tb\u001b[0m\u001b[0;34m)\u001b[0m \u001b[0;32mfrom\u001b[0m \u001b[0;32mNone\u001b[0m\u001b[0;34m\u001b[0m\u001b[0;34m\u001b[0m\u001b[0m\n\u001b[0m\u001b[1;32m     68\u001b[0m     \u001b[0;32mfinally\u001b[0m\u001b[0;34m:\u001b[0m\u001b[0;34m\u001b[0m\u001b[0;34m\u001b[0m\u001b[0m\n\u001b[1;32m     69\u001b[0m       \u001b[0;32mdel\u001b[0m \u001b[0mfiltered_tb\u001b[0m\u001b[0;34m\u001b[0m\u001b[0;34m\u001b[0m\u001b[0m\n",
            "\u001b[0;32m/usr/local/lib/python3.7/dist-packages/keras/saving/save.py\u001b[0m in \u001b[0;36mload_model\u001b[0;34m(filepath, custom_objects, compile, options)\u001b[0m\n\u001b[1;32m    204\u001b[0m         \u001b[0;32mif\u001b[0m \u001b[0misinstance\u001b[0m\u001b[0;34m(\u001b[0m\u001b[0mfilepath_str\u001b[0m\u001b[0;34m,\u001b[0m \u001b[0mstr\u001b[0m\u001b[0;34m)\u001b[0m\u001b[0;34m:\u001b[0m\u001b[0;34m\u001b[0m\u001b[0;34m\u001b[0m\u001b[0m\n\u001b[1;32m    205\u001b[0m           \u001b[0;32mif\u001b[0m \u001b[0;32mnot\u001b[0m \u001b[0mtf\u001b[0m\u001b[0;34m.\u001b[0m\u001b[0mio\u001b[0m\u001b[0;34m.\u001b[0m\u001b[0mgfile\u001b[0m\u001b[0;34m.\u001b[0m\u001b[0mexists\u001b[0m\u001b[0;34m(\u001b[0m\u001b[0mfilepath_str\u001b[0m\u001b[0;34m)\u001b[0m\u001b[0;34m:\u001b[0m\u001b[0;34m\u001b[0m\u001b[0;34m\u001b[0m\u001b[0m\n\u001b[0;32m--> 206\u001b[0;31m             \u001b[0;32mraise\u001b[0m \u001b[0mIOError\u001b[0m\u001b[0;34m(\u001b[0m\u001b[0;34mf'No file or directory found at {filepath_str}'\u001b[0m\u001b[0;34m)\u001b[0m\u001b[0;34m\u001b[0m\u001b[0;34m\u001b[0m\u001b[0m\n\u001b[0m\u001b[1;32m    207\u001b[0m \u001b[0;34m\u001b[0m\u001b[0m\n\u001b[1;32m    208\u001b[0m           \u001b[0;32mif\u001b[0m \u001b[0mtf\u001b[0m\u001b[0;34m.\u001b[0m\u001b[0mio\u001b[0m\u001b[0;34m.\u001b[0m\u001b[0mgfile\u001b[0m\u001b[0;34m.\u001b[0m\u001b[0misdir\u001b[0m\u001b[0;34m(\u001b[0m\u001b[0mfilepath_str\u001b[0m\u001b[0;34m)\u001b[0m\u001b[0;34m:\u001b[0m\u001b[0;34m\u001b[0m\u001b[0;34m\u001b[0m\u001b[0m\n",
            "\u001b[0;31mOSError\u001b[0m: No file or directory found at /content/saved_model/my_model"
          ]
        }
      ]
    }
  ]
}