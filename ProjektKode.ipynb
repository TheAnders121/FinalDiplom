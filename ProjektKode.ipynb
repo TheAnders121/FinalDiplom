{
  "nbformat": 4,
  "nbformat_minor": 0,
  "metadata": {
    "colab": {
      "provenance": [],
      "collapsed_sections": [],
      "authorship_tag": "ABX9TyNlojyAADex555cbpNC8a4N",
      "include_colab_link": true
    },
    "kernelspec": {
      "name": "python3",
      "display_name": "Python 3"
    },
    "language_info": {
      "name": "python"
    }
  },
  "cells": [
    {
      "cell_type": "markdown",
      "metadata": {
        "id": "view-in-github",
        "colab_type": "text"
      },
      "source": [
        "<a href=\"https://colab.research.google.com/github/TheAnders121/TestRepo/blob/main/ProjektKode.ipynb\" target=\"_parent\"><img src=\"https://colab.research.google.com/assets/colab-badge.svg\" alt=\"Open In Colab\"/></a>"
      ]
    },
    {
      "cell_type": "markdown",
      "source": [
        "**Import libraries**"
      ],
      "metadata": {
        "id": "XntZcSbJkHBu"
      }
    },
    {
      "cell_type": "code",
      "source": [
        "import os\n",
        "import datetime\n",
        "import time\n",
        "\n",
        "from datetime import datetime, timedelta\n",
        "\n",
        "#import IPython\n",
        "#import IPython.display\n",
        "#import matplotlib as mpl\n",
        "#import matplotlib.pyplot as plt\n",
        "import numpy as np\n",
        "import pandas as pd\n",
        "#import seaborn as sns\n",
        "import tensorflow as tf\n",
        "from tensorflow import keras\n",
        "from sklearn.preprocessing import RobustScaler\n",
        "import json\n",
        "import requests\n",
        "import pickle"
      ],
      "metadata": {
        "id": "8Fwh5TCxkFVy"
      },
      "execution_count": 2,
      "outputs": []
    },
    {
      "cell_type": "markdown",
      "source": [
        "**Configurations**"
      ],
      "metadata": {
        "id": "GLuMBI8ZkQHA"
      }
    },
    {
      "cell_type": "code",
      "source": [
        "MAX_EPOCHS = 20\n",
        "\n",
        "multi_val_performance = {}\n",
        "multi_performance = {}\n",
        "\n",
        "#inputTransformer = RobustScaler()\n",
        "#outputTransformer = RobustScaler()\n",
        "\n",
        "#Paths\n",
        "model_path = '/content/saved_model/my_model'\n",
        "plot_path = ''\n",
        "historical_data = 'data.csv'\n",
        "rData_path = 'data.csv'\n",
        "log_path = 'log.txt'\n",
        "\n",
        "#Model columns\n",
        "direct = 'DirectSunPower kW/m²'\n",
        "diffused = 'DiffuseSunPower kW/m²'\n",
        "sunAltitude = 'SunAltitude °'\n",
        "inputColumn = sunAltitude\n",
        "outputColumn = diffused\n",
        "\n",
        "#Model construction\n",
        "steps = 24\n",
        "inputColumns = 2\n",
        "inputShape = [steps, inputColumns]\n",
        "\n",
        "#Model compilation, fitting and optimization\n",
        "optimizationAlgorithm = tf.keras.optimizers.Adam()\n",
        "#optimizationAlgorithm = tf.keras.optimizers.SGD()\n",
        "patience = 2\n",
        "conf_epochs = 20\n",
        "\n",
        "#API paths \n",
        "POST = 'somePath'\n",
        "GET = 'somePath'\n",
        "\n",
        "#Scheduler\n",
        "hours = 1\n"
      ],
      "metadata": {
        "id": "2nMSyYpUkSfd"
      },
      "execution_count": 3,
      "outputs": []
    },
    {
      "cell_type": "markdown",
      "source": [
        "**Data windowing**"
      ],
      "metadata": {
        "id": "3xL6n9PIodw0"
      }
    },
    {
      "cell_type": "code",
      "source": [],
      "metadata": {
        "id": "xSTA6pwTog-j"
      },
      "execution_count": 3,
      "outputs": []
    },
    {
      "cell_type": "markdown",
      "source": [
        "**Split data**"
      ],
      "metadata": {
        "id": "u3CGH3DrM1PR"
      }
    },
    {
      "cell_type": "code",
      "source": [
        "def splitData(data):\n",
        "  n = len(data)\n",
        "  train = data[0:int(n*0.9)] #first 90%\n",
        "  test = data[int(n*0.9):] #left over 10%\n",
        "  return train, test"
      ],
      "metadata": {
        "id": "EXlhrN6fM5dB"
      },
      "execution_count": 4,
      "outputs": []
    },
    {
      "cell_type": "markdown",
      "source": [
        "**Create dataset**"
      ],
      "metadata": {
        "id": "-8OPgj64NmKM"
      }
    },
    {
      "cell_type": "code",
      "source": [
        "def createDatasets(input, output, timeSteps):\n",
        "  inputList, outputList = [], []\n",
        "  for i in range(len(input) - timeSteps):\n",
        "    val = input.iloc[i: (i + timeSteps)].to_numpy()\n",
        "    inputList.append(val)\n",
        "    outputList.append(output.iloc[i + timeSteps])\n",
        "  return np.array(inputList), np.array(outputList)"
      ],
      "metadata": {
        "id": "1mnGTAs1NpLr"
      },
      "execution_count": 5,
      "outputs": []
    },
    {
      "cell_type": "markdown",
      "source": [
        "**Reshape data**"
      ],
      "metadata": {
        "id": "zbfu3IEKNPtq"
      }
    },
    {
      "cell_type": "code",
      "source": [
        "def reshapeData(data, steps):\n",
        "  input, output = createDatasets(data, data[outputColumn], steps)\n",
        "  return [input, output]"
      ],
      "metadata": {
        "id": "XsnyV8ojNSrK"
      },
      "execution_count": 6,
      "outputs": []
    },
    {
      "cell_type": "markdown",
      "source": [
        "**Transform data**"
      ],
      "metadata": {
        "id": "o7J9nkG9MTwp"
      }
    },
    {
      "cell_type": "code",
      "source": [
        "def transformData(data, column):\n",
        "  transformer = RobustScaler()\n",
        "  transformer = transformer.fit(data[column].to_numpy())\n",
        "  data.loc[:, column] = transformer.transform(data[column].to_numpy())\n",
        "  return data"
      ],
      "metadata": {
        "id": "QxdFjXi8MXmT"
      },
      "execution_count": 7,
      "outputs": []
    },
    {
      "cell_type": "markdown",
      "source": [
        "**Inverse transform data**"
      ],
      "metadata": {
        "id": "jvOmqS-vMr9n"
      }
    },
    {
      "cell_type": "code",
      "source": [
        "def inverseTransformData(data, column=''):\n",
        "  transformer = RobustScaler()\n",
        "  if column == '':\n",
        "    transformer = transformer.fit(data) \n",
        "  else:\n",
        "    transformer = transformer.fit(data[column])\n",
        "  \n",
        "  inversed = transformer.inverse_transform(data)\n",
        "  return inversed"
      ],
      "metadata": {
        "id": "jYUOoZzyMv5I"
      },
      "execution_count": 8,
      "outputs": []
    },
    {
      "cell_type": "markdown",
      "source": [
        "**Save transformers**"
      ],
      "metadata": {
        "id": "fzRAVpiFIPY1"
      }
    },
    {
      "cell_type": "code",
      "source": [
        "def save_transformers(inputTransformer, outputTransformer):   \n",
        "  #Save transformers\n",
        "  with open('input_transformer', 'wb') as data:\n",
        "    pickle.dump(inputTransformer, data)\n",
        "    \n",
        "  with open('output_transformer', 'wb') as data:\n",
        "    pickle.dump(outputTransformer, data)  \n",
        "  print(f'Transformers have been saved succesfully')  "
      ],
      "metadata": {
        "id": "zkRuLIHpIXd3"
      },
      "execution_count": 9,
      "outputs": []
    },
    {
      "cell_type": "markdown",
      "source": [
        "**Load transformers**"
      ],
      "metadata": {
        "id": "lyfY7hEsI2yS"
      }
    },
    {
      "cell_type": "code",
      "source": [
        "def load_transformers():\n",
        "  with open('input_transformer', 'rb') as data:\n",
        "    inputTransformer = pickle.load(data)\n",
        " \n",
        "\n",
        "  with open('output_transformer', 'rb') as data:\n",
        "    #Load\n",
        "    outputTransformer = pickle.load(data)\n",
        "\n",
        "  return inputTransformer, outputTransformer        "
      ],
      "metadata": {
        "id": "mwWZzo6iI5nl"
      },
      "execution_count": 10,
      "outputs": []
    },
    {
      "cell_type": "markdown",
      "source": [
        "**To json string**"
      ],
      "metadata": {
        "id": "Ix3j7uJGHK5f"
      }
    },
    {
      "cell_type": "code",
      "source": [
        "def toJson(string):\n",
        "  return json.dumps(string)"
      ],
      "metadata": {
        "id": "bmfwqHgVHUvp"
      },
      "execution_count": 11,
      "outputs": []
    },
    {
      "cell_type": "markdown",
      "source": [
        "**Convert Json string**"
      ],
      "metadata": {
        "id": "zCZ4fsGyHer0"
      }
    },
    {
      "cell_type": "code",
      "source": [
        "def toNormal(string):\n",
        "  return json.loads(string)"
      ],
      "metadata": {
        "id": "vsTSeS7cHxMQ"
      },
      "execution_count": 12,
      "outputs": []
    },
    {
      "cell_type": "markdown",
      "source": [
        "**Write predictions to file**"
      ],
      "metadata": {
        "id": "DlsEW5HHIaed"
      }
    },
    {
      "cell_type": "code",
      "source": [
        "def writePredictions(string):\n",
        "  # Append-adds at last\n",
        "  file1 = open(wData_path, \"w\")  #write mode (overwrite previous predictions)\n",
        "  file1.write(string)\n",
        "  file1.close()"
      ],
      "metadata": {
        "id": "b7APolzjIzzl"
      },
      "execution_count": 13,
      "outputs": []
    },
    {
      "cell_type": "markdown",
      "source": [
        "**Upload predictions**"
      ],
      "metadata": {
        "id": "sK6zf7Q1J2lB"
      }
    },
    {
      "cell_type": "code",
      "source": [
        "def uploadPredictions(): \n",
        "  api_url = POST\n",
        "  todo = {\"userId\": 1, \"title\": \"Buy milk\", \"completed\": False} #this should actually be a file with new predictions\n",
        "  response = requests.post(api_url, json=todo)\n",
        "  return response.status_code"
      ],
      "metadata": {
        "id": "uiFyJIa4J6Q1"
      },
      "execution_count": 14,
      "outputs": []
    },
    {
      "cell_type": "markdown",
      "source": [
        "**Build model**"
      ],
      "metadata": {
        "id": "IrkncSLOzpwo"
      }
    },
    {
      "cell_type": "code",
      "source": [
        "def buildModel():\n",
        "  model = keras.Sequential()\n",
        "  model.add(\n",
        "    keras.layers.Bidirectional(\n",
        "      keras.layers.LSTM(\n",
        "        units=128, \n",
        "        input_shape=inputShape\n",
        "      )\n",
        "    )\n",
        "  )\n",
        "  model.add(keras.layers.Dropout(rate=0.2))\n",
        "  model.add(keras.layers.Dense(units=1))\n",
        "  return model"
      ],
      "metadata": {
        "id": "b7GiBGc5zsah"
      },
      "execution_count": 15,
      "outputs": []
    },
    {
      "cell_type": "markdown",
      "source": [
        "**Compile**"
      ],
      "metadata": {
        "id": "tmV4EfV6dgkt"
      }
    },
    {
      "cell_type": "code",
      "execution_count": 16,
      "metadata": {
        "id": "E91oDo9EdTO9"
      },
      "outputs": [],
      "source": [
        "def compile(model, patience=2):\n",
        "  early_stopping = tf.keras.callbacks.EarlyStopping(monitor='val_loss',\n",
        "                                                    patience=patience,\n",
        "                                                    mode='min')\n",
        "\n",
        "  model.compile(loss=tf.keras.losses.MeanSquaredError(),\n",
        "                optimizer=optimizationAlgorithm,\n",
        "                metrics=[tf.keras.metrics.MeanAbsoluteError()])\n",
        "  return model"
      ]
    },
    {
      "cell_type": "markdown",
      "source": [
        "**Fit model**"
      ],
      "metadata": {
        "id": "18EFaCJum0en"
      }
    },
    {
      "cell_type": "code",
      "source": [
        "def fit(model, input, output):\n",
        "  callback = tf.keras.callbacks.EarlyStopping(monitor='loss', patience=2)\n",
        "  history = model.fit(\n",
        "    input, output,\n",
        "    epochs=conf_epochs,\n",
        "    batch_size=32,\n",
        "    callbacks=[callback],\n",
        "    validation_split=0.1,\n",
        "    shuffle=False\n",
        "  )\n",
        "  return history"
      ],
      "metadata": {
        "id": "1Ok_hjZGm3Vs"
      },
      "execution_count": 17,
      "outputs": []
    },
    {
      "cell_type": "markdown",
      "source": [
        "**Save weights**"
      ],
      "metadata": {
        "id": "3QvTSKQJXf_5"
      }
    },
    {
      "cell_type": "code",
      "source": [],
      "metadata": {
        "id": "DzqspMYtXh61"
      },
      "execution_count": 17,
      "outputs": []
    },
    {
      "cell_type": "markdown",
      "source": [
        "**Load weights**"
      ],
      "metadata": {
        "id": "mgd2el5bXiTY"
      }
    },
    {
      "cell_type": "code",
      "source": [],
      "metadata": {
        "id": "2DysKihoXk4G"
      },
      "execution_count": 17,
      "outputs": []
    },
    {
      "cell_type": "markdown",
      "source": [
        "**Save model**"
      ],
      "metadata": {
        "id": "_eMGeZpmdbHk"
      }
    },
    {
      "cell_type": "code",
      "source": [
        "#model - model that is to be saved (needs to be a tf.keras.model object)\n",
        "#path - under which path the model will be saved (and can be accessed)\n",
        "def save_model(model, path):\n",
        "  model.save(path)"
      ],
      "metadata": {
        "id": "nDaEv_kqqeBJ"
      },
      "execution_count": 18,
      "outputs": []
    },
    {
      "cell_type": "markdown",
      "source": [
        "**Load model**"
      ],
      "metadata": {
        "id": "FQu2OnqGdeVr"
      }
    },
    {
      "cell_type": "code",
      "source": [
        "#path - under which path the model will be accessible\n",
        "def load_model(path):\n",
        "  new_model = tf.keras.models.load_model(path)\n",
        "\n",
        "  return new_model"
      ],
      "metadata": {
        "id": "vDiBAVprrioI"
      },
      "execution_count": 19,
      "outputs": []
    },
    {
      "cell_type": "markdown",
      "source": [
        "**Load data**"
      ],
      "metadata": {
        "id": "8ERK6FF6d_X_"
      }
    },
    {
      "cell_type": "code",
      "source": [
        "#path - path to where the data is to be loaded from \n",
        "def load_data(path):\n",
        "  dt = pd.read_csv(path, sep=\";\",thousands='.', decimal=',') #read csv file with ';' as seperator and ',' as decimal marker (will be converted to '.')\n",
        "  return dt"
      ],
      "metadata": {
        "id": "r_4vs6kwx515"
      },
      "execution_count": 20,
      "outputs": []
    },
    {
      "cell_type": "markdown",
      "source": [
        "**Process data**"
      ],
      "metadata": {
        "id": "cpCyy89p8XKE"
      }
    },
    {
      "cell_type": "code",
      "source": [
        "#data - data that is to be processed in order for the model to read it\n",
        "def process_data(data):\n",
        "  # Convert to radians.\n",
        "  data[sunAltitude] = data[sunAltitude]*np.pi / 180\n",
        "  #data[[diffused, sunAltitude]].copy() #return only two relevant columns\n",
        "  #return data[[sunAltitude]].copy() #return only relevant column\n",
        "  return data"
      ],
      "metadata": {
        "id": "c2tje-lc8bLO"
      },
      "execution_count": 21,
      "outputs": []
    },
    {
      "cell_type": "markdown",
      "source": [
        "**Remoce impossible values**"
      ],
      "metadata": {
        "id": "9orlOs2kHBHS"
      }
    },
    {
      "cell_type": "code",
      "source": [
        "def remove_negative(data):\n",
        "  return data[(data > 0).all(1)]"
      ],
      "metadata": {
        "id": "w8Dh-z9bHDjb"
      },
      "execution_count": 22,
      "outputs": []
    },
    {
      "cell_type": "markdown",
      "source": [
        "**Predict**"
      ],
      "metadata": {
        "id": "C8K_cUVrer48"
      }
    },
    {
      "cell_type": "code",
      "source": [
        "#data - 48 datapoints for the model to predict the next 24 datapoints\n",
        "def make_prediction(model, data, plot):\n",
        "  if plot == False:\n",
        "    prediction = model.predict(data)\n",
        "    return prediction\n",
        "  #Code to return plot \n"
      ],
      "metadata": {
        "id": "4hv5ko5GuqH7"
      },
      "execution_count": 23,
      "outputs": []
    },
    {
      "cell_type": "markdown",
      "source": [
        "**Send prediction**"
      ],
      "metadata": {
        "id": "M3Y13RuifFPD"
      }
    },
    {
      "cell_type": "markdown",
      "source": [
        "**Main function**"
      ],
      "metadata": {
        "id": "tlvcLzxEdU73"
      }
    },
    {
      "cell_type": "code",
      "source": [
        "'''\n",
        "with open(log_path, 'a') as f:\n",
        "\n",
        "    if os.path.exists('path/path'):\n",
        "      f.write(\"Loading model\\n\")\n",
        "      model = load_model('path/path') \n",
        "    else:\n",
        "      f.write('Model could not be loaded\\n')\n",
        "      f.write('Constructing new model\\n')\n",
        "      #Construct model method\n",
        "      model = {}\n",
        "      if not model:\n",
        "        f.write('Model could be not constructed\\n')\n",
        "        f.write('Exit program\\n')\n",
        "        #Break loop\n",
        "        raise SystemExit\n",
        "\n",
        "#Process data\n",
        "\n",
        "#Json string of prediction\n",
        "#print(predictions)\n",
        "with open(log_path, 'a') as f:\n",
        "  #f.write(f\"Predictions made: {predictions}\\n\")\n",
        "  \n",
        "\n",
        "\n",
        "\n",
        "\n",
        "print(\"Hello from main\")\n",
        "\n",
        "model = load_model(model_path)\n",
        "\n",
        "##In loop\n",
        "\n",
        "if not model:\n",
        "  model = load_model(model_path)\n",
        "  if not model:\n",
        "    print('Model could not be loaded')\n",
        "    print('Constructing model... This could take some time')\n",
        "    #Construct model method\n",
        "    if not model:\n",
        "      print('Model could be not constructed')\n",
        "      #Break loop\n",
        "\n",
        "data = load_data(rData_path)\n",
        "#Isolate needed columns\n",
        "\n",
        "data = process_data(data)\n",
        "#shift data\n",
        "data = reshapeData(data, steps)\n",
        "\n",
        "inputTransformer = RobustScaler() #These need to be grabbed from a file from training session\n",
        "outputTransformer = RobustScaler()\n",
        "\n",
        "tData = transformData(data) #Also pass transformer objects\n",
        "\n",
        "predictions = make_prediction(model, data, False)\n",
        "\n",
        "jsonString = toJson(inverseTransformData(predictions)) #should also pass transformer object\n",
        "\n",
        "#Upload predictions, this would probably just be through a print method\n",
        "print(jsonString)\n",
        "\n",
        "\n",
        "while True:\n",
        "  #Do work\n",
        "  data = process_data(load_data(rData_path))\n",
        "  data = reshapeData(data, steps)\n",
        "  tData = transformData(data)\n",
        "  model = load_model(model_path)\n",
        "  predictions = make_prediction(model, data, False)\n",
        "  jsonString = toJson(inverseTransformData(predictions))\n",
        "  code = uploadPredictions()\n",
        "  #check status code \n",
        "\n",
        "  \n",
        "  time.sleep(3600 * hours)  # do work every x amount of hours\n",
        "\n",
        "\n",
        "'''"
      ],
      "metadata": {
        "id": "0Va6eHa4dYvo",
        "colab": {
          "base_uri": "https://localhost:8080/",
          "height": 114
        },
        "outputId": "818592fc-2f29-4064-8f5c-7e0aa07ecf66"
      },
      "execution_count": 25,
      "outputs": [
        {
          "output_type": "error",
          "ename": "SystemExit",
          "evalue": "ignored",
          "traceback": [
            "An exception has occurred, use %tb to see the full traceback.\n",
            "\u001b[0;31mSystemExit\u001b[0m\n"
          ]
        }
      ]
    },
    {
      "cell_type": "markdown",
      "source": [
        "**Unzip file**"
      ],
      "metadata": {
        "id": "aS92bu18fBFo"
      }
    },
    {
      "cell_type": "code",
      "source": [
        "#!unzip /content/LSTM_Model.zip"
      ],
      "metadata": {
        "id": "2DWa0Ba9fAj3"
      },
      "execution_count": null,
      "outputs": []
    },
    {
      "cell_type": "markdown",
      "source": [
        "**Load test data**"
      ],
      "metadata": {
        "id": "h6Yh5mksrk8p"
      }
    },
    {
      "cell_type": "code",
      "source": [
        "dt = pd.read_csv('data.csv', sep=\";\",thousands='.', decimal=',') #read csv file with ';' as seperator and ',' as decimal marker (will be converted to '.')\n",
        "\n",
        "dt['SunAltitude °'] = dt['SunAltitude °']*np.pi / 180 #Get radians\n",
        "\n",
        "diffuseSunData = dt[['DiffuseSunPower kW/m²','SunAltitude °']].copy()\n",
        "\n",
        "n = len(diffuseSunData)\n",
        "train_diffuseSunData = diffuseSunData[0:int(n*0.7)] #first 70%\n",
        "val_diffuseSunData = diffuseSunData[int(n*0.7):int(n*0.9)] #following 20%\n",
        "test_diffuseSunData = diffuseSunData[int(n*0.9):] #left over 10%"
      ],
      "metadata": {
        "id": "7yFTx03TroQ3"
      },
      "execution_count": null,
      "outputs": []
    },
    {
      "cell_type": "markdown",
      "source": [
        "**Normalize data** "
      ],
      "metadata": {
        "id": "dFa6nsVDBkY-"
      }
    },
    {
      "cell_type": "code",
      "source": [
        "train_mean = diffuseSunData.mean()\n",
        "train_var = diffuseSunData.var()\n",
        "\n",
        "train_diffuseSunData = (train_diffuseSunData - train_mean) / train_var\n",
        "val_diffuseSunData = (val_diffuseSunData - train_mean) / train_var\n",
        "test_diffuseSunData = (test_diffuseSunData - train_mean) / train_var"
      ],
      "metadata": {
        "id": "qrd3fZ89Bnr8"
      },
      "execution_count": null,
      "outputs": []
    },
    {
      "cell_type": "markdown",
      "source": [
        "**Denormalize**"
      ],
      "metadata": {
        "id": "qyd6jGXIGtpa"
      }
    },
    {
      "cell_type": "code",
      "source": [
        "def denormalize(data):\n",
        "  min_d = np.min(data)\n",
        "  max_d = np.max(data)\n",
        "  return (data - min_d) / (max_d - min_d)"
      ],
      "metadata": {
        "id": "aw5oxSn5Gsy9"
      },
      "execution_count": null,
      "outputs": []
    },
    {
      "cell_type": "markdown",
      "source": [
        "**Model construction 3 input**"
      ],
      "metadata": {
        "id": "udyIwrcvRiya"
      }
    },
    {
      "cell_type": "code",
      "source": [
        "  #Load data\n",
        "data = load_data(historical_data)\n",
        "\n",
        "\n",
        "#PRETTIFY#\n",
        "  #Get date to cos sine values\n",
        "dateColumn = pd.to_datetime(data['DATE'], format='%d-%m-%Y %H:%M:%S')  # convert the index to datetime\n",
        "print(dateColumn)\n",
        "print(data['DATE'])\n",
        "\n",
        "data['Seconds'] = dateColumn.map(pd.Timestamp.timestamp)  # convert the index to seconds\n",
        "print(data['Seconds'])\n",
        "\n",
        "\n",
        "day = 60*60*24  # get the number of seconds in a day\n",
        "data['Day sin']  = np.sin(data['Seconds'] * (2 * np.pi / day))  # add the sin of the seconds\n",
        "data['Day cos']  = np.cos(data['Seconds'] * (2 * np.pi / day))  # add the cos of the seconds\n",
        "\n",
        "print(data['Day sin'])\n",
        "print(data['Day cos'])\n",
        "\n",
        "#data = data.drop('Seconds', axis=1) # remove the seconds column\n",
        "#data = data.drop(\"Time\", axis=1)  # remove the time column\n",
        "#PRETTIFY#\n",
        "\n",
        "  #Isolate data\n",
        "data = data[[inputColumn, 'Day sin', 'Day cos', outputColumn]].copy()\n",
        "\n",
        "  #Process data columns\n",
        "data = process_data(data)\n",
        "#testData = data.tail(48)\n",
        "\n",
        "  #Shift data\n",
        "shiftDays = 1 \n",
        "shiftSteps = shiftDays * 24\n",
        "\n",
        "shiftedData = data[outputColumn].shift(-shiftSteps)\n",
        "\n",
        "#shiftedData = data\n",
        "#shiftedData[outputColumn] = shiftedData[outputColumn].shift(-shiftSteps)\n",
        "\n",
        "  #Verify shifted data\n",
        "print(data[outputColumn].head(shiftSteps + 5))\n",
        "print(shiftedData.head(5))\n",
        "print(shiftedData.tail()) #this should be NaN, since the data has been shifted backwards (down)\n",
        "\n",
        "  #Set shifted data as new output column\n",
        "data[outputColumn] = shiftedData\n",
        "\n",
        "  #Delete empty rows in tail\n",
        "data.drop(data.tail(shiftSteps).index,inplace=True)\n",
        "print(f'Verify empty tail is removed: {data.tail(shiftDays)}')\n",
        "\n",
        "\n",
        "  #Split data\n",
        "train, test = splitData(data)\n",
        "print(f'Split shifted data: {splitData(data)}')\n",
        "#print(f'Split shifted data: {splitData(shiftedData)}')\n",
        "\n",
        "\n",
        "  #Transform data\n",
        "#train = transformData(data[0], [inputColumn, outputColumn])\n",
        "#test = transformData(data[1], [inputColumn, outputColumn])\n",
        "\n",
        "inputTransformer = RobustScaler()\n",
        "outputTransformer = RobustScaler()\n",
        "\n",
        "inputTransformer = inputTransformer.fit(train[[inputColumn,'Day sin', 'Day cos']].to_numpy())\n",
        "outputTransformer = outputTransformer.fit(train[[outputColumn]]) #No need to transform into numpy\n",
        "\n",
        "train.loc[:, [inputColumn,'Day sin', 'Day cos']] = inputTransformer.transform(train[[inputColumn,'Day sin', 'Day cos']].to_numpy())\n",
        "train[outputColumn] = outputTransformer.transform(train[[outputColumn]])\n",
        "\n",
        "test.loc[:,  [inputColumn,'Day sin', 'Day cos']] = inputTransformer.transform(test[[inputColumn, 'Day sin', 'Day cos']].to_numpy())\n",
        "test[outputColumn] = outputTransformer.transform(test[[outputColumn]])\n",
        "\n",
        "print(f'Transformed test data: {train}')\n",
        "#print(train[[inputColumn, 'Day sin', 'Day cos']])\n",
        "\n",
        "  #Create dataset\n",
        "#input, output = createDatasets(train[inputColumn], train[outputColumn], steps)\n",
        "input, output = createDatasets(train[[inputColumn, 'Day sin', 'Day cos']], train[outputColumn], steps)\n",
        "\n",
        "print(f'Dataset shape set to: {input.shape, output.shape}')\n",
        "print(f'Set model input shape to: {input.shape[0], input.shape[1]}')\n",
        "print(f'Input data: {input}')\n",
        "print(f'Output data: {output}')\n",
        "\n",
        "model = keras.Sequential()\n",
        "\n",
        "model.add(keras.layers.GRU(units=128,\n",
        "             # return_sequences=True,\n",
        "              input_shape=(24, 3))\n",
        "        )\n",
        "model.add(keras.layers.Dropout(rate=0.2))\n",
        "model.add(keras.layers.Dense(units=1))\n",
        "\n",
        "  #Compile model\n",
        "model = compile(model)\n",
        "#model.compile(loss='mean_squared_error', optimizer='adam')\n",
        "\n",
        "  #Fit model\n",
        "history = fit(model, input, output)\n",
        "\n",
        "  #Create test dataset\n",
        "#testInput, testOutput = createDatasets(test, test[outputColumn], steps)\n",
        "testInput, testOutput = createDatasets(test[[inputColumn, 'Day sin', 'Day cos']], test[outputColumn], steps)\n",
        "\n",
        "print(f'Test data shape: {testInput.shape}')\n",
        "print(f'Input: {testInput}')\n",
        "\n",
        "  #Make prediction\n",
        "prediction = make_prediction(model, testInput, False)\n",
        "print(f'Predictions: {prediction}')\n",
        "print(f'Expected output: {testOutput}')\n",
        "\n",
        "  #Inverse transform data\n",
        "predictionInverse = outputTransformer.inverse_transform(prediction)\n",
        "outputTestInv = outputTransformer.inverse_transform(testOutput.reshape(-1, 1))\n",
        "print(f'Inverse transformed predictions: {predictionInverse[20:40]}')\n",
        "print(f'Inverse transformed predictions expected output: {outputTestInv[20:40]}')\n",
        "\n",
        "print(f'Predict vs actual: { np.max(prediction), np.max(testOutput)}')\n",
        "print(f'Predict vs actual: { np.min(prediction), np.min(testOutput)}')\n",
        "\n",
        "\n",
        "#print(f'Prediction output shape: {inverseTransformData(prediction).shape}')\n",
        "#print(f'Prediction values: {inverseTransformData(prediction)}')\n",
        "\n",
        "#print(f'Real values: {data[1].head(20)}')\n",
        "#print(f'Real values: {inverseTransformData(np.reshape(testOutput,(-1,1)))}')\n",
        "#look = inverseTransformData(np.reshape(testOutput,(-1,1)))\n",
        "#print(look[-20:, :])\n",
        "#print(f'Shapes {testOutput.shape, look.shape}')\n",
        "\n",
        "  #Plot predictions vs test data\n",
        "#plt.plot(prediction.flatten(), marker='.', label='true')\n",
        "#plt.plot(testOutput.flatten(), 'r', label='predicted')\n",
        "#plt.legend()\n",
        "\n",
        "\n",
        "  #Plot predictions vs test data\n",
        "plt.plot(outputTestInv.flatten(), marker='.', label='true')\n",
        "plt.plot(predictionInverse.flatten(), 'r', label='predicted')\n",
        "plt.legend()\n",
        "\n",
        "  #Inspect \n",
        "#print(predictionInverse[0:23])\n",
        "#print(outputTestInv[0:23])\n",
        "\n",
        "#testData.loc[:, inputColumn] = inputTransformer.transform(testData[[inputColumn]].to_numpy())\n",
        "#testData[outputColumn] = outputTransformer.transform(testData[[outputColumn]])\n",
        "\n",
        "#testInput, testOutput = createDatasets(testData, testData[outputColumn], steps)\n",
        "\n",
        "#testPred = make_prediction(model, testInput[0:23], False)\n",
        "#print(testInput)\n",
        "#print(testPred)\n",
        "#print(testOutput)\n",
        "\n",
        "  #Save model\n",
        "save_model(model, model_path)\n",
        "\n",
        "'''\n",
        "#MAYBE\n",
        "  #Save transformers\n",
        "with open('input_transformer', 'wb') as config_dictionary_file:\n",
        "    pickle.dump(inputTransformer, config_dictionary_file)\n",
        "  \n",
        "with open('output_transformer', 'wb') as config_dictionary_file:\n",
        "    pickle.dump(outputTransformer, config_dictionary_file)\n",
        "\n",
        "  #Load transformer\n",
        "# Step 2\n",
        "with open('input_transformer', 'rb') as config_dictionary_file:\n",
        " \n",
        "    # Step 3\n",
        "    config_dictionary = pickle.load(config_dictionary_file)\n",
        " \n",
        "    # After config_dictionary is read from file\n",
        "    print(config_dictionary)\n",
        "\n",
        "with open('output_transformer', 'rb') as config_dictionary_file:\n",
        " \n",
        "    # Step 3\n",
        "    config_dictionary2 = pickle.load(config_dictionary_file)\n",
        " \n",
        "    # After config_dictionary is read from file\n",
        "    print(config_dictionary2)\n",
        "\n",
        "save_transformers(inputTransformer, outputTransformer)\n",
        "t1, t2 = load_transformers()\n",
        "\n",
        "arr = [[1, 2, 3],[5, 6, 7]]\n",
        "\n",
        "arr2 = t1.transform(arr)\n",
        "print(arr)\n",
        "print(arr2)\n",
        "\n",
        "arr3 = t2.inverse_transform(arr2)\n",
        "print(arr2)\n",
        "print(arr3)\n",
        "print(outputTransformer.inverse_transform(arr2))\n",
        "\n",
        "Tarr = [[1, 2, 3],[5, 6, 7]]\n",
        "\n",
        "Tarr2 = inputTransformer.transform(Tarr)\n",
        "print(Tarr2)\n",
        "print(outputTransformer.inverse_transform(Tarr2))\n",
        "#MAYBE\n",
        "\n",
        "  #Load model\n",
        "#model2 = load_model(model_path)\n",
        "\n",
        "#model2.summary()\n",
        "'''"
      ],
      "metadata": {
        "id": "YyKYmQJ8RnzY",
        "colab": {
          "base_uri": "https://localhost:8080/",
          "height": 1000
        },
        "outputId": "4bb2c5e3-01af-4123-999f-a341832e469e"
      },
      "execution_count": 27,
      "outputs": [
        {
          "output_type": "stream",
          "name": "stdout",
          "text": [
            "0       2020-10-04 12:00:00\n",
            "1       2020-10-04 13:00:00\n",
            "2       2020-10-04 14:00:00\n",
            "3       2020-10-04 15:00:00\n",
            "4       2020-10-04 16:00:00\n",
            "                ...        \n",
            "15248   2022-07-01 20:00:00\n",
            "15249   2022-07-01 21:00:00\n",
            "15250   2022-07-01 22:00:00\n",
            "15251   2022-07-01 23:00:00\n",
            "15252   2022-07-02 00:00:00\n",
            "Name: DATE, Length: 15253, dtype: datetime64[ns]\n",
            "0        04-10-2020 12:00:00\n",
            "1        04-10-2020 13:00:00\n",
            "2        04-10-2020 14:00:00\n",
            "3        04-10-2020 15:00:00\n",
            "4        04-10-2020 16:00:00\n",
            "                ...         \n",
            "15248    01-07-2022 20:00:00\n",
            "15249    01-07-2022 21:00:00\n",
            "15250    01-07-2022 22:00:00\n",
            "15251    01-07-2022 23:00:00\n",
            "15252    02-07-2022 00:00:00\n",
            "Name: DATE, Length: 15253, dtype: object\n",
            "0        1.601813e+09\n",
            "1        1.601816e+09\n",
            "2        1.601820e+09\n",
            "3        1.601824e+09\n",
            "4        1.601827e+09\n",
            "             ...     \n",
            "15248    1.656706e+09\n",
            "15249    1.656709e+09\n",
            "15250    1.656713e+09\n",
            "15251    1.656716e+09\n",
            "15252    1.656720e+09\n",
            "Name: Seconds, Length: 15253, dtype: float64\n",
            "0        8.069658e-13\n",
            "1       -2.588190e-01\n",
            "2       -5.000000e-01\n",
            "3       -7.071068e-01\n",
            "4       -8.660254e-01\n",
            "             ...     \n",
            "15248   -8.660254e-01\n",
            "15249   -7.071068e-01\n",
            "15250   -5.000000e-01\n",
            "15251   -2.588190e-01\n",
            "15252   -1.212169e-11\n",
            "Name: Day sin, Length: 15253, dtype: float64\n",
            "0       -1.000000\n",
            "1       -0.965926\n",
            "2       -0.866025\n",
            "3       -0.707107\n",
            "4       -0.500000\n",
            "           ...   \n",
            "15248    0.500000\n",
            "15249    0.707107\n",
            "15250    0.866025\n",
            "15251    0.965926\n",
            "15252    1.000000\n",
            "Name: Day cos, Length: 15253, dtype: float64\n",
            "0     0.12\n",
            "1     0.15\n",
            "2     0.14\n",
            "3     0.12\n",
            "4     0.08\n",
            "5     0.03\n",
            "6     0.00\n",
            "7     0.00\n",
            "8     0.00\n",
            "9     0.00\n",
            "10    0.00\n",
            "11    0.00\n",
            "12    0.00\n",
            "13    0.00\n",
            "14    0.00\n",
            "15    0.00\n",
            "16    0.00\n",
            "17    0.00\n",
            "18    0.00\n",
            "19    0.01\n",
            "20    0.03\n",
            "21    0.06\n",
            "22    0.10\n",
            "23    0.11\n",
            "24    0.11\n",
            "25    0.13\n",
            "26    0.14\n",
            "27    0.12\n",
            "28    0.07\n",
            "Name: DiffuseSunPower kW/m², dtype: float64\n",
            "0    0.11\n",
            "1    0.13\n",
            "2    0.14\n",
            "3    0.12\n",
            "4    0.07\n",
            "Name: DiffuseSunPower kW/m², dtype: float64\n",
            "15248   NaN\n",
            "15249   NaN\n",
            "15250   NaN\n",
            "15251   NaN\n",
            "15252   NaN\n",
            "Name: DiffuseSunPower kW/m², dtype: float64\n",
            "Verify empty tail is removed:        SunAltitude °       Day sin  Day cos  DiffuseSunPower kW/m²\n",
            "15228            0.0 -1.868315e-12      1.0                    0.0\n",
            "Split shifted data: (       SunAltitude °       Day sin   Day cos  DiffuseSunPower kW/m²\n",
            "0           0.512254  8.069658e-13 -1.000000                   0.11\n",
            "1           0.510858 -2.588190e-01 -0.965926                   0.13\n",
            "2           0.466701 -5.000000e-01 -0.866025                   0.14\n",
            "3           0.385194 -7.071068e-01 -0.707107                   0.12\n",
            "4           0.275238 -8.660254e-01 -0.500000                   0.07\n",
            "...              ...           ...       ...                    ...\n",
            "13701       0.547510  7.071068e-01 -0.707107                   0.07\n",
            "13702       0.674570  5.000000e-01 -0.866025                   0.06\n",
            "13703       0.774926  2.588190e-01 -0.965926                   0.07\n",
            "13704       0.834616  5.615086e-12 -1.000000                   0.08\n",
            "13705       0.841772 -2.588190e-01 -0.965926                   0.08\n",
            "\n",
            "[13706 rows x 4 columns],        SunAltitude °       Day sin       Day cos  DiffuseSunPower kW/m²\n",
            "13706       0.794648 -5.000000e-01 -8.660254e-01                   0.09\n",
            "13707       0.703193 -7.071068e-01 -7.071068e-01                   0.09\n",
            "13708       0.581893 -8.660254e-01 -5.000000e-01                   0.11\n",
            "13709       0.443488 -9.659258e-01 -2.588190e-01                   0.12\n",
            "13710       0.297928 -1.000000e+00 -8.178430e-12                   0.07\n",
            "...              ...           ...           ...                    ...\n",
            "15224       0.158127 -8.660254e-01  5.000000e-01                   0.01\n",
            "15225       0.039968 -7.071068e-01  7.071068e-01                   0.00\n",
            "15226      -0.064403 -5.000000e-01  8.660254e-01                   0.00\n",
            "15227       0.000000 -2.588190e-01  9.659258e-01                   0.00\n",
            "15228       0.000000 -1.868315e-12  1.000000e+00                   0.00\n",
            "\n",
            "[1523 rows x 4 columns])\n",
            "Transformed test data:        SunAltitude °       Day sin   Day cos  DiffuseSunPower kW/m²\n",
            "0           1.832371  5.848219e-13 -0.707107               1.833333\n",
            "1           1.827376 -1.830127e-01 -0.683013               2.166667\n",
            "2           1.669424 -3.535534e-01 -0.612372               2.333333\n",
            "3           1.377868 -5.000000e-01 -0.500000               2.000000\n",
            "4           0.984548 -6.123724e-01 -0.353553               1.166667\n",
            "...              ...           ...       ...                    ...\n",
            "13701       1.958483  5.000000e-01 -0.500000               1.166667\n",
            "13702       2.412986  3.535534e-01 -0.612372               1.000000\n",
            "13703       2.771968  1.830127e-01 -0.683013               1.166667\n",
            "13704       2.985485  3.984676e-12 -0.707107               1.333333\n",
            "13705       3.011082 -1.830127e-01 -0.683013               1.333333\n",
            "\n",
            "[13706 rows x 4 columns]\n"
          ]
        },
        {
          "output_type": "stream",
          "name": "stderr",
          "text": [
            "/usr/local/lib/python3.7/dist-packages/pandas/core/indexing.py:1732: SettingWithCopyWarning: \n",
            "A value is trying to be set on a copy of a slice from a DataFrame\n",
            "\n",
            "See the caveats in the documentation: https://pandas.pydata.org/pandas-docs/stable/user_guide/indexing.html#returning-a-view-versus-a-copy\n",
            "  self._setitem_single_block(indexer, value, name)\n",
            "/usr/local/lib/python3.7/dist-packages/pandas/core/indexing.py:723: SettingWithCopyWarning: \n",
            "A value is trying to be set on a copy of a slice from a DataFrame\n",
            "\n",
            "See the caveats in the documentation: https://pandas.pydata.org/pandas-docs/stable/user_guide/indexing.html#returning-a-view-versus-a-copy\n",
            "  iloc._setitem_with_indexer(indexer, value, self.name)\n",
            "/usr/local/lib/python3.7/dist-packages/ipykernel_launcher.py:72: SettingWithCopyWarning: \n",
            "A value is trying to be set on a copy of a slice from a DataFrame.\n",
            "Try using .loc[row_indexer,col_indexer] = value instead\n",
            "\n",
            "See the caveats in the documentation: https://pandas.pydata.org/pandas-docs/stable/user_guide/indexing.html#returning-a-view-versus-a-copy\n",
            "/usr/local/lib/python3.7/dist-packages/pandas/core/indexing.py:1732: SettingWithCopyWarning: \n",
            "A value is trying to be set on a copy of a slice from a DataFrame\n",
            "\n",
            "See the caveats in the documentation: https://pandas.pydata.org/pandas-docs/stable/user_guide/indexing.html#returning-a-view-versus-a-copy\n",
            "  self._setitem_single_block(indexer, value, name)\n",
            "/usr/local/lib/python3.7/dist-packages/pandas/core/indexing.py:723: SettingWithCopyWarning: \n",
            "A value is trying to be set on a copy of a slice from a DataFrame\n",
            "\n",
            "See the caveats in the documentation: https://pandas.pydata.org/pandas-docs/stable/user_guide/indexing.html#returning-a-view-versus-a-copy\n",
            "  iloc._setitem_with_indexer(indexer, value, self.name)\n",
            "/usr/local/lib/python3.7/dist-packages/ipykernel_launcher.py:75: SettingWithCopyWarning: \n",
            "A value is trying to be set on a copy of a slice from a DataFrame.\n",
            "Try using .loc[row_indexer,col_indexer] = value instead\n",
            "\n",
            "See the caveats in the documentation: https://pandas.pydata.org/pandas-docs/stable/user_guide/indexing.html#returning-a-view-versus-a-copy\n"
          ]
        },
        {
          "output_type": "stream",
          "name": "stdout",
          "text": [
            "Dataset shape set to: ((13682, 24, 3), (13682,))\n",
            "Set model input shape to: (13682, 24)\n",
            "Input data: [[[ 1.83237084e+00  5.84821853e-13 -7.07106781e-01]\n",
            "  [ 1.82737631e+00 -1.83012702e-01 -6.83012702e-01]\n",
            "  [ 1.66942407e+00 -3.53553391e-01 -6.12372436e-01]\n",
            "  ...\n",
            "  [ 9.93288591e-01  5.00000000e-01 -5.00000000e-01]\n",
            "  [ 1.37974091e+00  3.53553391e-01 -6.12372436e-01]\n",
            "  [ 1.66130794e+00  1.83012702e-01 -6.83012702e-01]]\n",
            "\n",
            " [[ 1.82737631e+00 -1.83012702e-01 -6.83012702e-01]\n",
            "  [ 1.66942407e+00 -3.53553391e-01 -6.12372436e-01]\n",
            "  [ 1.37786796e+00 -5.00000000e-01 -5.00000000e-01]\n",
            "  ...\n",
            "  [ 1.37974091e+00  3.53553391e-01 -6.12372436e-01]\n",
            "  [ 1.66130794e+00  1.83012702e-01 -6.83012702e-01]\n",
            "  [ 1.80864679e+00  7.83505398e-12 -7.07106781e-01]]\n",
            "\n",
            " [[ 1.66942407e+00 -3.53553391e-01 -6.12372436e-01]\n",
            "  [ 1.37786796e+00 -5.00000000e-01 -5.00000000e-01]\n",
            "  [ 9.84548150e-01 -6.12372436e-01 -3.53553391e-01]\n",
            "  ...\n",
            "  [ 1.66130794e+00  1.83012702e-01 -6.83012702e-01]\n",
            "  [ 1.80864679e+00  7.83505398e-12 -7.07106781e-01]\n",
            "  [ 1.80302794e+00 -1.83012702e-01 -6.83012702e-01]]\n",
            "\n",
            " ...\n",
            "\n",
            " [[ 2.75261433e+00  1.83012702e-01 -6.83012702e-01]\n",
            "  [ 2.96613079e+00  7.02420223e-12 -7.07106781e-01]\n",
            "  [ 2.99172780e+00 -1.83012702e-01 -6.83012702e-01]\n",
            "  ...\n",
            "  [ 1.45278602e+00  6.12372436e-01 -3.53553391e-01]\n",
            "  [ 1.95848291e+00  5.00000000e-01 -5.00000000e-01]\n",
            "  [ 2.41298580e+00  3.53553391e-01 -6.12372436e-01]]\n",
            "\n",
            " [[ 2.96613079e+00  7.02420223e-12 -7.07106781e-01]\n",
            "  [ 2.99172780e+00 -1.83012702e-01 -6.83012702e-01]\n",
            "  [ 2.82441080e+00 -3.53553391e-01 -6.12372436e-01]\n",
            "  ...\n",
            "  [ 1.95848291e+00  5.00000000e-01 -5.00000000e-01]\n",
            "  [ 2.41298580e+00  3.53553391e-01 -6.12372436e-01]\n",
            "  [ 2.77196816e+00  1.83012702e-01 -6.83012702e-01]]\n",
            "\n",
            " [[ 2.99172780e+00 -1.83012702e-01 -6.83012702e-01]\n",
            "  [ 2.82441080e+00 -3.53553391e-01 -6.12372436e-01]\n",
            "  [ 2.49851725e+00 -5.00000000e-01 -5.00000000e-01]\n",
            "  ...\n",
            "  [ 2.41298580e+00  3.53553391e-01 -6.12372436e-01]\n",
            "  [ 2.77196816e+00  1.83012702e-01 -6.83012702e-01]\n",
            "  [ 2.98548463e+00  3.98467642e-12 -7.07106781e-01]]]\n",
            "Output data: [2.         2.         2.33333333 ... 1.16666667 1.33333333 1.33333333]\n",
            "Epoch 1/20\n",
            "385/385 [==============================] - 13s 27ms/step - loss: 0.2003 - mean_absolute_error: 0.2740 - val_loss: 0.2248 - val_mean_absolute_error: 0.2937\n",
            "Epoch 2/20\n",
            "385/385 [==============================] - 10s 26ms/step - loss: 0.1825 - mean_absolute_error: 0.2490 - val_loss: 0.2152 - val_mean_absolute_error: 0.2783\n",
            "Epoch 3/20\n",
            "385/385 [==============================] - 10s 26ms/step - loss: 0.1758 - mean_absolute_error: 0.2424 - val_loss: 0.2138 - val_mean_absolute_error: 0.2760\n",
            "Epoch 4/20\n",
            "385/385 [==============================] - 10s 26ms/step - loss: 0.1767 - mean_absolute_error: 0.2392 - val_loss: 0.2142 - val_mean_absolute_error: 0.2748\n",
            "Epoch 5/20\n",
            "385/385 [==============================] - 10s 26ms/step - loss: 0.1720 - mean_absolute_error: 0.2351 - val_loss: 0.2129 - val_mean_absolute_error: 0.2736\n",
            "Epoch 6/20\n",
            "385/385 [==============================] - 10s 26ms/step - loss: 0.1713 - mean_absolute_error: 0.2323 - val_loss: 0.2125 - val_mean_absolute_error: 0.2731\n",
            "Epoch 7/20\n",
            "385/385 [==============================] - 10s 26ms/step - loss: 0.1683 - mean_absolute_error: 0.2284 - val_loss: 0.2114 - val_mean_absolute_error: 0.2793\n",
            "Epoch 8/20\n",
            "385/385 [==============================] - 13s 33ms/step - loss: 0.1670 - mean_absolute_error: 0.2243 - val_loss: 0.2149 - val_mean_absolute_error: 0.2836\n",
            "Epoch 9/20\n",
            "385/385 [==============================] - 16s 42ms/step - loss: 0.1680 - mean_absolute_error: 0.2261 - val_loss: 0.2123 - val_mean_absolute_error: 0.2863\n",
            "Epoch 10/20\n",
            "385/385 [==============================] - 10s 25ms/step - loss: 0.1666 - mean_absolute_error: 0.2248 - val_loss: 0.2096 - val_mean_absolute_error: 0.2819\n",
            "Epoch 11/20\n",
            "385/385 [==============================] - 10s 26ms/step - loss: 0.1647 - mean_absolute_error: 0.2236 - val_loss: 0.2123 - val_mean_absolute_error: 0.2849\n",
            "Epoch 12/20\n",
            "385/385 [==============================] - 10s 26ms/step - loss: 0.1652 - mean_absolute_error: 0.2223 - val_loss: 0.2141 - val_mean_absolute_error: 0.2882\n",
            "Epoch 13/20\n",
            "385/385 [==============================] - 12s 32ms/step - loss: 0.1665 - mean_absolute_error: 0.2247 - val_loss: 0.2158 - val_mean_absolute_error: 0.2909\n",
            "Test data shape: (1499, 24, 3)\n",
            "Input: [[[ 2.84251600e+00 -3.53553391e-01 -6.12372436e-01]\n",
            "  [ 2.51537381e+00 -5.00000000e-01 -5.00000000e-01]\n",
            "  [ 2.08147339e+00 -6.12372436e-01 -3.53553391e-01]\n",
            "  ...\n",
            "  [ 2.79132199e+00  1.83012702e-01 -6.83012702e-01]\n",
            "  [ 3.00546278e+00  9.45150611e-13 -7.07106781e-01]\n",
            "  [ 3.03043546e+00 -1.83012702e-01 -6.83012702e-01]]\n",
            "\n",
            " [[ 2.51537381e+00 -5.00000000e-01 -5.00000000e-01]\n",
            "  [ 2.08147339e+00 -6.12372436e-01 -3.53553391e-01]\n",
            "  [ 1.58638989e+00 -6.83012702e-01 -1.83012702e-01]\n",
            "  ...\n",
            "  [ 3.00546278e+00  9.45150611e-13 -7.07106781e-01]\n",
            "  [ 3.03043546e+00 -1.83012702e-01 -6.83012702e-01]\n",
            "  [ 2.86062120e+00 -3.53553391e-01 -6.12372436e-01]]\n",
            "\n",
            " [[ 2.08147339e+00 -6.12372436e-01 -3.53553391e-01]\n",
            "  [ 1.58638989e+00 -6.83012702e-01 -1.83012702e-01]\n",
            "  [ 1.06570938e+00 -7.07106781e-01 -5.76951686e-12]\n",
            "  ...\n",
            "  [ 3.03043546e+00 -1.83012702e-01 -6.83012702e-01]\n",
            "  [ 2.86062120e+00 -3.53553391e-01 -6.12372436e-01]\n",
            "  [ 2.53223037e+00 -5.00000000e-01 -5.00000000e-01]]\n",
            "\n",
            " ...\n",
            "\n",
            " [[-2.27875761e-01 -3.53553391e-01  6.12372436e-01]\n",
            "  [ 0.00000000e+00 -1.83012702e-01  6.83012702e-01]\n",
            "  [ 0.00000000e+00 -4.34641347e-12  7.07106781e-01]\n",
            "  ...\n",
            "  [ 1.04885282e+00 -6.83012702e-01  1.83012702e-01]\n",
            "  [ 5.65631341e-01 -6.12372436e-01  3.53553391e-01]\n",
            "  [ 1.42968628e-01 -5.00000000e-01  5.00000000e-01]]\n",
            "\n",
            " [[ 0.00000000e+00 -1.83012702e-01  6.83012702e-01]\n",
            "  [ 0.00000000e+00 -4.34641347e-12  7.07106781e-01]\n",
            "  [ 0.00000000e+00  1.83012702e-01  6.83012702e-01]\n",
            "  ...\n",
            "  [ 5.65631341e-01 -6.12372436e-01  3.53553391e-01]\n",
            "  [ 1.42968628e-01 -5.00000000e-01  5.00000000e-01]\n",
            "  [-2.30373029e-01 -3.53553391e-01  6.12372436e-01]]\n",
            "\n",
            " [[ 0.00000000e+00 -4.34641347e-12  7.07106781e-01]\n",
            "  [ 0.00000000e+00  1.83012702e-01  6.83012702e-01]\n",
            "  [ 0.00000000e+00  3.53553391e-01  6.12372436e-01]\n",
            "  ...\n",
            "  [ 1.42968628e-01 -5.00000000e-01  5.00000000e-01]\n",
            "  [-2.30373029e-01 -3.53553391e-01  6.12372436e-01]\n",
            "  [ 0.00000000e+00 -1.83012702e-01  6.83012702e-01]]]\n",
            "47/47 [==============================] - 1s 8ms/step\n",
            "Predictions: [[1.9680372 ]\n",
            " [1.8088019 ]\n",
            " [1.5701565 ]\n",
            " ...\n",
            " [0.12572592]\n",
            " [0.08924849]\n",
            " [0.08650181]]\n",
            "Expected output: [2.5        2.16666667 1.5        ... 0.         0.         0.        ]\n",
            "Inverse transformed predictions: [[0.0994226 ]\n",
            " [0.11390982]\n",
            " [0.12115657]\n",
            " [0.12251759]\n",
            " [0.11864721]\n",
            " [0.10910042]\n",
            " [0.09478398]\n",
            " [0.0755961 ]\n",
            " [0.05049838]\n",
            " [0.02097597]\n",
            " [0.00359565]\n",
            " [0.00457264]\n",
            " [0.00294868]\n",
            " [0.00306809]\n",
            " [0.00373235]\n",
            " [0.00348973]\n",
            " [0.00337965]\n",
            " [0.00317183]\n",
            " [0.00292051]\n",
            " [0.00281437]]\n",
            "Inverse transformed predictions expected output: [[0.17]\n",
            " [0.22]\n",
            " [0.22]\n",
            " [0.14]\n",
            " [0.19]\n",
            " [0.16]\n",
            " [0.12]\n",
            " [0.15]\n",
            " [0.09]\n",
            " [0.03]\n",
            " [0.01]\n",
            " [0.  ]\n",
            " [0.  ]\n",
            " [0.  ]\n",
            " [0.  ]\n",
            " [0.  ]\n",
            " [0.  ]\n",
            " [0.  ]\n",
            " [0.  ]\n",
            " [0.  ]]\n",
            "Predict vs actual: (2.2924373, 4.0)\n",
            "Predict vs actual: (-0.014802635, 0.0)\n"
          ]
        },
        {
          "output_type": "stream",
          "name": "stderr",
          "text": [
            "WARNING:absl:Found untraced functions such as gru_cell_layer_call_fn, gru_cell_layer_call_and_return_conditional_losses while saving (showing 2 of 2). These functions will not be directly callable after loading.\n"
          ]
        },
        {
          "output_type": "stream",
          "name": "stdout",
          "text": [
            "RobustScaler()\n",
            "RobustScaler()\n",
            "Transformers have been saved succesfully\n",
            "[[1, 2, 3], [5, 6, 7]]\n",
            "[[ 3.5770738   1.41421356  2.12132034]\n",
            " [17.88536898  4.24264069  4.94974747]]\n",
            "[[ 3.5770738   1.41421356  2.12132034]\n",
            " [17.88536898  4.24264069  4.94974747]]\n",
            "[[0.21462443 0.08485281 0.12727922]\n",
            " [1.07312214 0.25455844 0.29698485]]\n",
            "[[0.21462443 0.08485281 0.12727922]\n",
            " [1.07312214 0.25455844 0.29698485]]\n",
            "[[ 3.5770738   1.41421356  2.12132034]\n",
            " [17.88536898  4.24264069  4.94974747]]\n",
            "[[0.21462443 0.08485281 0.12727922]\n",
            " [1.07312214 0.25455844 0.29698485]]\n"
          ]
        },
        {
          "output_type": "display_data",
          "data": {
            "text/plain": [
              "<Figure size 432x288 with 1 Axes>"
            ],
            "image/png": "[encoded data removed]"
          },
          "metadata": {
            "needs_background": "light"
          }
        }
      ]
    },
    {
      "cell_type": "markdown",
      "source": [
        "**GRU 4 inputs**"
      ],
      "metadata": {
        "id": "mFKnqxJsbn32"
      }
    },
    {
      "cell_type": "code",
      "source": [
        "'''  \n",
        "  #Load data\n",
        "data = load_data(historical_data)\n",
        "\n",
        "\n",
        "#PRETTIFY#\n",
        "  #Get date to cos sine values\n",
        "dateColumn = pd.to_datetime(data['DATE'], format='%d-%m-%Y %H:%M:%S')  # convert the index to datetime\n",
        "print(dateColumn)\n",
        "print(data['DATE'])\n",
        "\n",
        "data['Seconds'] = dateColumn.map(pd.Timestamp.timestamp)  # convert the index to seconds\n",
        "print(data['Seconds'])\n",
        "\n",
        "\n",
        "day = 60*60*24  # get the number of seconds in a day\n",
        "data['Day sin']  = np.sin(data['Seconds'] * (2 * np.pi / day))  # add the sin of the seconds\n",
        "data['Day cos']  = np.cos(data['Seconds'] * (2 * np.pi / day))  # add the cos of the seconds\n",
        "\n",
        "print(data['Day sin'])\n",
        "print(data['Day cos'])\n",
        "\n",
        "#data = data.drop('Seconds', axis=1) # remove the seconds column\n",
        "#data = data.drop(\"Time\", axis=1)  # remove the time column\n",
        "#PRETTIFY#\n",
        "\n",
        "  #Isolate data\n",
        "data = data[[inputColumn, 'Day sin', 'Day cos', outputColumn]].copy()\n",
        "\n",
        "  #Process data columns\n",
        "data = process_data(data)\n",
        "#testData = data.tail(48)\n",
        "\n",
        "  #Shift data\n",
        "shiftDays = 1 \n",
        "shiftSteps = shiftDays * 24\n",
        "\n",
        "shiftedData = data[outputColumn].shift(-shiftSteps)\n",
        "\n",
        "#shiftedData = data\n",
        "#shiftedData[outputColumn] = shiftedData[outputColumn].shift(-shiftSteps)\n",
        "\n",
        "  #Verify shifted data\n",
        "print(data[outputColumn].head(shiftSteps + 5))\n",
        "print(shiftedData.head(5))\n",
        "print(shiftedData.tail()) #this should be NaN, since the data has been shifted backwards (down)\n",
        "\n",
        "  #Set shifted data as new output column\n",
        "#data[outputColumn] = shiftedData\n",
        "data['Shifted'] = shiftedData\n",
        "\n",
        "  #Delete empty rows in tail\n",
        "data.drop(data.tail(shiftSteps).index,inplace=True)\n",
        "print(f'Verify empty tail is removed: {data.tail(shiftDays)}')\n",
        "\n",
        "\n",
        "  #Split data\n",
        "train, test = splitData(data)\n",
        "print(f'Split shifted data: {splitData(data)}')\n",
        "#print(f'Split shifted data: {splitData(shiftedData)}')\n",
        "\n",
        "\n",
        "  #Transform data\n",
        "#train = transformData(data[0], [inputColumn, outputColumn])\n",
        "#test = transformData(data[1], [inputColumn, outputColumn])\n",
        "\n",
        "inputTransformer = RobustScaler()\n",
        "outputTransformer = RobustScaler()\n",
        "\n",
        "inputTransformer = inputTransformer.fit(train[[inputColumn,'Day sin', 'Day cos', outputColumn]].to_numpy())\n",
        "outputTransformer = outputTransformer.fit(train[['Shifted']]) #No need to transform into numpy\n",
        "\n",
        "train.loc[:, [inputColumn,'Day sin', 'Day cos', outputColumn]] = inputTransformer.transform(train[[inputColumn,'Day sin', 'Day cos', outputColumn]].to_numpy())\n",
        "train['Shifted'] = outputTransformer.transform(train[['Shifted']])\n",
        "\n",
        "test.loc[:,  [inputColumn,'Day sin', 'Day cos', outputColumn]] = inputTransformer.transform(test[[inputColumn, 'Day sin', 'Day cos', outputColumn]].to_numpy())\n",
        "test['Shifted'] = outputTransformer.transform(test[['Shifted']])\n",
        "\n",
        "print(f'Transformed test data: {train}')\n",
        "#print(train[[inputColumn, 'Day sin', 'Day cos']])\n",
        "\n",
        "  #Create dataset\n",
        "#input, output = createDatasets(train[inputColumn], train[outputColumn], steps)\n",
        "input, output = createDatasets(train[[inputColumn, 'Day sin', 'Day cos', outputColumn]], train['Shifted'], steps)\n",
        "\n",
        "print(f'Dataset shape set to: {input.shape, output.shape}')\n",
        "print(f'Set model input shape to: {input.shape[0], input.shape[1]}')\n",
        "print(f'Input data: {input}')\n",
        "print(f'Output data: {output}')\n",
        "\n",
        "model = keras.Sequential()\n",
        "\n",
        "model.add(keras.layers.GRU(units=128,\n",
        "             # return_sequences=True,\n",
        "              input_shape=(24, 4))\n",
        "        )\n",
        "model.add(keras.layers.Dropout(rate=0.2))\n",
        "model.add(keras.layers.Dense(units=1))\n",
        "\n",
        "  #Compile model\n",
        "model = compile(model)\n",
        "#model.compile(loss='mean_squared_error', optimizer='adam')\n",
        "\n",
        "  #Fit model\n",
        "history = fit(model, input, output)\n",
        "\n",
        "  #Create test dataset\n",
        "#testInput, testOutput = createDatasets(test, test[outputColumn], steps)\n",
        "testInput, testOutput = createDatasets(test[[inputColumn, 'Day sin', 'Day cos', outputColumn]], test['Shifted'], steps)\n",
        "\n",
        "print(f'Test data shape: {testInput.shape}')\n",
        "print(f'Input: {testInput}')\n",
        "\n",
        "  #Make prediction\n",
        "prediction = make_prediction(model, testInput, False)\n",
        "print(f'Predictions: {prediction}')\n",
        "print(f'Expected output: {testOutput}')\n",
        "\n",
        "  #Inverse transform data\n",
        "predictionInverse = outputTransformer.inverse_transform(prediction)\n",
        "outputTestInv = outputTransformer.inverse_transform(testOutput.reshape(-1, 1))\n",
        "print(f'Inverse transformed predictions: {predictionInverse[20:40]}')\n",
        "print(f'Inverse transformed predictions expected output: {outputTestInv[20:40]}')\n",
        "\n",
        "print(f'Predict vs actual: { np.max(prediction), np.max(testOutput)}')\n",
        "print(f'Predict vs actual: { np.min(prediction), np.min(testOutput)}')\n",
        "\n",
        "\n",
        "#print(f'Prediction output shape: {inverseTransformData(prediction).shape}')\n",
        "#print(f'Prediction values: {inverseTransformData(prediction)}')\n",
        "\n",
        "#print(f'Real values: {data[1].head(20)}')\n",
        "#print(f'Real values: {inverseTransformData(np.reshape(testOutput,(-1,1)))}')\n",
        "#look = inverseTransformData(np.reshape(testOutput,(-1,1)))\n",
        "#print(look[-20:, :])\n",
        "#print(f'Shapes {testOutput.shape, look.shape}')\n",
        "\n",
        "  #Plot predictions vs test data\n",
        "#plt.plot(prediction.flatten(), marker='.', label='true')\n",
        "#plt.plot(testOutput.flatten(), 'r', label='predicted')\n",
        "#plt.legend()\n",
        "\n",
        "\n",
        "  #Plot predictions vs test data\n",
        "plt.plot(outputTestInv.flatten(), marker='.', label='true')\n",
        "plt.plot(predictionInverse.flatten(), 'r', label='predicted')\n",
        "plt.legend()\n",
        "\n",
        "  #Inspect \n",
        "#print(predictionInverse[0:23])\n",
        "#print(outputTestInv[0:23])\n",
        "\n",
        "#testData.loc[:, inputColumn] = inputTransformer.transform(testData[[inputColumn]].to_numpy())\n",
        "#testData[outputColumn] = outputTransformer.transform(testData[[outputColumn]])\n",
        "\n",
        "#testInput, testOutput = createDatasets(testData, testData[outputColumn], steps)\n",
        "\n",
        "#testPred = make_prediction(model, testInput[0:23], False)\n",
        "#print(testInput)\n",
        "#print(testPred)\n",
        "#print(testOutput)\n",
        "\n",
        "  #Save model\n",
        "save_model(model, model_path)\n",
        "\n",
        "\n",
        "#MAYBE\n",
        "  #Save transformers\n",
        "with open('input_transformer', 'wb') as config_dictionary_file:\n",
        "    pickle.dump(inputTransformer, config_dictionary_file)\n",
        "  \n",
        "with open('output_transformer', 'wb') as config_dictionary_file:\n",
        "    pickle.dump(outputTransformer, config_dictionary_file)\n",
        "\n",
        "  #Load transformer\n",
        "# Step 2\n",
        "with open('input_transformer', 'rb') as config_dictionary_file:\n",
        " \n",
        "    # Step 3\n",
        "    config_dictionary = pickle.load(config_dictionary_file)\n",
        " \n",
        "    # After config_dictionary is read from file\n",
        "    print(config_dictionary)\n",
        "\n",
        "with open('output_transformer', 'rb') as config_dictionary_file:\n",
        " \n",
        "    # Step 3\n",
        "    config_dictionary2 = pickle.load(config_dictionary_file)\n",
        " \n",
        "    # After config_dictionary is read from file\n",
        "    print(config_dictionary2)\n",
        "\n",
        "save_transformers(inputTransformer, outputTransformer)\n",
        "t1, t2 = load_transformers()\n",
        "\n",
        "arr = [[1, 2, 3],[5, 6, 7]]\n",
        "\n",
        "arr2 = t1.transform(arr)\n",
        "print(arr)\n",
        "print(arr2)\n",
        "\n",
        "arr3 = t2.inverse_transform(arr2)\n",
        "print(arr2)\n",
        "print(arr3)\n",
        "print(outputTransformer.inverse_transform(arr2))\n",
        "\n",
        "Tarr = [[1, 2, 3],[5, 6, 7]]\n",
        "\n",
        "Tarr2 = inputTransformer.transform(Tarr)\n",
        "print(Tarr2)\n",
        "print(outputTransformer.inverse_transform(Tarr2))\n",
        "#MAYBE\n",
        "\n",
        "  #Load model\n",
        "#model2 = load_model(model_path)\n",
        "\n",
        "#model2.summary()\n",
        "'''\n"
      ],
      "metadata": {
        "id": "06eeAJIsbqFp"
      },
      "execution_count": null,
      "outputs": []
    },
    {
      "cell_type": "markdown",
      "source": [
        "**Method to test models**"
      ],
      "metadata": {
        "id": "dtJX6O8NV6nu"
      }
    },
    {
      "cell_type": "code",
      "source": [
        "'''\n",
        "def model_test(model):\n",
        "    #Load data\n",
        "    data = load_data(historical_data)\n",
        "\n",
        "      #Isolate data\n",
        "    data = data[[inputColumn, outputColumn]].copy()\n",
        "\n",
        "      #Process data columns\n",
        "    data = process_data(data)\n",
        "    testData = data.tail(48)\n",
        "\n",
        "      #Shift data\n",
        "    shiftDays = 1 \n",
        "    shiftSteps = shiftDays * 24\n",
        "\n",
        "    shiftedData = data[outputColumn].shift(-shiftSteps)\n",
        "\n",
        "    #shiftedData = data\n",
        "    #shiftedData[outputColumn] = shiftedData[outputColumn].shift(-shiftSteps)\n",
        "\n",
        "      #Verify shifted data\n",
        "    print(data[outputColumn].head(shiftSteps + 5))\n",
        "    print(shiftedData.head(5))\n",
        "    print(shiftedData.tail()) #this should be NaN, since the data has been shifted backwards (down)\n",
        "\n",
        "      #Set shifted data as new output column\n",
        "    data[outputColumn] = shiftedData\n",
        "\n",
        "      #Delete empty rows in tail\n",
        "    data.drop(data.tail(shiftSteps).index,inplace=True)\n",
        "    print(f'Verify empty tail is removed: {data.tail(shiftDays)}')\n",
        "\n",
        "\n",
        "      #Split data\n",
        "    train, test = splitData(data)\n",
        "    print(f'Split shifted data: {splitData(data)}')\n",
        "    #print(f'Split shifted data: {splitData(shiftedData)}')\n",
        "\n",
        "\n",
        "      #Transform data\n",
        "    #train = transformData(data[0], [inputColumn, outputColumn])\n",
        "    #test = transformData(data[1], [inputColumn, outputColumn])\n",
        "\n",
        "    inputTransformer = RobustScaler()\n",
        "    outputTransformer = RobustScaler()\n",
        "\n",
        "    inputTransformer = inputTransformer.fit(train[[inputColumn]].to_numpy())\n",
        "    outputTransformer = outputTransformer.fit(train[[outputColumn]]) #No need to transform into numpy\n",
        "\n",
        "    train.loc[:, inputColumn] = inputTransformer.transform(train[[inputColumn]].to_numpy())\n",
        "    train[outputColumn] = outputTransformer.transform(train[[outputColumn]])\n",
        "\n",
        "    test.loc[:, inputColumn] = inputTransformer.transform(test[[inputColumn]].to_numpy())\n",
        "    test[outputColumn] = outputTransformer.transform(test[[outputColumn]])\n",
        "\n",
        "    print(f'Test data: {train}')\n",
        "\n",
        "\n",
        "      #Create dataset\n",
        "    #input, output = createDatasets(train[inputColumn], train[outputColumn], steps)\n",
        "    input, output = createDatasets(train, train[outputColumn], steps)\n",
        "\n",
        "    print(f'Dataset shape set to: {input.shape, output.shape}')\n",
        "    print(f'Set model input shape to: {input.shape[0], input.shape[1]}')\n",
        "    print(f'Input data: {input}')\n",
        "    print(f'Output data: {output}')\n",
        "\n",
        "      #Build model\n",
        "    #model = keras.Sequential()\n",
        "    #model.add(\n",
        "   #   keras.layers.Bidirectional(\n",
        "   #     keras.layers.LSTM(\n",
        "   #       units=128, \n",
        "   #       input_shape=(input.shape[1], input.shape[2])\n",
        "          #input_shape=(input.shape[0], input.shape[1])\n",
        "   #     )\n",
        "   #   )\n",
        "  #  )\n",
        "  #  model.add(keras.layers.Dropout(rate=0.2))\n",
        "  #  model.add(keras.layers.Dense(units=1))\n",
        "\n",
        "      #Compile model\n",
        "    model = compile(model)\n",
        "    #model.compile(loss='mean_squared_error', optimizer='adam')\n",
        "\n",
        "      #Fit model\n",
        "    history = fit(model, input, output)\n",
        "\n",
        "      #Create test dataset\n",
        "    testInput, testOutput = createDatasets(test, test[outputColumn], steps)\n",
        "    print(f'Test data shape: {testInput.shape}')\n",
        "    print(f'Input: {testInput}')\n",
        "\n",
        "      #Evaluate model \n",
        "    print(\"EVALUATION START\")  \n",
        "    scores = model.evaluate(testInput, testOutput, verbose=0)\n",
        "    print(\"%s: %.2f%%\" % (model.metrics_names[1], scores[1])) \n",
        "   \n",
        "    cvscores = []\n",
        "    cvscores.append(scores[1])\n",
        " \n",
        "    print(\"%.2f%% (+/- %.2f%%)\" % (np.mean(cvscores), np.std(cvscores)))\n",
        "    print(\"EVALUATION END\")  \n",
        "\n",
        "      #Make prediction\n",
        "    prediction = make_prediction(model, testInput, False)\n",
        "    print(f'Predictions: {prediction}')\n",
        "\n",
        "      #Inverse transform data\n",
        "    predictionInverse = outputTransformer.inverse_transform(prediction)\n",
        "    outputTestInv = outputTransformer.inverse_transform(testOutput.reshape(-1, 1))\n",
        "\n",
        "    #print(f'Prediction output shape: {inverseTransformData(prediction).shape}')\n",
        "    #print(f'Prediction values: {inverseTransformData(prediction)}')\n",
        "\n",
        "    #print(f'Real values: {data[1].head(20)}')\n",
        "    #print(f'Real values: {inverseTransformData(np.reshape(testOutput,(-1,1)))}')\n",
        "    #look = inverseTransformData(np.reshape(testOutput,(-1,1)))\n",
        "    #print(look[-20:, :])\n",
        "    #print(f'Shapes {testOutput.shape, look.shape}')\n",
        "\n",
        "\n",
        "      #Plot predictions vs test data\n",
        "    plt.plot(outputTestInv.flatten(), marker='.', label='true')\n",
        "    plt.plot(predictionInverse.flatten(), 'r', label='predicted')\n",
        "    plt.legend()\n",
        "\n",
        "      #Inspect \n",
        "    print(predictionInverse[0:23])\n",
        "    print(outputTestInv[23:47])\n",
        "\n",
        "    print(make_prediction(model, testData[0:23], False))\n",
        "    print(testData)\n",
        "    return history\n",
        "    '''"
      ],
      "metadata": {
        "id": "jTVNLPQNWDuG"
      },
      "execution_count": null,
      "outputs": []
    },
    {
      "cell_type": "markdown",
      "source": [
        "**Model tester**"
      ],
      "metadata": {
        "id": "f9ZtPv76kQeJ"
      }
    },
    {
      "cell_type": "code",
      "source": [
        "'''\n",
        "GRU2 = keras.Sequential()\n",
        "\n",
        "GRU2.add(keras.layers.GRU(units=128,\n",
        "             # return_sequences=True,\n",
        "              input_shape=(24, 2))\n",
        "        )\n",
        "GRU2.add(keras.layers.Dropout(rate=0.2))\n",
        "GRU2.add(keras.layers.Dense(units=1))\n",
        "\n",
        "\n",
        "perf_history['GRU2'] = model_test(GRU2) '''"
      ],
      "metadata": {
        "id": "bQm-bEBmBJUY"
      },
      "execution_count": null,
      "outputs": []
    }
  ]
}